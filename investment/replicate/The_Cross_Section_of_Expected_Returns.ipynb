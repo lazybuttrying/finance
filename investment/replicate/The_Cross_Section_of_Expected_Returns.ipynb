{
 "cells": [
  {
   "cell_type": "markdown",
   "metadata": {},
   "source": [
    "https://www.jstor.org/stable/2329112"
   ]
  },
  {
   "cell_type": "code",
   "execution_count": 47,
   "metadata": {},
   "outputs": [],
   "source": [
    "import pandas as pd\n",
    "import numpy as np\n",
    "import statsmodels.api as sm\n",
    "import seaborn as sns\n",
    "import matplotlib.pyplot as plt\n",
    "\n",
    "np.random.seed(42)"
   ]
  },
  {
   "cell_type": "markdown",
   "metadata": {},
   "source": [
    "# Random data"
   ]
  },
  {
   "cell_type": "code",
   "execution_count": 116,
   "metadata": {},
   "outputs": [
    {
     "name": "stdout",
     "output_type": "stream",
     "text": [
      "The number of dates: (330,)\n",
      "Sample of dates: DatetimeIndex(['1963-07-31', '1963-08-31', '1963-09-30'], dtype='datetime64[ns]', freq='ME')\n",
      "Sample of returns:\n"
     ]
    },
    {
     "data": {
      "text/plain": [
       "(Stock0   -0.045765\n",
       " Stock1    0.015384\n",
       " Stock2   -0.009275\n",
       " Stock3    0.016755\n",
       " Stock4   -0.024138\n",
       " Stock5   -0.001668\n",
       " Stock6    0.047822\n",
       " Stock7   -0.017585\n",
       " Stock8    0.021517\n",
       " Stock9   -0.010576\n",
       " Name: 0, dtype: float64,\n",
       " -0.007528816825977766)"
      ]
     },
     "execution_count": 116,
     "metadata": {},
     "output_type": "execute_result"
    }
   ],
   "source": [
    "stock_n = 10 # 개별 주식 수\n",
    "dates = pd.date_range(start='1963-07-01', end='1990-12-31', freq='ME')\n",
    "returns = pd.DataFrame(\n",
    "    {f\"Stock{i}\": np.random.uniform(-0.05, 0.05, dates.shape[0]) \n",
    "    for i in range(stock_n)})\n",
    "print(\"The number of dates:\", dates.shape)\n",
    "print(\"Sample of dates:\", dates[:3])\n",
    "print(\"Sample of returns:\")\n",
    "returns.iloc[0], sum(returns.iloc[0])"
   ]
  },
  {
   "cell_type": "code",
   "execution_count": 117,
   "metadata": {},
   "outputs": [
    {
     "data": {
      "text/plain": [
       "0     -0.007529\n",
       "1     -0.142868\n",
       "2     -0.039662\n",
       "3     -0.006617\n",
       "4      0.181774\n",
       "         ...   \n",
       "325   -0.093531\n",
       "326    0.005799\n",
       "327   -0.066319\n",
       "328    0.105494\n",
       "329    0.156561\n",
       "Length: 330, dtype: float64"
      ]
     },
     "execution_count": 117,
     "metadata": {},
     "output_type": "execute_result"
    }
   ],
   "source": [
    "portfolio_returns = returns.sum(axis=1)\n",
    "portfolio_returns"
   ]
  },
  {
   "cell_type": "code",
   "execution_count": 118,
   "metadata": {},
   "outputs": [],
   "source": [
    "portfolio_rolled_returns = None"
   ]
  },
  {
   "cell_type": "code",
   "execution_count": 119,
   "metadata": {},
   "outputs": [
    {
     "data": {
      "text/html": [
       "<div>\n",
       "<style scoped>\n",
       "    .dataframe tbody tr th:only-of-type {\n",
       "        vertical-align: middle;\n",
       "    }\n",
       "\n",
       "    .dataframe tbody tr th {\n",
       "        vertical-align: top;\n",
       "    }\n",
       "\n",
       "    .dataframe thead th {\n",
       "        text-align: right;\n",
       "    }\n",
       "</style>\n",
       "<table border=\"1\" class=\"dataframe\">\n",
       "  <thead>\n",
       "    <tr style=\"text-align: right;\">\n",
       "      <th></th>\n",
       "      <th>Market_Returns_t_minus_1</th>\n",
       "      <th>Market_Returns_t</th>\n",
       "    </tr>\n",
       "  </thead>\n",
       "  <tbody>\n",
       "    <tr>\n",
       "      <th>0</th>\n",
       "      <td>NaN</td>\n",
       "      <td>0.076221</td>\n",
       "    </tr>\n",
       "    <tr>\n",
       "      <th>1</th>\n",
       "      <td>0.076221</td>\n",
       "      <td>0.080649</td>\n",
       "    </tr>\n",
       "    <tr>\n",
       "      <th>2</th>\n",
       "      <td>0.080649</td>\n",
       "      <td>-0.000711</td>\n",
       "    </tr>\n",
       "    <tr>\n",
       "      <th>3</th>\n",
       "      <td>-0.000711</td>\n",
       "      <td>-0.027238</td>\n",
       "    </tr>\n",
       "    <tr>\n",
       "      <th>4</th>\n",
       "      <td>-0.027238</td>\n",
       "      <td>0.017414</td>\n",
       "    </tr>\n",
       "  </tbody>\n",
       "</table>\n",
       "</div>"
      ],
      "text/plain": [
       "   Market_Returns_t_minus_1  Market_Returns_t\n",
       "0                       NaN          0.076221\n",
       "1                  0.076221          0.080649\n",
       "2                  0.080649         -0.000711\n",
       "3                 -0.000711         -0.027238\n",
       "4                 -0.027238          0.017414"
      ]
     },
     "execution_count": 119,
     "metadata": {},
     "output_type": "execute_result"
    }
   ],
   "source": [
    "n = dates.shape[0] \n",
    "market_returns_t = np.random.normal(loc=0.02, scale=0.05, size=n) \n",
    "\n",
    "market_data = pd.DataFrame({\n",
    "    'Market_Returns_t_minus_1': pd.Series(market_returns_t).shift(1), \n",
    "    'Market_Returns_t': market_returns_t\n",
    "})\n",
    "\n",
    "market_data.head()"
   ]
  },
  {
   "cell_type": "markdown",
   "metadata": {},
   "source": [
    "# Beta\n"
   ]
  },
  {
   "cell_type": "markdown",
   "metadata": {},
   "source": [
    "## Pre-ranking beta\n",
    "개별주식의 pre-ranking 베타는 개별주식의 이전 60개월 중 이용 가능한 시기의 월수익률을 사용해서 market model을 통해 만들어진다. market model에서 시장 당월 수익률 변수의 기울기와 전월 수익률 변수의 기울기의 합을 pre-ranking 베타값으로 사용한다"
   ]
  },
  {
   "cell_type": "code",
   "execution_count": 120,
   "metadata": {},
   "outputs": [],
   "source": [
    "# skip nan in market data\n",
    "months = 60\n",
    "nans = market_data.isna().sum().sum()\n",
    "X = market_data.dropna()\n"
   ]
  },
  {
   "cell_type": "code",
   "execution_count": 127,
   "metadata": {},
   "outputs": [
    {
     "name": "stdout",
     "output_type": "stream",
     "text": [
      "(329, 10)\n"
     ]
    },
    {
     "data": {
      "text/html": [
       "<div>\n",
       "<style scoped>\n",
       "    .dataframe tbody tr th:only-of-type {\n",
       "        vertical-align: middle;\n",
       "    }\n",
       "\n",
       "    .dataframe tbody tr th {\n",
       "        vertical-align: top;\n",
       "    }\n",
       "\n",
       "    .dataframe thead th {\n",
       "        text-align: right;\n",
       "    }\n",
       "</style>\n",
       "<table border=\"1\" class=\"dataframe\">\n",
       "  <thead>\n",
       "    <tr style=\"text-align: right;\">\n",
       "      <th></th>\n",
       "      <th>Stock0</th>\n",
       "      <th>Stock1</th>\n",
       "      <th>Stock2</th>\n",
       "      <th>Stock3</th>\n",
       "      <th>Stock4</th>\n",
       "      <th>Stock5</th>\n",
       "      <th>Stock6</th>\n",
       "      <th>Stock7</th>\n",
       "      <th>Stock8</th>\n",
       "      <th>Stock9</th>\n",
       "    </tr>\n",
       "  </thead>\n",
       "  <tbody>\n",
       "    <tr>\n",
       "      <th>1963-08-31</th>\n",
       "      <td>0.031792</td>\n",
       "      <td>-0.032740</td>\n",
       "      <td>-0.035392</td>\n",
       "      <td>0.020102</td>\n",
       "      <td>-0.130733</td>\n",
       "      <td>0.177616</td>\n",
       "      <td>0.060755</td>\n",
       "      <td>0.054966</td>\n",
       "      <td>-0.066162</td>\n",
       "      <td>-0.028655</td>\n",
       "    </tr>\n",
       "    <tr>\n",
       "      <th>1963-09-30</th>\n",
       "      <td>0.045710</td>\n",
       "      <td>-0.024432</td>\n",
       "      <td>0.005457</td>\n",
       "      <td>0.034437</td>\n",
       "      <td>-0.091571</td>\n",
       "      <td>0.160883</td>\n",
       "      <td>0.093792</td>\n",
       "      <td>0.065117</td>\n",
       "      <td>-0.051950</td>\n",
       "      <td>-0.026022</td>\n",
       "    </tr>\n",
       "    <tr>\n",
       "      <th>1963-10-31</th>\n",
       "      <td>0.038498</td>\n",
       "      <td>-0.013478</td>\n",
       "      <td>0.020764</td>\n",
       "      <td>0.041785</td>\n",
       "      <td>-0.103315</td>\n",
       "      <td>0.151701</td>\n",
       "      <td>0.094649</td>\n",
       "      <td>0.059197</td>\n",
       "      <td>-0.041342</td>\n",
       "      <td>-0.029671</td>\n",
       "    </tr>\n",
       "    <tr>\n",
       "      <th>1963-11-30</th>\n",
       "      <td>0.023726</td>\n",
       "      <td>0.009171</td>\n",
       "      <td>0.004356</td>\n",
       "      <td>0.041138</td>\n",
       "      <td>-0.086019</td>\n",
       "      <td>0.165261</td>\n",
       "      <td>0.073090</td>\n",
       "      <td>0.048708</td>\n",
       "      <td>-0.044455</td>\n",
       "      <td>-0.022803</td>\n",
       "    </tr>\n",
       "    <tr>\n",
       "      <th>1963-12-31</th>\n",
       "      <td>0.028989</td>\n",
       "      <td>0.020800</td>\n",
       "      <td>0.015433</td>\n",
       "      <td>0.036675</td>\n",
       "      <td>-0.085912</td>\n",
       "      <td>0.170298</td>\n",
       "      <td>0.084563</td>\n",
       "      <td>0.056928</td>\n",
       "      <td>-0.031144</td>\n",
       "      <td>-0.025216</td>\n",
       "    </tr>\n",
       "  </tbody>\n",
       "</table>\n",
       "</div>"
      ],
      "text/plain": [
       "              Stock0    Stock1    Stock2    Stock3    Stock4    Stock5  \\\n",
       "1963-08-31  0.031792 -0.032740 -0.035392  0.020102 -0.130733  0.177616   \n",
       "1963-09-30  0.045710 -0.024432  0.005457  0.034437 -0.091571  0.160883   \n",
       "1963-10-31  0.038498 -0.013478  0.020764  0.041785 -0.103315  0.151701   \n",
       "1963-11-30  0.023726  0.009171  0.004356  0.041138 -0.086019  0.165261   \n",
       "1963-12-31  0.028989  0.020800  0.015433  0.036675 -0.085912  0.170298   \n",
       "\n",
       "              Stock6    Stock7    Stock8    Stock9  \n",
       "1963-08-31  0.060755  0.054966 -0.066162 -0.028655  \n",
       "1963-09-30  0.093792  0.065117 -0.051950 -0.026022  \n",
       "1963-10-31  0.094649  0.059197 -0.041342 -0.029671  \n",
       "1963-11-30  0.073090  0.048708 -0.044455 -0.022803  \n",
       "1963-12-31  0.084563  0.056928 -0.031144 -0.025216  "
      ]
     },
     "execution_count": 127,
     "metadata": {},
     "output_type": "execute_result"
    }
   ],
   "source": [
    "df = {}\n",
    "for s in range(stock_n):\n",
    "    y = returns[f\"Stock{s}\"].loc[returns.index[nans:]]\n",
    "    stock_beta = []\n",
    "    for i in range(returns.shape[0]-nans):\n",
    "        X_temp = X.iloc[i:months+i]\n",
    "        y_temp = y.iloc[i:months+i]\n",
    "\n",
    "        X_temp = sm.add_constant(X_temp)\n",
    "        model = sm.OLS(y_temp, X_temp).fit()\n",
    "        beta_market = model.params[\"Market_Returns_t\"]\n",
    "        beta_market_lag = model.params[\"Market_Returns_t_minus_1\"]\n",
    "\n",
    "        pre_ranking_beta = beta_market + beta_market_lag\n",
    "        # pre_ranking_beta\n",
    "        # print(dates[i+nans], pre_ranking_beta)\n",
    "        stock_beta.append(pre_ranking_beta)\n",
    "    df[f\"Stock{s}\"] = stock_beta\n",
    "df = pd.DataFrame(df, index=dates[nans:])\n",
    "print(df.shape)\n",
    "df.head()"
   ]
  },
  {
   "cell_type": "markdown",
   "metadata": {},
   "source": [
    "## Beta for Portfolio with full period\n",
    "\n",
    "$r_{p,t} = \\beta _0 + \\beta _ 1 \\cdot r_{m, t-1} + \\beta _2 \\cdot_{m,t} + \\varepsilon _p$"
   ]
  },
  {
   "cell_type": "code",
   "execution_count": 133,
   "metadata": {},
   "outputs": [
    {
     "name": "stdout",
     "output_type": "stream",
     "text": [
      "const                       0.005987\n",
      "Market_Returns_t_minus_1   -0.091214\n",
      "Market_Returns_t            0.035878\n",
      "dtype: float64\n",
      "Pre-ranking beta 값: -0.05533599789036576\n"
     ]
    }
   ],
   "source": [
    "X = market_data[['Market_Returns_t_minus_1', 'Market_Returns_t']][nans:]\n",
    "y = portfolio_returns[nans:]\n",
    "\n",
    "X = sm.add_constant(X)\n",
    "model = sm.OLS(y, X).fit()\n",
    "print(model.params)\n",
    "\n",
    "beta_0 = model.params['const']  # 절편\n",
    "beta_1 = model.params['Market_Returns_t_minus_1']  # 시장 전월 수익률 변수의 기울기\n",
    "beta_2 = model.params['Market_Returns_t']  # 시장 당월 수익률 변수의 기울기\n",
    "\n",
    "# 합산 베타: 시장 수익률이 개별 포트폴리오 수익률에 \n",
    "# 영향을 끼칠 때 시차가 존재할 수 있음을 감안하기 위해서 사용\n",
    "pre_ranking_beta = beta_1 + beta_2\n",
    "\n",
    "print(\"Pre-ranking beta 값:\", pre_ranking_beta)\n"
   ]
  },
  {
   "cell_type": "code",
   "execution_count": null,
   "metadata": {},
   "outputs": [],
   "source": []
  },
  {
   "cell_type": "code",
   "execution_count": null,
   "metadata": {},
   "outputs": [],
   "source": []
  },
  {
   "cell_type": "markdown",
   "metadata": {},
   "source": [
    "# Fama MacBeth Regression"
   ]
  },
  {
   "cell_type": "code",
   "execution_count": 1,
   "metadata": {},
   "outputs": [
    {
     "name": "stdout",
     "output_type": "stream",
     "text": [
      "(1000, 6)\n"
     ]
    },
    {
     "data": {
      "text/html": [
       "<div>\n",
       "<style scoped>\n",
       "    .dataframe tbody tr th:only-of-type {\n",
       "        vertical-align: middle;\n",
       "    }\n",
       "\n",
       "    .dataframe tbody tr th {\n",
       "        vertical-align: top;\n",
       "    }\n",
       "\n",
       "    .dataframe thead th {\n",
       "        text-align: right;\n",
       "    }\n",
       "</style>\n",
       "<table border=\"1\" class=\"dataframe\">\n",
       "  <thead>\n",
       "    <tr style=\"text-align: right;\">\n",
       "      <th></th>\n",
       "      <th>Time</th>\n",
       "      <th>Cross_Section</th>\n",
       "      <th>X1</th>\n",
       "      <th>X2</th>\n",
       "      <th>X3</th>\n",
       "      <th>Y</th>\n",
       "    </tr>\n",
       "  </thead>\n",
       "  <tbody>\n",
       "    <tr>\n",
       "      <th>0</th>\n",
       "      <td>0</td>\n",
       "      <td>0</td>\n",
       "      <td>1.764052</td>\n",
       "      <td>0.555963</td>\n",
       "      <td>-1.532921</td>\n",
       "      <td>1.593274</td>\n",
       "    </tr>\n",
       "    <tr>\n",
       "      <th>10</th>\n",
       "      <td>1</td>\n",
       "      <td>0</td>\n",
       "      <td>0.144044</td>\n",
       "      <td>-1.000330</td>\n",
       "      <td>0.371173</td>\n",
       "      <td>0.279196</td>\n",
       "    </tr>\n",
       "    <tr>\n",
       "      <th>20</th>\n",
       "      <td>2</td>\n",
       "      <td>0</td>\n",
       "      <td>-2.552990</td>\n",
       "      <td>1.015665</td>\n",
       "      <td>-1.913743</td>\n",
       "      <td>-2.810668</td>\n",
       "    </tr>\n",
       "    <tr>\n",
       "      <th>30</th>\n",
       "      <td>3</td>\n",
       "      <td>0</td>\n",
       "      <td>0.154947</td>\n",
       "      <td>-0.753704</td>\n",
       "      <td>0.743554</td>\n",
       "      <td>0.966306</td>\n",
       "    </tr>\n",
       "    <tr>\n",
       "      <th>40</th>\n",
       "      <td>4</td>\n",
       "      <td>0</td>\n",
       "      <td>-1.048553</td>\n",
       "      <td>1.669251</td>\n",
       "      <td>-1.216077</td>\n",
       "      <td>-0.067945</td>\n",
       "    </tr>\n",
       "  </tbody>\n",
       "</table>\n",
       "</div>"
      ],
      "text/plain": [
       "    Time  Cross_Section        X1        X2        X3         Y\n",
       "0      0              0  1.764052  0.555963 -1.532921  1.593274\n",
       "10     1              0  0.144044 -1.000330  0.371173  0.279196\n",
       "20     2              0 -2.552990  1.015665 -1.913743 -2.810668\n",
       "30     3              0  0.154947 -0.753704  0.743554  0.966306\n",
       "40     4              0 -1.048553  1.669251 -1.216077 -0.067945"
      ]
     },
     "execution_count": 1,
     "metadata": {},
     "output_type": "execute_result"
    }
   ],
   "source": [
    "\n",
    "\n",
    "np.random.seed(0)\n",
    "n_periods = 100\n",
    "n_cross_section = 10\n",
    "n_obs = n_periods * n_cross_section\n",
    "data = pd.DataFrame({\n",
    "    'Time': np.repeat(range(n_periods), n_cross_section),\n",
    "    'Cross_Section': np.tile(range(n_cross_section), n_periods),\n",
    "    'X1': np.random.randn(n_obs),\n",
    "    'X2': np.random.randn(n_obs),\n",
    "    'X3': np.random.randn(n_obs),\n",
    "    'Y': np.random.randn(n_obs),\n",
    "})\n",
    "\n",
    "data.sort_values(by=['Cross_Section', 'Time'], inplace=True)\n",
    "print(data.shape)\n",
    "data.head()"
   ]
  },
  {
   "cell_type": "code",
   "execution_count": 2,
   "metadata": {},
   "outputs": [
    {
     "name": "stdout",
     "output_type": "stream",
     "text": [
      "(10, 4)\n"
     ]
    },
    {
     "data": {
      "text/html": [
       "<div>\n",
       "<style scoped>\n",
       "    .dataframe tbody tr th:only-of-type {\n",
       "        vertical-align: middle;\n",
       "    }\n",
       "\n",
       "    .dataframe tbody tr th {\n",
       "        vertical-align: top;\n",
       "    }\n",
       "\n",
       "    .dataframe thead th {\n",
       "        text-align: right;\n",
       "    }\n",
       "</style>\n",
       "<table border=\"1\" class=\"dataframe\">\n",
       "  <thead>\n",
       "    <tr style=\"text-align: right;\">\n",
       "      <th></th>\n",
       "      <th>const</th>\n",
       "      <th>X1</th>\n",
       "      <th>X2</th>\n",
       "      <th>X3</th>\n",
       "    </tr>\n",
       "  </thead>\n",
       "  <tbody>\n",
       "    <tr>\n",
       "      <th>0</th>\n",
       "      <td>-0.060058</td>\n",
       "      <td>0.203161</td>\n",
       "      <td>0.049822</td>\n",
       "      <td>0.105252</td>\n",
       "    </tr>\n",
       "    <tr>\n",
       "      <th>1</th>\n",
       "      <td>0.165471</td>\n",
       "      <td>-0.163630</td>\n",
       "      <td>0.053271</td>\n",
       "      <td>-0.108840</td>\n",
       "    </tr>\n",
       "    <tr>\n",
       "      <th>2</th>\n",
       "      <td>-0.128742</td>\n",
       "      <td>-0.031212</td>\n",
       "      <td>0.038470</td>\n",
       "      <td>-0.080620</td>\n",
       "    </tr>\n",
       "    <tr>\n",
       "      <th>3</th>\n",
       "      <td>-0.117634</td>\n",
       "      <td>0.093704</td>\n",
       "      <td>0.244994</td>\n",
       "      <td>0.083918</td>\n",
       "    </tr>\n",
       "    <tr>\n",
       "      <th>4</th>\n",
       "      <td>-0.086229</td>\n",
       "      <td>-0.070633</td>\n",
       "      <td>-0.090680</td>\n",
       "      <td>-0.037857</td>\n",
       "    </tr>\n",
       "  </tbody>\n",
       "</table>\n",
       "</div>"
      ],
      "text/plain": [
       "      const        X1        X2        X3\n",
       "0 -0.060058  0.203161  0.049822  0.105252\n",
       "1  0.165471 -0.163630  0.053271 -0.108840\n",
       "2 -0.128742 -0.031212  0.038470 -0.080620\n",
       "3 -0.117634  0.093704  0.244994  0.083918\n",
       "4 -0.086229 -0.070633 -0.090680 -0.037857"
      ]
     },
     "execution_count": 2,
     "metadata": {},
     "output_type": "execute_result"
    }
   ],
   "source": [
    "cross_data = []\n",
    "\n",
    "for cross_section, df in data.groupby('Cross_Section'):\n",
    "    x = sm.add_constant(df[['X1', 'X2', 'X3']])\n",
    "    y = df['Y'] \n",
    "    model = sm.OLS(y, x)\n",
    "    result = model.fit()\n",
    "    cross_data.append(result.params)\n",
    "\n",
    "cross_data = pd.DataFrame(cross_data)\n",
    "print(cross_data.shape)\n",
    "cross_data.head()"
   ]
  },
  {
   "cell_type": "code",
   "execution_count": 3,
   "metadata": {},
   "outputs": [
    {
     "name": "stdout",
     "output_type": "stream",
     "text": [
      "(100, 4)\n"
     ]
    },
    {
     "data": {
      "text/html": [
       "<div>\n",
       "<style scoped>\n",
       "    .dataframe tbody tr th:only-of-type {\n",
       "        vertical-align: middle;\n",
       "    }\n",
       "\n",
       "    .dataframe tbody tr th {\n",
       "        vertical-align: top;\n",
       "    }\n",
       "\n",
       "    .dataframe thead th {\n",
       "        text-align: right;\n",
       "    }\n",
       "</style>\n",
       "<table border=\"1\" class=\"dataframe\">\n",
       "  <thead>\n",
       "    <tr style=\"text-align: right;\">\n",
       "      <th></th>\n",
       "      <th>const</th>\n",
       "      <th>X1</th>\n",
       "      <th>X2</th>\n",
       "      <th>X3</th>\n",
       "    </tr>\n",
       "  </thead>\n",
       "  <tbody>\n",
       "    <tr>\n",
       "      <th>0</th>\n",
       "      <td>4.091892</td>\n",
       "      <td>3.229014</td>\n",
       "      <td>2.053984</td>\n",
       "      <td>2.874924</td>\n",
       "    </tr>\n",
       "    <tr>\n",
       "      <th>1</th>\n",
       "      <td>0.969862</td>\n",
       "      <td>0.419557</td>\n",
       "      <td>-1.837971</td>\n",
       "      <td>1.003579</td>\n",
       "    </tr>\n",
       "    <tr>\n",
       "      <th>2</th>\n",
       "      <td>3.033017</td>\n",
       "      <td>-4.763284</td>\n",
       "      <td>-2.797892</td>\n",
       "      <td>0.882572</td>\n",
       "    </tr>\n",
       "    <tr>\n",
       "      <th>3</th>\n",
       "      <td>1.423884</td>\n",
       "      <td>5.716954</td>\n",
       "      <td>-3.946337</td>\n",
       "      <td>-3.697416</td>\n",
       "    </tr>\n",
       "    <tr>\n",
       "      <th>4</th>\n",
       "      <td>-0.321093</td>\n",
       "      <td>-4.794623</td>\n",
       "      <td>-0.898722</td>\n",
       "      <td>4.788780</td>\n",
       "    </tr>\n",
       "  </tbody>\n",
       "</table>\n",
       "</div>"
      ],
      "text/plain": [
       "      const        X1        X2        X3\n",
       "0  4.091892  3.229014  2.053984  2.874924\n",
       "1  0.969862  0.419557 -1.837971  1.003579\n",
       "2  3.033017 -4.763284 -2.797892  0.882572\n",
       "3  1.423884  5.716954 -3.946337 -3.697416\n",
       "4 -0.321093 -4.794623 -0.898722  4.788780"
      ]
     },
     "execution_count": 3,
     "metadata": {},
     "output_type": "execute_result"
    }
   ],
   "source": [
    "# The regressors in every regression are the same collection of i. \n",
    "# Only the dependent variable changes from one regression to the other.\n",
    "\n",
    "time_data = []\n",
    "x = cross_data\n",
    "\n",
    "for time, df in data.groupby('Time'):\n",
    "    y = df['Y'].values\n",
    "\n",
    "    model = sm.OLS(y, x)\n",
    "    result = model.fit()\n",
    "    time_data.append(result.params)\n",
    "\n",
    "time_data = pd.DataFrame(time_data)\n",
    "print(time_data.shape)\n",
    "time_data.head()"
   ]
  },
  {
   "cell_type": "code",
   "execution_count": 4,
   "metadata": {},
   "outputs": [
    {
     "name": "stdout",
     "output_type": "stream",
     "text": [
      "Mean of betas\n",
      "const    1.038324\n",
      "X1      -0.041370\n",
      "X2      -0.040311\n",
      "X3      -0.100653\n",
      "dtype: float64\n",
      "\n",
      "Standard deviation of betas\n",
      "const    2.875527\n",
      "X1       2.927050\n",
      "X2       2.954771\n",
      "X3       4.133308\n",
      "dtype: float64\n"
     ]
    }
   ],
   "source": [
    "\n",
    "print(\"Mean of betas\", time_data.mean(axis=0), sep=\"\\n\")\n",
    "print()\n",
    "print(\"Standard deviation of betas\", time_data.std(axis=0), sep=\"\\n\")"
   ]
  },
  {
   "cell_type": "code",
   "execution_count": null,
   "metadata": {},
   "outputs": [],
   "source": []
  }
 ],
 "metadata": {
  "kernelspec": {
   "display_name": "Python 3",
   "language": "python",
   "name": "python3"
  },
  "language_info": {
   "codemirror_mode": {
    "name": "ipython",
    "version": 3
   },
   "file_extension": ".py",
   "mimetype": "text/x-python",
   "name": "python",
   "nbconvert_exporter": "python",
   "pygments_lexer": "ipython3",
   "version": "3.10.13"
  }
 },
 "nbformat": 4,
 "nbformat_minor": 2
}
