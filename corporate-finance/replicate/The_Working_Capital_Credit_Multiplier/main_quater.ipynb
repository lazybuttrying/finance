{
 "cells": [
  {
   "cell_type": "code",
   "execution_count": 1,
   "metadata": {
    "id": "5L5JyNIKz-Ww"
   },
   "outputs": [],
   "source": [
    "# dataframe.shape\n",
    "# 행 개수, 열 개수\n",
    "#\n",
    "#  dataframe.shape[0] # 행 개수\n",
    "# dataframe.shape[1] # 열 개수"
   ]
  },
  {
   "cell_type": "code",
   "execution_count": null,
   "metadata": {
    "colab": {
     "base_uri": "https://localhost:8080/"
    },
    "id": "TPwcUJ4xr8Du",
    "outputId": "0554d47b-cfea-46e2-da32-eceb0675fef4"
   },
   "outputs": [
    {
     "name": "stdout",
     "output_type": "stream",
     "text": [
      "Mounted at /gdrive\n"
     ]
    }
   ],
   "source": [
    "from google.colab import drive\n",
    "drive.mount('/gdrive') # google drive 연결\n",
    "# %cd /gdrive/MyDrive/ ~~~ path 지정"
   ]
  },
  {
   "cell_type": "code",
   "execution_count": 3,
   "metadata": {
    "colab": {
     "base_uri": "https://localhost:8080/"
    },
    "id": "5DHFs4ZPsP9A",
    "outputId": "d323d75a-c4d8-4bf2-909e-0dcf78757ab9"
   },
   "outputs": [
    {
     "name": "stdout",
     "output_type": "stream",
     "text": [
      "/gdrive/.shortcut-targets-by-id/1TW2gBTrdYap0MMMBfQEUFyBjzqW5Ei0G/rawdata\n"
     ]
    }
   ],
   "source": [
    "%cd /gdrive/MyDrive/수업 정리/재무금융/Corporate Finance/rawdata"
   ]
  },
  {
   "cell_type": "code",
   "execution_count": 2,
   "metadata": {
    "id": "Vx4WFzZHrUEr"
   },
   "outputs": [],
   "source": [
    "import pandas as pd\n",
    "import numpy as np\n",
    "\n",
    "MAX_YEAR = 5.0"
   ]
  },
  {
   "cell_type": "code",
   "execution_count": 3,
   "metadata": {
    "colab": {
     "base_uri": "https://localhost:8080/"
    },
    "id": "n6r5TFmgr5s1",
    "outputId": "9d6a181b-a36e-4298-dc93-5125b149b15a"
   },
   "outputs": [
    {
     "data": {
      "text/plain": [
       "['data.pkl',\n",
       " 'dataguide',\n",
       " 'main copy.ipynb',\n",
       " 'main.ipynb',\n",
       " 'result_freq.csv',\n",
       " 'result_freq1.csv',\n",
       " 'result_freq1_3y.csv',\n",
       " 'result_freq_3y.csv',\n",
       " 'result_temp.csv',\n",
       " 'result_temp_3y.csv',\n",
       " 'workingCap.xlsx',\n",
       " '산업분류코드.xlsx']"
      ]
     },
     "execution_count": 3,
     "metadata": {},
     "output_type": "execute_result"
    }
   ],
   "source": [
    "import os\n",
    "\n",
    "os.listdir(\".\")"
   ]
  },
  {
   "cell_type": "code",
   "execution_count": 2,
   "metadata": {
    "colab": {
     "base_uri": "https://localhost:8080/"
    },
    "id": "aLGBTMVO4Xrq",
    "outputId": "0d041330-dc55-4253-8236-ae8b3aa1fc70"
   },
   "outputs": [
    {
     "name": "stdout",
     "output_type": "stream",
     "text": [
      "김도연1.xlsx\n",
      "['op_earn', 'depre_amort', 'depre', 'age', 'n_acq_intangi']\n",
      "총자산.xlsx\n",
      "['asset', 'exchange', 'ind_code']\n"
     ]
    }
   ],
   "source": [
    "import os\n",
    "\n",
    "for f in os.listdir(\"./dataguide\"):\n",
    "  print(f)\n",
    "  print(pd.ExcelFile(\"./dataguide/\" + f).sheet_names)"
   ]
  },
  {
   "cell_type": "code",
   "execution_count": 3,
   "metadata": {
    "id": "EstzT5latLNK"
   },
   "outputs": [],
   "source": [
    "dfs = {\n",
    "    \"ind_code\": pd.read_excel(\"./dataguide/총자산.xlsx\", sheet_name=\"ind_code\"),\n",
    "    \"op_earn\": pd.read_excel(\"./dataguide/김도연1.xlsx\", sheet_name=\"op_earn\"),\n",
    "    \"depre_amort\": pd.read_excel(\"./dataguide/김도연1.xlsx\", sheet_name=\"depre_amort\"),\n",
    "    \"asset\": pd.read_excel(\"./dataguide/총자산.xlsx\", sheet_name=\"asset\"),\n",
    "    \"exchange\": pd.read_excel(\"./dataguide/총자산.xlsx\", sheet_name=\"exchange\")\n",
    "}"
   ]
  },
  {
   "cell_type": "code",
   "execution_count": null,
   "metadata": {
    "id": "_-97FH7urQB0"
   },
   "outputs": [],
   "source": [
    "# axis = 0 : 가로(행에 대하여) 아마도?\n",
    "# axis = 1 : 세로(열에 대하여)"
   ]
  },
  {
   "cell_type": "code",
   "execution_count": 4,
   "metadata": {
    "colab": {
     "base_uri": "https://localhost:8080/"
    },
    "id": "8PTReUjovF2r",
    "outputId": "043a8b9c-4a51-4c5e-ed59-a106628d0f0f"
   },
   "outputs": [
    {
     "name": "stderr",
     "output_type": "stream",
     "text": [
      "C:\\Users\\DYK\\AppData\\Roaming\\Python\\Python311\\site-packages\\pandas\\core\\indexes\\base.py:7588: FutureWarning: Dtype inference on a pandas object (Series, Index, ExtensionArray) is deprecated. The Index constructor will keep the original dtype in the future. Call `infer_objects` on the result to get the old behavior.\n",
      "  return Index(sequences[0], name=names)\n",
      "C:\\Users\\DYK\\AppData\\Roaming\\Python\\Python311\\site-packages\\pandas\\core\\indexes\\base.py:7588: FutureWarning: Dtype inference on a pandas object (Series, Index, ExtensionArray) is deprecated. The Index constructor will keep the original dtype in the future. Call `infer_objects` on the result to get the old behavior.\n",
      "  return Index(sequences[0], name=names)\n",
      "C:\\Users\\DYK\\AppData\\Roaming\\Python\\Python311\\site-packages\\pandas\\core\\indexes\\base.py:7588: FutureWarning: Dtype inference on a pandas object (Series, Index, ExtensionArray) is deprecated. The Index constructor will keep the original dtype in the future. Call `infer_objects` on the result to get the old behavior.\n",
      "  return Index(sequences[0], name=names)\n",
      "C:\\Users\\DYK\\AppData\\Roaming\\Python\\Python311\\site-packages\\pandas\\core\\indexes\\base.py:7588: FutureWarning: Dtype inference on a pandas object (Series, Index, ExtensionArray) is deprecated. The Index constructor will keep the original dtype in the future. Call `infer_objects` on the result to get the old behavior.\n",
      "  return Index(sequences[0], name=names)\n",
      "C:\\Users\\DYK\\AppData\\Roaming\\Python\\Python311\\site-packages\\pandas\\core\\indexes\\base.py:7588: FutureWarning: Dtype inference on a pandas object (Series, Index, ExtensionArray) is deprecated. The Index constructor will keep the original dtype in the future. Call `infer_objects` on the result to get the old behavior.\n",
      "  return Index(sequences[0], name=names)\n"
     ]
    }
   ],
   "source": [
    "rows_to_drop = list(range(0, 13)) # 0 ~ 12\n",
    "\n",
    "for k in dfs.keys():\n",
    "  dfs[k].columns = dfs[k].iloc[7] # firmcode line을 column명으로 지정\n",
    "  dfs[k] = dfs[k].drop(rows_to_drop, axis=0)\n",
    "  dfs[k] = dfs[k].set_index(\"Symbol\").reset_index().melt(\n",
    "        id_vars=[\"Symbol\"],\n",
    "        var_name=\"firmcode\",\n",
    "        value_name=k,\n",
    "    ).rename(columns={\"Symbol\": \"date\"})"
   ]
  },
  {
   "cell_type": "code",
   "execution_count": 7,
   "metadata": {
    "id": "IdMTc8zuwiOv"
   },
   "outputs": [],
   "source": [
    "import pickle\n",
    "\n",
    "with open(\"data.pkl\", \"wb\") as f:\n",
    "  pickle.dump(dfs, f)"
   ]
  },
  {
   "cell_type": "code",
   "execution_count": 1,
   "metadata": {
    "id": "XZ2nxuflxUDl"
   },
   "outputs": [],
   "source": [
    "import pickle\n",
    "with open(\"data.pkl\", \"rb\") as f:\n",
    "  dfs = pickle.load(f)"
   ]
  },
  {
   "cell_type": "code",
   "execution_count": 3,
   "metadata": {
    "colab": {
     "base_uri": "https://localhost:8080/"
    },
    "id": "TOpyEuea2Dsb",
    "outputId": "2c27c8c4-f393-4109-9d8c-1d1c6c238a57"
   },
   "outputs": [
    {
     "name": "stdout",
     "output_type": "stream",
     "text": [
      "(377400, 3)\n",
      "(377400, 3)\n",
      "(377400, 3)\n",
      "(377400, 3)\n",
      "(377400, 3)\n"
     ]
    }
   ],
   "source": [
    "for k in dfs.keys():\n",
    "  print(dfs[k].shape)"
   ]
  },
  {
   "cell_type": "code",
   "execution_count": 4,
   "metadata": {},
   "outputs": [
    {
     "data": {
      "text/plain": [
       "date             0\n",
       "firmcode         0\n",
       "op_earn     150267\n",
       "dtype: int64"
      ]
     },
     "execution_count": 4,
     "metadata": {},
     "output_type": "execute_result"
    }
   ],
   "source": [
    "dfs[\"op_earn\"].isna().sum()"
   ]
  },
  {
   "cell_type": "code",
   "execution_count": 5,
   "metadata": {
    "colab": {
     "base_uri": "https://localhost:8080/",
     "height": 423
    },
    "id": "OfZny-oCrUEw",
    "outputId": "e5dd6e13-7f03-462e-82c6-5baa605d5440"
   },
   "outputs": [
    {
     "name": "stdout",
     "output_type": "stream",
     "text": [
      "ebitda         185032\n",
      "op_earn        150267\n",
      "depre_amort    176877\n",
      "dtype: int64\n"
     ]
    },
    {
     "data": {
      "text/html": [
       "<div>\n",
       "<style scoped>\n",
       "    .dataframe tbody tr th:only-of-type {\n",
       "        vertical-align: middle;\n",
       "    }\n",
       "\n",
       "    .dataframe tbody tr th {\n",
       "        vertical-align: top;\n",
       "    }\n",
       "\n",
       "    .dataframe thead th {\n",
       "        text-align: right;\n",
       "    }\n",
       "</style>\n",
       "<table border=\"1\" class=\"dataframe\">\n",
       "  <thead>\n",
       "    <tr style=\"text-align: right;\">\n",
       "      <th></th>\n",
       "      <th>date</th>\n",
       "      <th>firmcode</th>\n",
       "      <th>ind_code</th>\n",
       "      <th>asset</th>\n",
       "      <th>exchange</th>\n",
       "      <th>ebitda</th>\n",
       "      <th>month</th>\n",
       "      <th>year</th>\n",
       "    </tr>\n",
       "  </thead>\n",
       "  <tbody>\n",
       "    <tr>\n",
       "      <th>0</th>\n",
       "      <td>2000-03-31</td>\n",
       "      <td>A005930</td>\n",
       "      <td>C</td>\n",
       "      <td>26895046483000</td>\n",
       "      <td>유가증권시장</td>\n",
       "      <td>7435154660000</td>\n",
       "      <td>3</td>\n",
       "      <td>2000</td>\n",
       "    </tr>\n",
       "    <tr>\n",
       "      <th>1</th>\n",
       "      <td>2000-06-30</td>\n",
       "      <td>A005930</td>\n",
       "      <td>C</td>\n",
       "      <td>26895046483000</td>\n",
       "      <td>유가증권시장</td>\n",
       "      <td>7435154660000</td>\n",
       "      <td>6</td>\n",
       "      <td>2000</td>\n",
       "    </tr>\n",
       "    <tr>\n",
       "      <th>2</th>\n",
       "      <td>2000-09-30</td>\n",
       "      <td>A005930</td>\n",
       "      <td>C</td>\n",
       "      <td>26895046483000</td>\n",
       "      <td>유가증권시장</td>\n",
       "      <td>7435154660000</td>\n",
       "      <td>9</td>\n",
       "      <td>2000</td>\n",
       "    </tr>\n",
       "    <tr>\n",
       "      <th>3</th>\n",
       "      <td>2000-12-31</td>\n",
       "      <td>A005930</td>\n",
       "      <td>C</td>\n",
       "      <td>26895046483000</td>\n",
       "      <td>유가증권시장</td>\n",
       "      <td>7435154660000</td>\n",
       "      <td>12</td>\n",
       "      <td>2000</td>\n",
       "    </tr>\n",
       "    <tr>\n",
       "      <th>4</th>\n",
       "      <td>2001-03-31</td>\n",
       "      <td>A005930</td>\n",
       "      <td>C</td>\n",
       "      <td>27919406342000</td>\n",
       "      <td>유가증권시장</td>\n",
       "      <td>2295333697000</td>\n",
       "      <td>3</td>\n",
       "      <td>2001</td>\n",
       "    </tr>\n",
       "    <tr>\n",
       "      <th>...</th>\n",
       "      <td>...</td>\n",
       "      <td>...</td>\n",
       "      <td>...</td>\n",
       "      <td>...</td>\n",
       "      <td>...</td>\n",
       "      <td>...</td>\n",
       "      <td>...</td>\n",
       "      <td>...</td>\n",
       "    </tr>\n",
       "    <tr>\n",
       "      <th>377395</th>\n",
       "      <td>2023-12-31</td>\n",
       "      <td>A950180</td>\n",
       "      <td>J</td>\n",
       "      <td>NaN</td>\n",
       "      <td>코스닥</td>\n",
       "      <td>NaN</td>\n",
       "      <td>12</td>\n",
       "      <td>2023</td>\n",
       "    </tr>\n",
       "    <tr>\n",
       "      <th>377396</th>\n",
       "      <td>2024-03-31</td>\n",
       "      <td>A950180</td>\n",
       "      <td>J</td>\n",
       "      <td>NaN</td>\n",
       "      <td>코스닥</td>\n",
       "      <td>NaN</td>\n",
       "      <td>3</td>\n",
       "      <td>2024</td>\n",
       "    </tr>\n",
       "    <tr>\n",
       "      <th>377397</th>\n",
       "      <td>2024-06-30</td>\n",
       "      <td>A950180</td>\n",
       "      <td>J</td>\n",
       "      <td>NaN</td>\n",
       "      <td>코스닥</td>\n",
       "      <td>NaN</td>\n",
       "      <td>6</td>\n",
       "      <td>2024</td>\n",
       "    </tr>\n",
       "    <tr>\n",
       "      <th>377398</th>\n",
       "      <td>2024-09-30</td>\n",
       "      <td>A950180</td>\n",
       "      <td>J</td>\n",
       "      <td>NaN</td>\n",
       "      <td>코스닥</td>\n",
       "      <td>NaN</td>\n",
       "      <td>9</td>\n",
       "      <td>2024</td>\n",
       "    </tr>\n",
       "    <tr>\n",
       "      <th>377399</th>\n",
       "      <td>2024-11-29</td>\n",
       "      <td>A950180</td>\n",
       "      <td>J</td>\n",
       "      <td>NaN</td>\n",
       "      <td>코스닥</td>\n",
       "      <td>NaN</td>\n",
       "      <td>11</td>\n",
       "      <td>2024</td>\n",
       "    </tr>\n",
       "  </tbody>\n",
       "</table>\n",
       "<p>377400 rows × 8 columns</p>\n",
       "</div>"
      ],
      "text/plain": [
       "             date firmcode ind_code           asset exchange         ebitda  \\\n",
       "0      2000-03-31  A005930        C  26895046483000   유가증권시장  7435154660000   \n",
       "1      2000-06-30  A005930        C  26895046483000   유가증권시장  7435154660000   \n",
       "2      2000-09-30  A005930        C  26895046483000   유가증권시장  7435154660000   \n",
       "3      2000-12-31  A005930        C  26895046483000   유가증권시장  7435154660000   \n",
       "4      2001-03-31  A005930        C  27919406342000   유가증권시장  2295333697000   \n",
       "...           ...      ...      ...             ...      ...            ...   \n",
       "377395 2023-12-31  A950180        J             NaN      코스닥            NaN   \n",
       "377396 2024-03-31  A950180        J             NaN      코스닥            NaN   \n",
       "377397 2024-06-30  A950180        J             NaN      코스닥            NaN   \n",
       "377398 2024-09-30  A950180        J             NaN      코스닥            NaN   \n",
       "377399 2024-11-29  A950180        J             NaN      코스닥            NaN   \n",
       "\n",
       "        month  year  \n",
       "0           3  2000  \n",
       "1           6  2000  \n",
       "2           9  2000  \n",
       "3          12  2000  \n",
       "4           3  2001  \n",
       "...       ...   ...  \n",
       "377395     12  2023  \n",
       "377396      3  2024  \n",
       "377397      6  2024  \n",
       "377398      9  2024  \n",
       "377399     11  2024  \n",
       "\n",
       "[377400 rows x 8 columns]"
      ]
     },
     "execution_count": 5,
     "metadata": {},
     "output_type": "execute_result"
    }
   ],
   "source": [
    "result = dfs[\"asset\"][[\"date\", \"firmcode\"]]\n",
    "for c in dfs.keys():\n",
    "    result = pd.merge(result, dfs[c], on=[\"date\", \"firmcode\"], how=\"left\")\n",
    "result[\"ebitda\"] = result[\"op_earn\"] + result[\"depre_amort\"]\n",
    "print(result[[\n",
    "    \"ebitda\", \"op_earn\", \"depre_amort\"\n",
    "]].isna().sum())\n",
    "result = result.drop([\"op_earn\", \"depre_amort\"], axis=1)\n",
    "result[\"month\"] = result[\"date\"].dt.month\n",
    "result[\"year\"] = result[\"date\"].dt.year\n",
    "result.loc[result[\"asset\"] == 0, \"asset\"] = None\n",
    "result.loc[result[\"ebitda\"] == 0, \"ebitda\"] = None\n",
    "result"
   ]
  },
  {
   "cell_type": "code",
   "execution_count": 6,
   "metadata": {},
   "outputs": [
    {
     "name": "stdout",
     "output_type": "stream",
     "text": [
      "<class 'pandas.core.frame.DataFrame'>\n",
      "RangeIndex: 377400 entries, 0 to 377399\n",
      "Data columns (total 8 columns):\n",
      " #   Column    Non-Null Count   Dtype         \n",
      "---  ------    --------------   -----         \n",
      " 0   date      377400 non-null  datetime64[ns]\n",
      " 1   firmcode  377400 non-null  object        \n",
      " 2   ind_code  364400 non-null  object        \n",
      " 3   asset     227097 non-null  object        \n",
      " 4   exchange  210827 non-null  object        \n",
      " 5   ebitda    192348 non-null  object        \n",
      " 6   month     377400 non-null  int32         \n",
      " 7   year      377400 non-null  int32         \n",
      "dtypes: datetime64[ns](1), int32(2), object(5)\n",
      "memory usage: 20.2+ MB\n"
     ]
    }
   ],
   "source": [
    "result.info()"
   ]
  },
  {
   "cell_type": "code",
   "execution_count": 7,
   "metadata": {},
   "outputs": [
    {
     "name": "stdout",
     "output_type": "stream",
     "text": [
      "(377400, 10)\n",
      "(377400, 10)\n"
     ]
    }
   ],
   "source": [
    "\n",
    "result[\"asset_lag\"] = result.groupby(\"firmcode\")[\"asset\"].shift(-1)\n",
    "result[\"cashflow\"] = result[\"ebitda\"] / result[\"asset_lag\"]\n",
    "print(result.shape)\n",
    "result = result.dropna(subset=[\"date\"])\n",
    "print(result.shape)"
   ]
  },
  {
   "cell_type": "code",
   "execution_count": 8,
   "metadata": {
    "colab": {
     "base_uri": "https://localhost:8080/",
     "height": 635
    },
    "id": "wXfkcyf3rUEx",
    "outputId": "2e8cb3d9-ce46-4e9d-d6dc-adb71004ea7b"
   },
   "outputs": [
    {
     "name": "stdout",
     "output_type": "stream",
     "text": [
      "(373626, 10) 3774\n",
      "(331650, 10) 3350\n",
      "date 0\n",
      "firmcode 0\n",
      "ind_code 12870\n",
      "asset 118474\n",
      "exchange 139225\n",
      "ebitda 151860\n",
      "month 0\n",
      "year 0\n",
      "asset_lag 120207\n",
      "cashflow 155151\n",
      "(331650, 10)\n",
      "(331650, 10)\n"
     ]
    },
    {
     "data": {
      "text/html": [
       "<div>\n",
       "<style scoped>\n",
       "    .dataframe tbody tr th:only-of-type {\n",
       "        vertical-align: middle;\n",
       "    }\n",
       "\n",
       "    .dataframe tbody tr th {\n",
       "        vertical-align: top;\n",
       "    }\n",
       "\n",
       "    .dataframe thead th {\n",
       "        text-align: right;\n",
       "    }\n",
       "</style>\n",
       "<table border=\"1\" class=\"dataframe\">\n",
       "  <thead>\n",
       "    <tr style=\"text-align: right;\">\n",
       "      <th></th>\n",
       "      <th>date</th>\n",
       "      <th>firmcode</th>\n",
       "      <th>ind_code</th>\n",
       "      <th>asset</th>\n",
       "      <th>exchange</th>\n",
       "      <th>ebitda</th>\n",
       "      <th>month</th>\n",
       "      <th>year</th>\n",
       "      <th>asset_lag</th>\n",
       "      <th>cashflow</th>\n",
       "    </tr>\n",
       "  </thead>\n",
       "  <tbody>\n",
       "    <tr>\n",
       "      <th>82300</th>\n",
       "      <td>2000-03-31</td>\n",
       "      <td>A000020</td>\n",
       "      <td>C</td>\n",
       "      <td>231378084000</td>\n",
       "      <td>유가증권시장</td>\n",
       "      <td>1458265000</td>\n",
       "      <td>3.0</td>\n",
       "      <td>2000.0</td>\n",
       "      <td>254488830000</td>\n",
       "      <td>0.00573</td>\n",
       "    </tr>\n",
       "    <tr>\n",
       "      <th>82301</th>\n",
       "      <td>2000-06-30</td>\n",
       "      <td>A000020</td>\n",
       "      <td>C</td>\n",
       "      <td>254488830000</td>\n",
       "      <td>유가증권시장</td>\n",
       "      <td>12969835000</td>\n",
       "      <td>6.0</td>\n",
       "      <td>2000.0</td>\n",
       "      <td>254488830000</td>\n",
       "      <td>0.050964</td>\n",
       "    </tr>\n",
       "    <tr>\n",
       "      <th>82302</th>\n",
       "      <td>2000-09-30</td>\n",
       "      <td>A000020</td>\n",
       "      <td>C</td>\n",
       "      <td>254488830000</td>\n",
       "      <td>유가증권시장</td>\n",
       "      <td>12969835000</td>\n",
       "      <td>9.0</td>\n",
       "      <td>2000.0</td>\n",
       "      <td>254488830000</td>\n",
       "      <td>0.050964</td>\n",
       "    </tr>\n",
       "    <tr>\n",
       "      <th>82303</th>\n",
       "      <td>2000-12-31</td>\n",
       "      <td>A000020</td>\n",
       "      <td>C</td>\n",
       "      <td>254488830000</td>\n",
       "      <td>유가증권시장</td>\n",
       "      <td>12969835000</td>\n",
       "      <td>12.0</td>\n",
       "      <td>2000.0</td>\n",
       "      <td>254488830000</td>\n",
       "      <td>0.050964</td>\n",
       "    </tr>\n",
       "    <tr>\n",
       "      <th>82304</th>\n",
       "      <td>2001-03-31</td>\n",
       "      <td>A000020</td>\n",
       "      <td>C</td>\n",
       "      <td>254488830000</td>\n",
       "      <td>유가증권시장</td>\n",
       "      <td>12969835000</td>\n",
       "      <td>3.0</td>\n",
       "      <td>2001.0</td>\n",
       "      <td>215747248000</td>\n",
       "      <td>0.060116</td>\n",
       "    </tr>\n",
       "    <tr>\n",
       "      <th>...</th>\n",
       "      <td>...</td>\n",
       "      <td>...</td>\n",
       "      <td>...</td>\n",
       "      <td>...</td>\n",
       "      <td>...</td>\n",
       "      <td>...</td>\n",
       "      <td>...</td>\n",
       "      <td>...</td>\n",
       "      <td>...</td>\n",
       "      <td>...</td>\n",
       "    </tr>\n",
       "    <tr>\n",
       "      <th>114094</th>\n",
       "      <td>2023-09-30</td>\n",
       "      <td>A950220</td>\n",
       "      <td>M</td>\n",
       "      <td>92151554000</td>\n",
       "      <td>코스닥</td>\n",
       "      <td>-53502626000</td>\n",
       "      <td>9.0</td>\n",
       "      <td>2023.0</td>\n",
       "      <td>92151554000</td>\n",
       "      <td>-0.580594</td>\n",
       "    </tr>\n",
       "    <tr>\n",
       "      <th>114095</th>\n",
       "      <td>2023-12-31</td>\n",
       "      <td>A950220</td>\n",
       "      <td>M</td>\n",
       "      <td>92151554000</td>\n",
       "      <td>코스닥</td>\n",
       "      <td>-51550014000</td>\n",
       "      <td>12.0</td>\n",
       "      <td>2023.0</td>\n",
       "      <td>None</td>\n",
       "      <td>None</td>\n",
       "    </tr>\n",
       "    <tr>\n",
       "      <th>114096</th>\n",
       "      <td>2024-03-31</td>\n",
       "      <td>A950220</td>\n",
       "      <td>M</td>\n",
       "      <td>None</td>\n",
       "      <td>코스닥</td>\n",
       "      <td>None</td>\n",
       "      <td>3.0</td>\n",
       "      <td>2024.0</td>\n",
       "      <td>None</td>\n",
       "      <td>None</td>\n",
       "    </tr>\n",
       "    <tr>\n",
       "      <th>114097</th>\n",
       "      <td>2024-06-30</td>\n",
       "      <td>A950220</td>\n",
       "      <td>M</td>\n",
       "      <td>None</td>\n",
       "      <td>코스닥</td>\n",
       "      <td>None</td>\n",
       "      <td>6.0</td>\n",
       "      <td>2024.0</td>\n",
       "      <td>None</td>\n",
       "      <td>None</td>\n",
       "    </tr>\n",
       "    <tr>\n",
       "      <th>114098</th>\n",
       "      <td>2024-09-30</td>\n",
       "      <td>A950220</td>\n",
       "      <td>M</td>\n",
       "      <td>None</td>\n",
       "      <td>코스닥</td>\n",
       "      <td>None</td>\n",
       "      <td>9.0</td>\n",
       "      <td>2024.0</td>\n",
       "      <td>None</td>\n",
       "      <td>None</td>\n",
       "    </tr>\n",
       "  </tbody>\n",
       "</table>\n",
       "<p>331650 rows × 10 columns</p>\n",
       "</div>"
      ],
      "text/plain": [
       "             date firmcode ind_code         asset exchange        ebitda  \\\n",
       "82300  2000-03-31  A000020        C  231378084000   유가증권시장    1458265000   \n",
       "82301  2000-06-30  A000020        C  254488830000   유가증권시장   12969835000   \n",
       "82302  2000-09-30  A000020        C  254488830000   유가증권시장   12969835000   \n",
       "82303  2000-12-31  A000020        C  254488830000   유가증권시장   12969835000   \n",
       "82304  2001-03-31  A000020        C  254488830000   유가증권시장   12969835000   \n",
       "...           ...      ...      ...           ...      ...           ...   \n",
       "114094 2023-09-30  A950220        M   92151554000      코스닥  -53502626000   \n",
       "114095 2023-12-31  A950220        M   92151554000      코스닥  -51550014000   \n",
       "114096 2024-03-31  A950220        M          None      코스닥          None   \n",
       "114097 2024-06-30  A950220        M          None      코스닥          None   \n",
       "114098 2024-09-30  A950220        M          None      코스닥          None   \n",
       "\n",
       "        month    year     asset_lag  cashflow  \n",
       "82300     3.0  2000.0  254488830000   0.00573  \n",
       "82301     6.0  2000.0  254488830000  0.050964  \n",
       "82302     9.0  2000.0  254488830000  0.050964  \n",
       "82303    12.0  2000.0  254488830000  0.050964  \n",
       "82304     3.0  2001.0  215747248000  0.060116  \n",
       "...       ...     ...           ...       ...  \n",
       "114094    9.0  2023.0   92151554000 -0.580594  \n",
       "114095   12.0  2023.0          None      None  \n",
       "114096    3.0  2024.0          None      None  \n",
       "114097    6.0  2024.0          None      None  \n",
       "114098    9.0  2024.0          None      None  \n",
       "\n",
       "[331650 rows x 10 columns]"
      ]
     },
     "execution_count": 8,
     "metadata": {},
     "output_type": "execute_result"
    }
   ],
   "source": [
    "result = result[result[\"month\"].isin([3, 6, 9, 12])].sort_values([\"firmcode\", \"date\"])\n",
    "print(result.shape, result[\"firmcode\"].nunique())\n",
    "\n",
    "result = result[~result[\"ind_code\"].isin([\"K\", \"E\", \"D\"])]\n",
    "print(result.shape, result[\"firmcode\"].nunique())\n",
    "# K: 금융업\n",
    "# D: 전기, 가스, 증기 및 공기 조절 공급업\n",
    "# E: 수도, 하수, 및 폐기물 처리, 원료 재생업\n",
    "\n",
    "\n",
    "for k in result.columns:\n",
    "  print(k, result[k].isna().sum())\n",
    "  result.loc[result[k].isna(), k] = None\n",
    "\n",
    "print(result.shape)\n",
    "result = result.drop_duplicates()\n",
    "print(result.shape)\n",
    "result"
   ]
  },
  {
   "cell_type": "code",
   "execution_count": 9,
   "metadata": {},
   "outputs": [
    {
     "data": {
      "text/plain": [
       "ind_code\n",
       "C       209187\n",
       "J        42966\n",
       "G        24453\n",
       "M        21483\n",
       "None     12870\n",
       "F         9999\n",
       "H         3168\n",
       "N         2574\n",
       "P         1485\n",
       "R         1287\n",
       "I          693\n",
       "L          594\n",
       "A          594\n",
       "B          198\n",
       "S           99\n",
       "Name: count, dtype: int64"
      ]
     },
     "execution_count": 9,
     "metadata": {},
     "output_type": "execute_result"
    }
   ],
   "source": [
    "result[\"ind_code\"].value_counts(dropna=False)"
   ]
  },
  {
   "cell_type": "code",
   "execution_count": 10,
   "metadata": {
    "colab": {
     "base_uri": "https://localhost:8080/",
     "height": 144
    },
    "id": "SsImh1ET4bjw",
    "outputId": "ff6cb300-9d6c-4eec-b40c-a76da242d03f"
   },
   "outputs": [
    {
     "name": "stdout",
     "output_type": "stream",
     "text": [
      "(2979,)\n"
     ]
    },
    {
     "data": {
      "text/html": [
       "<div>\n",
       "<style scoped>\n",
       "    .dataframe tbody tr th:only-of-type {\n",
       "        vertical-align: middle;\n",
       "    }\n",
       "\n",
       "    .dataframe tbody tr th {\n",
       "        vertical-align: top;\n",
       "    }\n",
       "\n",
       "    .dataframe thead th {\n",
       "        text-align: right;\n",
       "    }\n",
       "</style>\n",
       "<table border=\"1\" class=\"dataframe\">\n",
       "  <thead>\n",
       "    <tr style=\"text-align: right;\">\n",
       "      <th></th>\n",
       "      <th>0</th>\n",
       "      <th>1</th>\n",
       "      <th>2</th>\n",
       "      <th>3</th>\n",
       "      <th>4</th>\n",
       "      <th>5</th>\n",
       "      <th>6</th>\n",
       "      <th>7</th>\n",
       "      <th>8</th>\n",
       "      <th>9</th>\n",
       "      <th>...</th>\n",
       "      <th>575</th>\n",
       "      <th>576</th>\n",
       "      <th>577</th>\n",
       "      <th>578</th>\n",
       "      <th>579</th>\n",
       "      <th>580</th>\n",
       "      <th>581</th>\n",
       "      <th>582</th>\n",
       "      <th>583</th>\n",
       "      <th>584</th>\n",
       "    </tr>\n",
       "  </thead>\n",
       "  <tbody>\n",
       "    <tr>\n",
       "      <th>firmcode</th>\n",
       "      <td>A000200</td>\n",
       "      <td>A000200</td>\n",
       "      <td>A000200</td>\n",
       "      <td>A000200</td>\n",
       "      <td>A000310</td>\n",
       "      <td>A000310</td>\n",
       "      <td>A000310</td>\n",
       "      <td>A001690</td>\n",
       "      <td>A001690</td>\n",
       "      <td>A001690</td>\n",
       "      <td>...</td>\n",
       "      <td>A460850</td>\n",
       "      <td>A460850</td>\n",
       "      <td>A460860</td>\n",
       "      <td>A460860</td>\n",
       "      <td>A462520</td>\n",
       "      <td>A465770</td>\n",
       "      <td>A950030</td>\n",
       "      <td>A950030</td>\n",
       "      <td>A950030</td>\n",
       "      <td>A950030</td>\n",
       "    </tr>\n",
       "    <tr>\n",
       "      <th>month</th>\n",
       "      <td>3.0</td>\n",
       "      <td>6.0</td>\n",
       "      <td>9.0</td>\n",
       "      <td>12.0</td>\n",
       "      <td>6.0</td>\n",
       "      <td>9.0</td>\n",
       "      <td>12.0</td>\n",
       "      <td>3.0</td>\n",
       "      <td>6.0</td>\n",
       "      <td>9.0</td>\n",
       "      <td>...</td>\n",
       "      <td>6.0</td>\n",
       "      <td>9.0</td>\n",
       "      <td>6.0</td>\n",
       "      <td>9.0</td>\n",
       "      <td>9.0</td>\n",
       "      <td>9.0</td>\n",
       "      <td>3.0</td>\n",
       "      <td>6.0</td>\n",
       "      <td>9.0</td>\n",
       "      <td>12.0</td>\n",
       "    </tr>\n",
       "    <tr>\n",
       "      <th>count</th>\n",
       "      <td>1</td>\n",
       "      <td>1</td>\n",
       "      <td>1</td>\n",
       "      <td>1</td>\n",
       "      <td>2</td>\n",
       "      <td>1</td>\n",
       "      <td>1</td>\n",
       "      <td>1</td>\n",
       "      <td>1</td>\n",
       "      <td>1</td>\n",
       "      <td>...</td>\n",
       "      <td>1</td>\n",
       "      <td>1</td>\n",
       "      <td>1</td>\n",
       "      <td>1</td>\n",
       "      <td>1</td>\n",
       "      <td>1</td>\n",
       "      <td>1</td>\n",
       "      <td>2</td>\n",
       "      <td>1</td>\n",
       "      <td>2</td>\n",
       "    </tr>\n",
       "  </tbody>\n",
       "</table>\n",
       "<p>3 rows × 585 columns</p>\n",
       "</div>"
      ],
      "text/plain": [
       "              0        1        2        3        4        5        6    \\\n",
       "firmcode  A000200  A000200  A000200  A000200  A000310  A000310  A000310   \n",
       "month         3.0      6.0      9.0     12.0      6.0      9.0     12.0   \n",
       "count           1        1        1        1        2        1        1   \n",
       "\n",
       "              7        8        9    ...      575      576      577      578  \\\n",
       "firmcode  A001690  A001690  A001690  ...  A460850  A460850  A460860  A460860   \n",
       "month         3.0      6.0      9.0  ...      6.0      9.0      6.0      9.0   \n",
       "count           1        1        1  ...        1        1        1        1   \n",
       "\n",
       "              579      580      581      582      583      584  \n",
       "firmcode  A462520  A465770  A950030  A950030  A950030  A950030  \n",
       "month         9.0      9.0      3.0      6.0      9.0     12.0  \n",
       "count           1        1        1        2        1        2  \n",
       "\n",
       "[3 rows x 585 columns]"
      ]
     },
     "execution_count": 10,
     "metadata": {},
     "output_type": "execute_result"
    }
   ],
   "source": [
    "\n",
    "result_temp = result.dropna(axis=0)\n",
    "\n",
    "t = result_temp[\"firmcode\"].value_counts()\n",
    "print(t.shape)\n",
    "# Delete under 3 years (8 quarters)\n",
    "# Not consider \"continuity\" yet (may forever)\n",
    "temp = pd.merge(t[t < 8], result_temp, on=[\"firmcode\"], how=\"left\")\n",
    "temp[[\"firmcode\", \"month\"]].value_counts().sort_index().reset_index().T\n"
   ]
  },
  {
   "cell_type": "code",
   "execution_count": 11,
   "metadata": {
    "id": "kkt8J75x5gcl"
   },
   "outputs": [],
   "source": [
    "result = result[~result[\"firmcode\"].isin(t[t < 8].index)]"
   ]
  },
  {
   "cell_type": "code",
   "execution_count": 12,
   "metadata": {
    "id": "uy7vT6cl5gWC"
   },
   "outputs": [],
   "source": [
    "result.to_csv(\"result_temp_3y.csv\", index=False)"
   ]
  },
  {
   "cell_type": "code",
   "execution_count": 13,
   "metadata": {},
   "outputs": [
    {
     "data": {
      "text/plain": [
       "Index(['date', 'firmcode', 'ind_code', 'asset', 'exchange', 'ebitda', 'month',\n",
       "       'year', 'asset_lag', 'cashflow'],\n",
       "      dtype='object')"
      ]
     },
     "execution_count": 13,
     "metadata": {},
     "output_type": "execute_result"
    }
   ],
   "source": [
    "result = pd.read_csv(\"result_temp_3y.csv\")\n",
    "result.columns"
   ]
  },
  {
   "cell_type": "code",
   "execution_count": 14,
   "metadata": {
    "colab": {
     "base_uri": "https://localhost:8080/"
    },
    "id": "gNZIBW1-5gO2",
    "outputId": "4149146c-62c6-4f75-f7b8-d5f2cc28034a"
   },
   "outputs": [
    {
     "data": {
      "text/plain": [
       "0"
      ]
     },
     "execution_count": 14,
     "metadata": {},
     "output_type": "execute_result"
    }
   ],
   "source": [
    "result[result[\"month\"]==2][\"cashflow\"].count()"
   ]
  },
  {
   "cell_type": "code",
   "execution_count": 15,
   "metadata": {},
   "outputs": [
    {
     "name": "stdout",
     "output_type": "stream",
     "text": [
      "3163\n",
      "(313137, 10)\n",
      "138979\n",
      "0.44382810079933066\n"
     ]
    }
   ],
   "source": [
    "print(\n",
    "    result[\"firmcode\"].nunique(),\n",
    "    result.shape,\n",
    "    result[\"cashflow\"].isna().sum(),\n",
    "    result[\"cashflow\"].isna().sum() / result.shape[0],\n",
    "    sep=\"\\n\"\n",
    ")"
   ]
  },
  {
   "cell_type": "code",
   "execution_count": 17,
   "metadata": {},
   "outputs": [
    {
     "data": {
      "text/plain": [
       "Index(['date', 'firmcode', 'ind_code', 'asset', 'exchange', 'ebitda', 'month',\n",
       "       'year', 'asset_lag', 'cashflow'],\n",
       "      dtype='object')"
      ]
     },
     "execution_count": 17,
     "metadata": {},
     "output_type": "execute_result"
    }
   ],
   "source": [
    "result.columns"
   ]
  },
  {
   "cell_type": "code",
   "execution_count": 18,
   "metadata": {
    "id": "j0EKq5Kv-HCk"
   },
   "outputs": [
    {
     "name": "stderr",
     "output_type": "stream",
     "text": [
      "C:\\Users\\DYK\\AppData\\Local\\Temp\\ipykernel_12928\\3410614397.py:26: DeprecationWarning: DataFrameGroupBy.apply operated on the grouping columns. This behavior is deprecated, and in a future version of pandas the grouping columns will be excluded from the operation. Either pass `include_groups=False` to exclude the groupings or explicitly select the grouping columns after groupby to silence this warning.\n",
      "  result_freq = groups.apply(quater_sum).reset_index(drop=True)\n"
     ]
    },
    {
     "data": {
      "text/html": [
       "<div>\n",
       "<style scoped>\n",
       "    .dataframe tbody tr th:only-of-type {\n",
       "        vertical-align: middle;\n",
       "    }\n",
       "\n",
       "    .dataframe tbody tr th {\n",
       "        vertical-align: top;\n",
       "    }\n",
       "\n",
       "    .dataframe thead th {\n",
       "        text-align: right;\n",
       "    }\n",
       "</style>\n",
       "<table border=\"1\" class=\"dataframe\">\n",
       "  <thead>\n",
       "    <tr style=\"text-align: right;\">\n",
       "      <th></th>\n",
       "      <th>date</th>\n",
       "      <th>firmcode</th>\n",
       "      <th>ind_code</th>\n",
       "      <th>asset</th>\n",
       "      <th>exchange</th>\n",
       "      <th>ebitda</th>\n",
       "      <th>month</th>\n",
       "      <th>year</th>\n",
       "      <th>asset_lag</th>\n",
       "      <th>cashflow</th>\n",
       "      <th>cashflow_num</th>\n",
       "      <th>cashflow_sum</th>\n",
       "    </tr>\n",
       "  </thead>\n",
       "  <tbody>\n",
       "    <tr>\n",
       "      <th>0</th>\n",
       "      <td>2000-03-31</td>\n",
       "      <td>A000020</td>\n",
       "      <td>C</td>\n",
       "      <td>2.313781e+11</td>\n",
       "      <td>유가증권시장</td>\n",
       "      <td>1.458265e+09</td>\n",
       "      <td>3.0</td>\n",
       "      <td>2000.0</td>\n",
       "      <td>2.544888e+11</td>\n",
       "      <td>0.005730</td>\n",
       "      <td>1.0</td>\n",
       "      <td>0.005730</td>\n",
       "    </tr>\n",
       "    <tr>\n",
       "      <th>1</th>\n",
       "      <td>2001-03-31</td>\n",
       "      <td>A000020</td>\n",
       "      <td>C</td>\n",
       "      <td>2.544888e+11</td>\n",
       "      <td>유가증권시장</td>\n",
       "      <td>1.296984e+10</td>\n",
       "      <td>3.0</td>\n",
       "      <td>2001.0</td>\n",
       "      <td>2.157472e+11</td>\n",
       "      <td>0.060116</td>\n",
       "      <td>2.0</td>\n",
       "      <td>0.065846</td>\n",
       "    </tr>\n",
       "    <tr>\n",
       "      <th>2</th>\n",
       "      <td>2002-03-31</td>\n",
       "      <td>A000020</td>\n",
       "      <td>C</td>\n",
       "      <td>2.157472e+11</td>\n",
       "      <td>유가증권시장</td>\n",
       "      <td>1.484693e+10</td>\n",
       "      <td>3.0</td>\n",
       "      <td>2002.0</td>\n",
       "      <td>2.014685e+11</td>\n",
       "      <td>0.073694</td>\n",
       "      <td>3.0</td>\n",
       "      <td>0.139540</td>\n",
       "    </tr>\n",
       "    <tr>\n",
       "      <th>3</th>\n",
       "      <td>2003-03-31</td>\n",
       "      <td>A000020</td>\n",
       "      <td>C</td>\n",
       "      <td>2.014685e+11</td>\n",
       "      <td>유가증권시장</td>\n",
       "      <td>1.743358e+10</td>\n",
       "      <td>3.0</td>\n",
       "      <td>2003.0</td>\n",
       "      <td>1.942339e+11</td>\n",
       "      <td>0.089756</td>\n",
       "      <td>4.0</td>\n",
       "      <td>0.229295</td>\n",
       "    </tr>\n",
       "    <tr>\n",
       "      <th>4</th>\n",
       "      <td>2004-03-31</td>\n",
       "      <td>A000020</td>\n",
       "      <td>C</td>\n",
       "      <td>1.942339e+11</td>\n",
       "      <td>유가증권시장</td>\n",
       "      <td>1.166431e+10</td>\n",
       "      <td>3.0</td>\n",
       "      <td>2004.0</td>\n",
       "      <td>1.952935e+11</td>\n",
       "      <td>0.059727</td>\n",
       "      <td>5.0</td>\n",
       "      <td>0.289022</td>\n",
       "    </tr>\n",
       "    <tr>\n",
       "      <th>...</th>\n",
       "      <td>...</td>\n",
       "      <td>...</td>\n",
       "      <td>...</td>\n",
       "      <td>...</td>\n",
       "      <td>...</td>\n",
       "      <td>...</td>\n",
       "      <td>...</td>\n",
       "      <td>...</td>\n",
       "      <td>...</td>\n",
       "      <td>...</td>\n",
       "      <td>...</td>\n",
       "      <td>...</td>\n",
       "    </tr>\n",
       "    <tr>\n",
       "      <th>313132</th>\n",
       "      <td>2019-12-31</td>\n",
       "      <td>A950220</td>\n",
       "      <td>M</td>\n",
       "      <td>NaN</td>\n",
       "      <td>NaN</td>\n",
       "      <td>NaN</td>\n",
       "      <td>12.0</td>\n",
       "      <td>2019.0</td>\n",
       "      <td>9.630732e+10</td>\n",
       "      <td>NaN</td>\n",
       "      <td>5.0</td>\n",
       "      <td>0.000000</td>\n",
       "    </tr>\n",
       "    <tr>\n",
       "      <th>313133</th>\n",
       "      <td>2020-12-31</td>\n",
       "      <td>A950220</td>\n",
       "      <td>M</td>\n",
       "      <td>9.630732e+10</td>\n",
       "      <td>NaN</td>\n",
       "      <td>-3.011571e+10</td>\n",
       "      <td>12.0</td>\n",
       "      <td>2020.0</td>\n",
       "      <td>1.892655e+11</td>\n",
       "      <td>-0.159119</td>\n",
       "      <td>5.0</td>\n",
       "      <td>-0.159119</td>\n",
       "    </tr>\n",
       "    <tr>\n",
       "      <th>313134</th>\n",
       "      <td>2021-12-31</td>\n",
       "      <td>A950220</td>\n",
       "      <td>M</td>\n",
       "      <td>1.892655e+11</td>\n",
       "      <td>코스닥</td>\n",
       "      <td>-4.656234e+10</td>\n",
       "      <td>12.0</td>\n",
       "      <td>2021.0</td>\n",
       "      <td>1.399733e+11</td>\n",
       "      <td>-0.332651</td>\n",
       "      <td>5.0</td>\n",
       "      <td>-0.491770</td>\n",
       "    </tr>\n",
       "    <tr>\n",
       "      <th>313135</th>\n",
       "      <td>2022-12-31</td>\n",
       "      <td>A950220</td>\n",
       "      <td>M</td>\n",
       "      <td>1.399733e+11</td>\n",
       "      <td>코스닥</td>\n",
       "      <td>-5.077918e+10</td>\n",
       "      <td>12.0</td>\n",
       "      <td>2022.0</td>\n",
       "      <td>9.215155e+10</td>\n",
       "      <td>-0.551040</td>\n",
       "      <td>5.0</td>\n",
       "      <td>-1.042810</td>\n",
       "    </tr>\n",
       "    <tr>\n",
       "      <th>313136</th>\n",
       "      <td>2023-12-31</td>\n",
       "      <td>A950220</td>\n",
       "      <td>M</td>\n",
       "      <td>9.215155e+10</td>\n",
       "      <td>코스닥</td>\n",
       "      <td>-5.155001e+10</td>\n",
       "      <td>12.0</td>\n",
       "      <td>2023.0</td>\n",
       "      <td>NaN</td>\n",
       "      <td>NaN</td>\n",
       "      <td>5.0</td>\n",
       "      <td>-1.042810</td>\n",
       "    </tr>\n",
       "  </tbody>\n",
       "</table>\n",
       "<p>313137 rows × 12 columns</p>\n",
       "</div>"
      ],
      "text/plain": [
       "              date firmcode ind_code         asset exchange        ebitda  \\\n",
       "0       2000-03-31  A000020        C  2.313781e+11   유가증권시장  1.458265e+09   \n",
       "1       2001-03-31  A000020        C  2.544888e+11   유가증권시장  1.296984e+10   \n",
       "2       2002-03-31  A000020        C  2.157472e+11   유가증권시장  1.484693e+10   \n",
       "3       2003-03-31  A000020        C  2.014685e+11   유가증권시장  1.743358e+10   \n",
       "4       2004-03-31  A000020        C  1.942339e+11   유가증권시장  1.166431e+10   \n",
       "...            ...      ...      ...           ...      ...           ...   \n",
       "313132  2019-12-31  A950220        M           NaN      NaN           NaN   \n",
       "313133  2020-12-31  A950220        M  9.630732e+10      NaN -3.011571e+10   \n",
       "313134  2021-12-31  A950220        M  1.892655e+11      코스닥 -4.656234e+10   \n",
       "313135  2022-12-31  A950220        M  1.399733e+11      코스닥 -5.077918e+10   \n",
       "313136  2023-12-31  A950220        M  9.215155e+10      코스닥 -5.155001e+10   \n",
       "\n",
       "        month    year     asset_lag  cashflow  cashflow_num  cashflow_sum  \n",
       "0         3.0  2000.0  2.544888e+11  0.005730           1.0      0.005730  \n",
       "1         3.0  2001.0  2.157472e+11  0.060116           2.0      0.065846  \n",
       "2         3.0  2002.0  2.014685e+11  0.073694           3.0      0.139540  \n",
       "3         3.0  2003.0  1.942339e+11  0.089756           4.0      0.229295  \n",
       "4         3.0  2004.0  1.952935e+11  0.059727           5.0      0.289022  \n",
       "...       ...     ...           ...       ...           ...           ...  \n",
       "313132   12.0  2019.0  9.630732e+10       NaN           5.0      0.000000  \n",
       "313133   12.0  2020.0  1.892655e+11 -0.159119           5.0     -0.159119  \n",
       "313134   12.0  2021.0  1.399733e+11 -0.332651           5.0     -0.491770  \n",
       "313135   12.0  2022.0  9.215155e+10 -0.551040           5.0     -1.042810  \n",
       "313136   12.0  2023.0           NaN       NaN           5.0     -1.042810  \n",
       "\n",
       "[313137 rows x 12 columns]"
      ]
     },
     "execution_count": 18,
     "metadata": {},
     "output_type": "execute_result"
    }
   ],
   "source": [
    "result[\"cashflow_num\"] = 0.0\n",
    "result[\"cashflow_sum\"] = 0.0\n",
    "result[\"cashflow\"] = result[\"cashflow\"].astype(float)\n",
    "groups = result.reset_index(drop=True).groupby([\"firmcode\", \"month\"])\n",
    "\n",
    "\n",
    "def quater_sum(group):\n",
    "  group = group.reset_index(drop=True)  \n",
    "  for i in range(0, group.shape[0]):\n",
    "    if not group.iloc[i][\"cashflow\"]:\n",
    "      continue\n",
    "\n",
    "    condition = ((group[\"year\"] - group.iloc[i][\"year\"] >= 0.0) & (group[\"year\"] - group.iloc[i][\"year\"] < MAX_YEAR))\n",
    "    # condition &= (group[\"month\"] == group.iloc[i][\"month\"]) \n",
    "    if group.loc[condition].shape[0] == 0:\n",
    "      continue\n",
    "\n",
    "    for k, v in {\n",
    "      \"cashflow_sum\": group.iloc[i][\"cashflow\"], \n",
    "      \"cashflow_num\": 1.0\n",
    "    }.items():\n",
    "      group.loc[condition, k] = group.loc[condition, k].add(v, fill_value=0).astype(float)\n",
    "      \n",
    "  return group.reset_index(drop=True)\n",
    "\n",
    "result_freq = groups.apply(quater_sum).reset_index(drop=True)\n",
    "result_freq # 10m"
   ]
  },
  {
   "cell_type": "code",
   "execution_count": 19,
   "metadata": {},
   "outputs": [],
   "source": [
    "result_freq.to_csv(\"result_freq1_3y.csv\")"
   ]
  },
  {
   "cell_type": "code",
   "execution_count": 20,
   "metadata": {},
   "outputs": [
    {
     "data": {
      "text/plain": [
       "((313137, 12),\n",
       " (313137, 12),\n",
       " Index(['date', 'firmcode', 'ind_code', 'asset', 'exchange', 'ebitda', 'month',\n",
       "        'year', 'asset_lag', 'cashflow', 'cashflow_num', 'cashflow_sum'],\n",
       "       dtype='object'))"
      ]
     },
     "execution_count": 20,
     "metadata": {},
     "output_type": "execute_result"
    }
   ],
   "source": [
    "result_freq.reset_index(drop=True).shape, result.shape, result_freq.columns"
   ]
  },
  {
   "cell_type": "code",
   "execution_count": 21,
   "metadata": {},
   "outputs": [
    {
     "name": "stdout",
     "output_type": "stream",
     "text": [
      "Index(['date', 'firmcode', 'ind_code', 'asset', 'exchange', 'ebitda', 'month',\n",
      "       'year', 'asset_lag', 'cashflow', 'cashflow_num', 'cashflow_sum'],\n",
      "      dtype='object')\n",
      "0\n"
     ]
    }
   ],
   "source": [
    "result_freq = pd.read_csv(\"result_freq1_3y.csv\").drop(\"Unnamed: 0\", axis=1)\n",
    "print(result_freq.columns)\n",
    "print(result_freq[\"date\"].isna().sum())"
   ]
  },
  {
   "cell_type": "code",
   "execution_count": 22,
   "metadata": {},
   "outputs": [
    {
     "data": {
      "text/plain": [
       "cashflow_num\n",
       "1.0     12652\n",
       "2.0     12652\n",
       "3.0     12652\n",
       "4.0     12652\n",
       "5.0    262529\n",
       "Name: count, dtype: int64"
      ]
     },
     "execution_count": 22,
     "metadata": {},
     "output_type": "execute_result"
    }
   ],
   "source": [
    "result_freq[\"cashflow_num\"].value_counts(dropna=False).sort_index()"
   ]
  },
  {
   "cell_type": "code",
   "execution_count": 23,
   "metadata": {},
   "outputs": [
    {
     "name": "stdout",
     "output_type": "stream",
     "text": [
      "3163\n"
     ]
    },
    {
     "data": {
      "text/plain": [
       "(3163, (275181, 12), 0)"
      ]
     },
     "execution_count": 23,
     "metadata": {},
     "output_type": "execute_result"
    }
   ],
   "source": [
    "# cashflow_num에 3이 없는 firmcode 확인\n",
    "print(result_freq[result_freq[\"cashflow_num\"] == MAX_YEAR][\"firmcode\"].nunique())\n",
    "firms = result_freq[result_freq[\"cashflow_num\"] == MAX_YEAR][\"firmcode\"].unique()\n",
    "result_freq = result_freq[result_freq[\"firmcode\"].isin(firms)]\n",
    "result_freq = result_freq[result_freq[\"cashflow_num\"] >= MAX_YEAR - 1]\n",
    "result_freq[\"firmcode\"].nunique(), result_freq.shape, result_freq[\"cashflow_sum\"].isna().sum()"
   ]
  },
  {
   "cell_type": "code",
   "execution_count": 24,
   "metadata": {},
   "outputs": [
    {
     "data": {
      "text/plain": [
       "cashflow_num\n",
       "4.0     12652\n",
       "5.0    262529\n",
       "Name: count, dtype: int64"
      ]
     },
     "execution_count": 24,
     "metadata": {},
     "output_type": "execute_result"
    }
   ],
   "source": [
    "result_freq[\"cashflow_num\"].value_counts(dropna=False).sort_index()"
   ]
  },
  {
   "cell_type": "code",
   "execution_count": 25,
   "metadata": {},
   "outputs": [
    {
     "name": "stdout",
     "output_type": "stream",
     "text": [
      "0\n",
      "<class 'pandas.core.frame.DataFrame'>\n",
      "Index: 275181 entries, 3 to 313136\n",
      "Data columns (total 16 columns):\n",
      " #   Column        Non-Null Count   Dtype         \n",
      "---  ------        --------------   -----         \n",
      " 0   date          275181 non-null  datetime64[ns]\n",
      " 1   firmcode      275181 non-null  object        \n",
      " 2   ind_code      263871 non-null  object        \n",
      " 3   asset         186302 non-null  float64       \n",
      " 4   exchange      176719 non-null  object        \n",
      " 5   ebitda        160659 non-null  float64       \n",
      " 6   month         275181 non-null  float64       \n",
      " 7   year          275181 non-null  float64       \n",
      " 8   asset_lag     184372 non-null  float64       \n",
      " 9   cashflow      157602 non-null  float64       \n",
      " 10  cashflow_num  275181 non-null  float64       \n",
      " 11  cashflow_sum  275181 non-null  float64       \n",
      " 12  quater        275181 non-null  float64       \n",
      " 13  main_quater   0 non-null       object        \n",
      " 14  quater_num    0 non-null       object        \n",
      " 15  quater_all    0 non-null       object        \n",
      "dtypes: datetime64[ns](1), float64(9), object(6)\n",
      "memory usage: 35.7+ MB\n"
     ]
    }
   ],
   "source": [
    "result_freq[\"quater\"] = result_freq[\"cashflow_sum\"] / result_freq[\"cashflow_num\"]\n",
    "result_freq[\"main_quater\"] = None\n",
    "result_freq[\"quater_num\"] = None\n",
    "result_freq[\"quater_all\"] = None\n",
    "result_freq[\"date\"] = pd.to_datetime(result_freq[\"date\"])\n",
    "print(\n",
    "    result_freq[\"date\"].isna().sum()\n",
    ")\n",
    "result_freq.info()"
   ]
  },
  {
   "cell_type": "code",
   "execution_count": null,
   "metadata": {},
   "outputs": [
    {
     "name": "stderr",
     "output_type": "stream",
     "text": [
      "C:\\Users\\DYK\\AppData\\Local\\Temp\\ipykernel_12928\\1490574088.py:30: DeprecationWarning: DataFrameGroupBy.apply operated on the grouping columns. This behavior is deprecated, and in a future version of pandas the grouping columns will be excluded from the operation. Either pass `include_groups=False` to exclude the groupings or explicitly select the grouping columns after groupby to silence this warning.\n",
      "  result_freq = groups.apply(main_quater) # 8.44m\n"
     ]
    }
   ],
   "source": [
    "groups = result_freq.reset_index(drop=True).groupby(\"firmcode\")\n",
    "\n",
    "def main_quater(group):\n",
    "  group = group.sort_values(\"date\").reset_index(drop=True)\n",
    "  for i in range(0, group.shape[0]):\n",
    "    if pd.isna(group.at[i, \"date\"]):\n",
    "      continue\n",
    "    current_date = group.at[i, \"date\"]\n",
    "    start_date = current_date - pd.DateOffset(years=2)\n",
    "    end_date = current_date - pd.DateOffset(years=1)\n",
    "    subset = group[(group['date'] > start_date) & (group['date'] <= end_date)]\n",
    "    if subset.empty:\n",
    "        continue\n",
    "\n",
    "    quaters = [\n",
    "      subset[subset['month'] == v][\"quater\"].values[0] \n",
    "      if subset[subset['month'] == v].shape[0] else 0\n",
    "      for v in (3, 6, 9, 12)]\n",
    "    quaters_num = (\n",
    "      subset[subset['month'] == v][\"cashflow_num\"].values[0] \n",
    "      if subset[subset['month'] == v].shape[0] else 0\n",
    "      for v in (3, 6, 9, 12))\n",
    "    \n",
    "    group.at[i, \"main_quater\"] = np.argmax(np.array(quaters)) \n",
    "    group.at[i, \"quater_all\"] = \" \".join(map(str, quaters))\n",
    "    group.at[i, \"quater_num\"] = \" \".join(map(str, quaters_num))\n",
    "    \n",
    "  return group.reset_index(drop=True)\n",
    "\n",
    "result_freq = groups.apply(main_quater) # 12m\n",
    "result_freq.loc[~result_freq[\"main_quater\"].isna(), \"main_quater\"] = result_freq.loc[\n",
    "  ~result_freq[\"main_quater\"].isna(), \"main_quater\"] + 1"
   ]
  },
  {
   "cell_type": "code",
   "execution_count": 27,
   "metadata": {},
   "outputs": [
    {
     "data": {
      "text/html": [
       "<div>\n",
       "<style scoped>\n",
       "    .dataframe tbody tr th:only-of-type {\n",
       "        vertical-align: middle;\n",
       "    }\n",
       "\n",
       "    .dataframe tbody tr th {\n",
       "        vertical-align: top;\n",
       "    }\n",
       "\n",
       "    .dataframe thead th {\n",
       "        text-align: right;\n",
       "    }\n",
       "</style>\n",
       "<table border=\"1\" class=\"dataframe\">\n",
       "  <thead>\n",
       "    <tr style=\"text-align: right;\">\n",
       "      <th></th>\n",
       "      <th></th>\n",
       "      <th>date</th>\n",
       "      <th>firmcode</th>\n",
       "      <th>ind_code</th>\n",
       "      <th>asset</th>\n",
       "      <th>exchange</th>\n",
       "      <th>ebitda</th>\n",
       "      <th>month</th>\n",
       "      <th>year</th>\n",
       "      <th>asset_lag</th>\n",
       "      <th>cashflow</th>\n",
       "      <th>cashflow_num</th>\n",
       "      <th>cashflow_sum</th>\n",
       "      <th>quater</th>\n",
       "      <th>main_quater</th>\n",
       "      <th>quater_num</th>\n",
       "      <th>quater_all</th>\n",
       "    </tr>\n",
       "    <tr>\n",
       "      <th>firmcode</th>\n",
       "      <th></th>\n",
       "      <th></th>\n",
       "      <th></th>\n",
       "      <th></th>\n",
       "      <th></th>\n",
       "      <th></th>\n",
       "      <th></th>\n",
       "      <th></th>\n",
       "      <th></th>\n",
       "      <th></th>\n",
       "      <th></th>\n",
       "      <th></th>\n",
       "      <th></th>\n",
       "      <th></th>\n",
       "      <th></th>\n",
       "      <th></th>\n",
       "      <th></th>\n",
       "    </tr>\n",
       "  </thead>\n",
       "  <tbody>\n",
       "    <tr>\n",
       "      <th rowspan=\"5\" valign=\"top\">A000020</th>\n",
       "      <th>0</th>\n",
       "      <td>2003-03-31</td>\n",
       "      <td>A000020</td>\n",
       "      <td>C</td>\n",
       "      <td>2.014685e+11</td>\n",
       "      <td>유가증권시장</td>\n",
       "      <td>1.743358e+10</td>\n",
       "      <td>3.0</td>\n",
       "      <td>2003.0</td>\n",
       "      <td>1.942339e+11</td>\n",
       "      <td>0.089756</td>\n",
       "      <td>4.0</td>\n",
       "      <td>0.229295</td>\n",
       "      <td>0.057324</td>\n",
       "      <td>None</td>\n",
       "      <td>None</td>\n",
       "      <td>None</td>\n",
       "    </tr>\n",
       "    <tr>\n",
       "      <th>1</th>\n",
       "      <td>2003-06-30</td>\n",
       "      <td>A000020</td>\n",
       "      <td>C</td>\n",
       "      <td>1.942339e+11</td>\n",
       "      <td>유가증권시장</td>\n",
       "      <td>1.138718e+10</td>\n",
       "      <td>6.0</td>\n",
       "      <td>2003.0</td>\n",
       "      <td>1.942339e+11</td>\n",
       "      <td>0.058626</td>\n",
       "      <td>4.0</td>\n",
       "      <td>0.264939</td>\n",
       "      <td>0.066235</td>\n",
       "      <td>None</td>\n",
       "      <td>None</td>\n",
       "      <td>None</td>\n",
       "    </tr>\n",
       "    <tr>\n",
       "      <th>2</th>\n",
       "      <td>2003-09-30</td>\n",
       "      <td>A000020</td>\n",
       "      <td>C</td>\n",
       "      <td>1.942339e+11</td>\n",
       "      <td>유가증권시장</td>\n",
       "      <td>1.163411e+10</td>\n",
       "      <td>9.0</td>\n",
       "      <td>2003.0</td>\n",
       "      <td>1.942339e+11</td>\n",
       "      <td>0.059897</td>\n",
       "      <td>4.0</td>\n",
       "      <td>0.266211</td>\n",
       "      <td>0.066553</td>\n",
       "      <td>None</td>\n",
       "      <td>None</td>\n",
       "      <td>None</td>\n",
       "    </tr>\n",
       "    <tr>\n",
       "      <th>3</th>\n",
       "      <td>2003-12-31</td>\n",
       "      <td>A000020</td>\n",
       "      <td>C</td>\n",
       "      <td>1.942339e+11</td>\n",
       "      <td>유가증권시장</td>\n",
       "      <td>1.155413e+10</td>\n",
       "      <td>12.0</td>\n",
       "      <td>2003.0</td>\n",
       "      <td>1.942339e+11</td>\n",
       "      <td>0.059486</td>\n",
       "      <td>4.0</td>\n",
       "      <td>0.265799</td>\n",
       "      <td>0.066450</td>\n",
       "      <td>None</td>\n",
       "      <td>None</td>\n",
       "      <td>None</td>\n",
       "    </tr>\n",
       "    <tr>\n",
       "      <th>4</th>\n",
       "      <td>2004-03-31</td>\n",
       "      <td>A000020</td>\n",
       "      <td>C</td>\n",
       "      <td>1.942339e+11</td>\n",
       "      <td>유가증권시장</td>\n",
       "      <td>1.166431e+10</td>\n",
       "      <td>3.0</td>\n",
       "      <td>2004.0</td>\n",
       "      <td>1.952935e+11</td>\n",
       "      <td>0.059727</td>\n",
       "      <td>5.0</td>\n",
       "      <td>0.289022</td>\n",
       "      <td>0.057804</td>\n",
       "      <td>1</td>\n",
       "      <td>4.0 0 0 0</td>\n",
       "      <td>0.05732380825690338 0 0 0</td>\n",
       "    </tr>\n",
       "    <tr>\n",
       "      <th>...</th>\n",
       "      <th>...</th>\n",
       "      <td>...</td>\n",
       "      <td>...</td>\n",
       "      <td>...</td>\n",
       "      <td>...</td>\n",
       "      <td>...</td>\n",
       "      <td>...</td>\n",
       "      <td>...</td>\n",
       "      <td>...</td>\n",
       "      <td>...</td>\n",
       "      <td>...</td>\n",
       "      <td>...</td>\n",
       "      <td>...</td>\n",
       "      <td>...</td>\n",
       "      <td>...</td>\n",
       "      <td>...</td>\n",
       "      <td>...</td>\n",
       "    </tr>\n",
       "    <tr>\n",
       "      <th rowspan=\"5\" valign=\"top\">A950220</th>\n",
       "      <th>82</th>\n",
       "      <td>2023-09-30</td>\n",
       "      <td>A950220</td>\n",
       "      <td>M</td>\n",
       "      <td>9.215155e+10</td>\n",
       "      <td>코스닥</td>\n",
       "      <td>-5.350263e+10</td>\n",
       "      <td>9.0</td>\n",
       "      <td>2023.0</td>\n",
       "      <td>9.215155e+10</td>\n",
       "      <td>-0.580594</td>\n",
       "      <td>5.0</td>\n",
       "      <td>-1.527537</td>\n",
       "      <td>-0.305507</td>\n",
       "      <td>4</td>\n",
       "      <td>5.0 5.0 5.0 5.0</td>\n",
       "      <td>-0.12521600251335555 -0.12521600251335555 -0.1...</td>\n",
       "    </tr>\n",
       "    <tr>\n",
       "      <th>83</th>\n",
       "      <td>2023-12-31</td>\n",
       "      <td>A950220</td>\n",
       "      <td>M</td>\n",
       "      <td>9.215155e+10</td>\n",
       "      <td>코스닥</td>\n",
       "      <td>-5.155001e+10</td>\n",
       "      <td>12.0</td>\n",
       "      <td>2023.0</td>\n",
       "      <td>NaN</td>\n",
       "      <td>NaN</td>\n",
       "      <td>5.0</td>\n",
       "      <td>-1.042810</td>\n",
       "      <td>-0.208562</td>\n",
       "      <td>1</td>\n",
       "      <td>5.0 5.0 5.0 5.0</td>\n",
       "      <td>-0.12521600251335555 -0.12521600251335555 -0.1...</td>\n",
       "    </tr>\n",
       "    <tr>\n",
       "      <th>84</th>\n",
       "      <td>2024-03-31</td>\n",
       "      <td>A950220</td>\n",
       "      <td>M</td>\n",
       "      <td>NaN</td>\n",
       "      <td>코스닥</td>\n",
       "      <td>NaN</td>\n",
       "      <td>3.0</td>\n",
       "      <td>2024.0</td>\n",
       "      <td>NaN</td>\n",
       "      <td>NaN</td>\n",
       "      <td>5.0</td>\n",
       "      <td>-1.206674</td>\n",
       "      <td>-0.241335</td>\n",
       "      <td>2</td>\n",
       "      <td>5.0 5.0 5.0 5.0</td>\n",
       "      <td>-0.24133477355437347 -0.12521600251335555 -0.1...</td>\n",
       "    </tr>\n",
       "    <tr>\n",
       "      <th>85</th>\n",
       "      <td>2024-06-30</td>\n",
       "      <td>A950220</td>\n",
       "      <td>M</td>\n",
       "      <td>NaN</td>\n",
       "      <td>코스닥</td>\n",
       "      <td>NaN</td>\n",
       "      <td>6.0</td>\n",
       "      <td>2024.0</td>\n",
       "      <td>NaN</td>\n",
       "      <td>NaN</td>\n",
       "      <td>5.0</td>\n",
       "      <td>-1.206674</td>\n",
       "      <td>-0.241335</td>\n",
       "      <td>3</td>\n",
       "      <td>5.0 5.0 5.0 5.0</td>\n",
       "      <td>-0.24133477355437347 -0.24133477355437347 -0.1...</td>\n",
       "    </tr>\n",
       "    <tr>\n",
       "      <th>86</th>\n",
       "      <td>2024-09-30</td>\n",
       "      <td>A950220</td>\n",
       "      <td>M</td>\n",
       "      <td>NaN</td>\n",
       "      <td>코스닥</td>\n",
       "      <td>NaN</td>\n",
       "      <td>9.0</td>\n",
       "      <td>2024.0</td>\n",
       "      <td>NaN</td>\n",
       "      <td>NaN</td>\n",
       "      <td>5.0</td>\n",
       "      <td>-1.527537</td>\n",
       "      <td>-0.305507</td>\n",
       "      <td>4</td>\n",
       "      <td>5.0 5.0 5.0 5.0</td>\n",
       "      <td>-0.24133477355437347 -0.24133477355437347 -0.3...</td>\n",
       "    </tr>\n",
       "  </tbody>\n",
       "</table>\n",
       "<p>275181 rows × 16 columns</p>\n",
       "</div>"
      ],
      "text/plain": [
       "                  date firmcode ind_code         asset exchange        ebitda  \\\n",
       "firmcode                                                                        \n",
       "A000020  0  2003-03-31  A000020        C  2.014685e+11   유가증권시장  1.743358e+10   \n",
       "         1  2003-06-30  A000020        C  1.942339e+11   유가증권시장  1.138718e+10   \n",
       "         2  2003-09-30  A000020        C  1.942339e+11   유가증권시장  1.163411e+10   \n",
       "         3  2003-12-31  A000020        C  1.942339e+11   유가증권시장  1.155413e+10   \n",
       "         4  2004-03-31  A000020        C  1.942339e+11   유가증권시장  1.166431e+10   \n",
       "...                ...      ...      ...           ...      ...           ...   \n",
       "A950220  82 2023-09-30  A950220        M  9.215155e+10      코스닥 -5.350263e+10   \n",
       "         83 2023-12-31  A950220        M  9.215155e+10      코스닥 -5.155001e+10   \n",
       "         84 2024-03-31  A950220        M           NaN      코스닥           NaN   \n",
       "         85 2024-06-30  A950220        M           NaN      코스닥           NaN   \n",
       "         86 2024-09-30  A950220        M           NaN      코스닥           NaN   \n",
       "\n",
       "             month    year     asset_lag  cashflow  cashflow_num  \\\n",
       "firmcode                                                           \n",
       "A000020  0     3.0  2003.0  1.942339e+11  0.089756           4.0   \n",
       "         1     6.0  2003.0  1.942339e+11  0.058626           4.0   \n",
       "         2     9.0  2003.0  1.942339e+11  0.059897           4.0   \n",
       "         3    12.0  2003.0  1.942339e+11  0.059486           4.0   \n",
       "         4     3.0  2004.0  1.952935e+11  0.059727           5.0   \n",
       "...            ...     ...           ...       ...           ...   \n",
       "A950220  82    9.0  2023.0  9.215155e+10 -0.580594           5.0   \n",
       "         83   12.0  2023.0           NaN       NaN           5.0   \n",
       "         84    3.0  2024.0           NaN       NaN           5.0   \n",
       "         85    6.0  2024.0           NaN       NaN           5.0   \n",
       "         86    9.0  2024.0           NaN       NaN           5.0   \n",
       "\n",
       "             cashflow_sum    quater main_quater       quater_num  \\\n",
       "firmcode                                                           \n",
       "A000020  0       0.229295  0.057324        None             None   \n",
       "         1       0.264939  0.066235        None             None   \n",
       "         2       0.266211  0.066553        None             None   \n",
       "         3       0.265799  0.066450        None             None   \n",
       "         4       0.289022  0.057804           1        4.0 0 0 0   \n",
       "...                   ...       ...         ...              ...   \n",
       "A950220  82     -1.527537 -0.305507           4  5.0 5.0 5.0 5.0   \n",
       "         83     -1.042810 -0.208562           1  5.0 5.0 5.0 5.0   \n",
       "         84     -1.206674 -0.241335           2  5.0 5.0 5.0 5.0   \n",
       "         85     -1.206674 -0.241335           3  5.0 5.0 5.0 5.0   \n",
       "         86     -1.527537 -0.305507           4  5.0 5.0 5.0 5.0   \n",
       "\n",
       "                                                    quater_all  \n",
       "firmcode                                                        \n",
       "A000020  0                                                None  \n",
       "         1                                                None  \n",
       "         2                                                None  \n",
       "         3                                                None  \n",
       "         4                           0.05732380825690338 0 0 0  \n",
       "...                                                        ...  \n",
       "A950220  82  -0.12521600251335555 -0.12521600251335555 -0.1...  \n",
       "         83  -0.12521600251335555 -0.12521600251335555 -0.1...  \n",
       "         84  -0.24133477355437347 -0.12521600251335555 -0.1...  \n",
       "         85  -0.24133477355437347 -0.24133477355437347 -0.1...  \n",
       "         86  -0.24133477355437347 -0.24133477355437347 -0.3...  \n",
       "\n",
       "[275181 rows x 16 columns]"
      ]
     },
     "execution_count": 27,
     "metadata": {},
     "output_type": "execute_result"
    }
   ],
   "source": [
    "result_freq"
   ]
  },
  {
   "cell_type": "code",
   "execution_count": 28,
   "metadata": {},
   "outputs": [
    {
     "data": {
      "text/plain": [
       "date\n",
       "2003-03-31    3163\n",
       "2003-06-30    3163\n",
       "2003-09-30    3163\n",
       "2003-12-31    3163\n",
       "2004-03-31    3163\n",
       "              ... \n",
       "2023-09-30    3163\n",
       "2023-12-31    3163\n",
       "2024-03-31    3163\n",
       "2024-06-30    3163\n",
       "2024-09-30    3163\n",
       "Name: count, Length: 87, dtype: int64"
      ]
     },
     "execution_count": 28,
     "metadata": {},
     "output_type": "execute_result"
    }
   ],
   "source": [
    "result_freq[\"date\"].value_counts().sort_index()"
   ]
  },
  {
   "cell_type": "code",
   "execution_count": 29,
   "metadata": {},
   "outputs": [
    {
     "name": "stdout",
     "output_type": "stream",
     "text": [
      "<class 'pandas.core.frame.DataFrame'>\n",
      "MultiIndex: 275181 entries, ('A000020', 0) to ('A950220', 86)\n",
      "Data columns (total 16 columns):\n",
      " #   Column        Non-Null Count   Dtype         \n",
      "---  ------        --------------   -----         \n",
      " 0   date          275181 non-null  datetime64[ns]\n",
      " 1   firmcode      275181 non-null  object        \n",
      " 2   ind_code      263871 non-null  object        \n",
      " 3   asset         186302 non-null  float64       \n",
      " 4   exchange      176719 non-null  object        \n",
      " 5   ebitda        160659 non-null  float64       \n",
      " 6   month         275181 non-null  float64       \n",
      " 7   year          275181 non-null  float64       \n",
      " 8   asset_lag     184372 non-null  float64       \n",
      " 9   cashflow      157602 non-null  float64       \n",
      " 10  cashflow_num  275181 non-null  float64       \n",
      " 11  cashflow_sum  275181 non-null  float64       \n",
      " 12  quater        275181 non-null  float64       \n",
      " 13  main_quater   262529 non-null  object        \n",
      " 14  quater_num    262529 non-null  object        \n",
      " 15  quater_all    262529 non-null  object        \n",
      "dtypes: datetime64[ns](1), float64(9), object(6)\n",
      "memory usage: 34.5+ MB\n"
     ]
    }
   ],
   "source": [
    "result_freq.info()"
   ]
  },
  {
   "cell_type": "code",
   "execution_count": 30,
   "metadata": {},
   "outputs": [
    {
     "data": {
      "text/plain": [
       "firmcode  date      \n",
       "A000020   2003-03-31    1\n",
       "          2003-06-30    1\n",
       "          2003-09-30    1\n",
       "          2003-12-31    1\n",
       "          2004-03-31    1\n",
       "                       ..\n",
       "A950220   2023-09-30    1\n",
       "          2023-12-31    1\n",
       "          2024-03-31    1\n",
       "          2024-06-30    1\n",
       "          2024-09-30    1\n",
       "Name: count, Length: 275181, dtype: int64"
      ]
     },
     "execution_count": 30,
     "metadata": {},
     "output_type": "execute_result"
    }
   ],
   "source": [
    "result_freq.rename(columns={\"firmcode\": \"firmcode.1\"}).reset_index(drop=False)[[\"firmcode\", \"date\"]].value_counts(dropna=False).sort_index()"
   ]
  },
  {
   "cell_type": "code",
   "execution_count": 31,
   "metadata": {
    "id": "VsF4hGDKAKEV"
   },
   "outputs": [
    {
     "name": "stdout",
     "output_type": "stream",
     "text": [
      "Index(['date', 'firmcode', 'ind_code', 'asset', 'exchange', 'ebitda', 'month',\n",
      "       'year', 'asset_lag', 'cashflow', 'cashflow_num', 'cashflow_sum',\n",
      "       'quater', 'main_quater', 'quater_num', 'quater_all'],\n",
      "      dtype='object')\n",
      "0\n",
      "(275181, 16)\n",
      "(275181, 16)\n"
     ]
    }
   ],
   "source": [
    "result_freq = result_freq.reset_index(drop=True)\n",
    "# result_freq[\"date\"] = result_freq[\"date\"].dt.strftime(\"%Y-%m-%d\")\n",
    "print(result_freq.columns)\n",
    "print(result_freq[\"date\"].isna().sum())\n",
    "print(result_freq.shape)\n",
    "result_freq = result_freq.dropna(subset=[\"date\"])\n",
    "print(result_freq.shape)\n",
    "result_freq.to_csv(\"result_freq_3y.csv\", index=False)"
   ]
  },
  {
   "cell_type": "code",
   "execution_count": 32,
   "metadata": {},
   "outputs": [
    {
     "name": "stdout",
     "output_type": "stream",
     "text": [
      "(275181, 16)\n"
     ]
    }
   ],
   "source": [
    "print(result_freq.shape)"
   ]
  },
  {
   "cell_type": "code",
   "execution_count": 33,
   "metadata": {},
   "outputs": [],
   "source": [
    "# group = result_freq[result_freq[\"firmcode\"] == \"A000020\"]\n",
    "# i = 5\n",
    "# current_date = group.iloc[i][\"date\"]\n",
    "# start_date = current_date - pd.DateOffset(years=2)\n",
    "# end_date = current_date - pd.DateOffset(years=1)\n",
    "# subset = group[(group['date'] > start_date) & (group['date'] <= end_date)]"
   ]
  },
  {
   "cell_type": "code",
   "execution_count": 34,
   "metadata": {},
   "outputs": [],
   "source": [
    "result_freq = pd.read_csv(\"result_freq_3y.csv\") "
   ]
  },
  {
   "cell_type": "code",
   "execution_count": 35,
   "metadata": {},
   "outputs": [
    {
     "data": {
      "text/plain": [
       "quater_num\n",
       "4.0 0 0 0          0.011494\n",
       "4.0 4.0 0 0        0.011494\n",
       "4.0 4.0 4.0 0      0.011494\n",
       "4.0 4.0 4.0 4.0    0.011494\n",
       "5.0 4.0 4.0 4.0    0.011494\n",
       "5.0 5.0 4.0 4.0    0.011494\n",
       "5.0 5.0 5.0 4.0    0.011494\n",
       "5.0 5.0 5.0 5.0    0.873563\n",
       "NaN                0.045977\n",
       "Name: count, dtype: float64"
      ]
     },
     "execution_count": 35,
     "metadata": {},
     "output_type": "execute_result"
    }
   ],
   "source": [
    "(result_freq[\"quater_num\"].value_counts(dropna=False).sort_index() / result_freq.shape[0]).tail(10)"
   ]
  },
  {
   "cell_type": "code",
   "execution_count": 40,
   "metadata": {},
   "outputs": [
    {
     "data": {
      "text/plain": [
       "quater_num\n",
       "4.0 0 0 0            3163\n",
       "4.0 4.0 0 0          3163\n",
       "4.0 4.0 4.0 0        3163\n",
       "4.0 4.0 4.0 4.0      3163\n",
       "5.0 4.0 4.0 4.0      3163\n",
       "5.0 5.0 4.0 4.0      3163\n",
       "5.0 5.0 5.0 4.0      3163\n",
       "5.0 5.0 5.0 5.0    240388\n",
       "NaN                 12652\n",
       "Name: count, dtype: int64"
      ]
     },
     "execution_count": 40,
     "metadata": {},
     "output_type": "execute_result"
    }
   ],
   "source": [
    "result_freq[\"quater_num\"].value_counts(dropna=False).sort_index().tail(10)"
   ]
  },
  {
   "cell_type": "code",
   "execution_count": 36,
   "metadata": {},
   "outputs": [
    {
     "data": {
      "text/plain": [
       "quater_num\n",
       "4.0 0 0 0          0.011494\n",
       "4.0 4.0 0 0        0.011494\n",
       "4.0 4.0 4.0 0      0.011494\n",
       "4.0 4.0 4.0 4.0    0.011494\n",
       "5.0 4.0 4.0 4.0    0.011494\n",
       "5.0 5.0 4.0 4.0    0.011494\n",
       "5.0 5.0 5.0 4.0    0.011494\n",
       "5.0 5.0 5.0 5.0    0.873563\n",
       "NaN                0.045977\n",
       "Name: count, dtype: float64"
      ]
     },
     "execution_count": 36,
     "metadata": {},
     "output_type": "execute_result"
    }
   ],
   "source": [
    "result_freq[\"quater_num\"].value_counts(dropna=False).sort_index().tail(10) / result_freq.dropna(subset=[\"date\"]).shape[0]"
   ]
  },
  {
   "cell_type": "code",
   "execution_count": 37,
   "metadata": {},
   "outputs": [
    {
     "data": {
      "text/plain": [
       "date\n",
       "2003-03-31    3163\n",
       "2016-12-31    3163\n",
       "2018-12-31    3163\n",
       "2018-09-30    3163\n",
       "2018-06-30    3163\n",
       "              ... \n",
       "2009-12-31    3163\n",
       "2009-09-30    3163\n",
       "2009-06-30    3163\n",
       "2009-03-31    3163\n",
       "2024-09-30    3163\n",
       "Name: count, Length: 87, dtype: int64"
      ]
     },
     "execution_count": 37,
     "metadata": {},
     "output_type": "execute_result"
    }
   ],
   "source": [
    "result_freq[\"date\"].value_counts(dropna=False)"
   ]
  },
  {
   "cell_type": "code",
   "execution_count": 41,
   "metadata": {
    "id": "UlVwfaeZV6EP"
   },
   "outputs": [],
   "source": [
    "import pandas as pd\n",
    "\n",
    "result_freq = pd.read_csv(\"result_freq_3y.csv\")\n",
    "result_freq[\"quaters_num_str\"] = result_freq[\"quater_num\"].apply(lambda x: x.split(\" \") if isinstance(x, str) else [\"0\"]*4)\n",
    "result_freq[\"quaters_num_cnt\"] = result_freq[\"quater_num\"].apply(lambda x: sum(list(map(float, x.split(\" \")))) if isinstance(x, str) else 0)"
   ]
  },
  {
   "cell_type": "code",
   "execution_count": 47,
   "metadata": {},
   "outputs": [],
   "source": [
    "result_freq[result_freq[\"quaters_num_cnt\"] == MAX_YEAR*4].to_csv(\"result_5y.csv\", index=False)"
   ]
  },
  {
   "cell_type": "code",
   "execution_count": 48,
   "metadata": {
    "colab": {
     "base_uri": "https://localhost:8080/",
     "height": 523
    },
    "id": "TXvRniKgV5xD",
    "outputId": "953e9049-18f8-4e7f-acdc-4cadb243bc12"
   },
   "outputs": [
    {
     "data": {
      "text/plain": [
       "quaters_num_cnt\n",
       "0.0      12652\n",
       "4.0       3163\n",
       "8.0       3163\n",
       "12.0      3163\n",
       "16.0      3163\n",
       "17.0      3163\n",
       "18.0      3163\n",
       "19.0      3163\n",
       "20.0    240388\n",
       "Name: count, dtype: int64"
      ]
     },
     "execution_count": 48,
     "metadata": {},
     "output_type": "execute_result"
    }
   ],
   "source": [
    "result_freq[\"quaters_num_cnt\"].value_counts().sort_index()"
   ]
  },
  {
   "cell_type": "code",
   "execution_count": 43,
   "metadata": {
    "colab": {
     "base_uri": "https://localhost:8080/"
    },
    "id": "1nwEaGMMfyBW",
    "outputId": "13c7d1e3-5188-463f-c90c-4168eed92c62"
   },
   "outputs": [
    {
     "data": {
      "text/plain": [
       "275181"
      ]
     },
     "execution_count": 43,
     "metadata": {},
     "output_type": "execute_result"
    }
   ],
   "source": [
    "result_freq.shape[0]"
   ]
  },
  {
   "cell_type": "code",
   "execution_count": 44,
   "metadata": {
    "colab": {
     "base_uri": "https://localhost:8080/",
     "height": 523
    },
    "id": "HcuK9sNfddlj",
    "outputId": "c3215093-d7df-4b99-d087-55b472b5a2f0"
   },
   "outputs": [
    {
     "data": {
      "text/plain": [
       "quaters_num_cnt\n",
       "0.0     0.045977\n",
       "4.0     0.011494\n",
       "8.0     0.011494\n",
       "12.0    0.011494\n",
       "16.0    0.011494\n",
       "17.0    0.011494\n",
       "18.0    0.011494\n",
       "19.0    0.011494\n",
       "20.0    0.873563\n",
       "Name: count, dtype: float64"
      ]
     },
     "execution_count": 44,
     "metadata": {},
     "output_type": "execute_result"
    }
   ],
   "source": [
    "result_freq[\"quaters_num_cnt\"].value_counts().sort_index()/result_freq.shape[0]"
   ]
  },
  {
   "cell_type": "code",
   "execution_count": 45,
   "metadata": {
    "colab": {
     "base_uri": "https://localhost:8080/"
    },
    "id": "Ioh5alcjdiCZ",
    "outputId": "181f4f39-73a4-4771-e6ed-1b37c14d2aa4"
   },
   "outputs": [
    {
     "name": "stdout",
     "output_type": "stream",
     "text": [
      "3163\n"
     ]
    }
   ],
   "source": [
    "print(result_freq[\"firmcode\"].nunique())"
   ]
  },
  {
   "cell_type": "code",
   "execution_count": null,
   "metadata": {
    "id": "Y9oK8U74HIG8"
   },
   "outputs": [],
   "source": []
  }
 ],
 "metadata": {
  "colab": {
   "provenance": []
  },
  "kernelspec": {
   "display_name": "Python 3",
   "language": "python",
   "name": "python3"
  },
  "language_info": {
   "codemirror_mode": {
    "name": "ipython",
    "version": 3
   },
   "file_extension": ".py",
   "mimetype": "text/x-python",
   "name": "python",
   "nbconvert_exporter": "python",
   "pygments_lexer": "ipython3",
   "version": "3.11.4"
  }
 },
 "nbformat": 4,
 "nbformat_minor": 0
}
