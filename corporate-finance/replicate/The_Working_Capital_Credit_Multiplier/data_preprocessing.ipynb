{
 "cells": [
  {
   "cell_type": "code",
   "execution_count": 98,
   "metadata": {
    "id": "Vx4WFzZHrUEr"
   },
   "outputs": [],
   "source": [
    "import pandas as pd\n",
    "import numpy as np\n",
    "\n",
    "pd.set_option('display.float_format', lambda x: '%.6f' % x)\n",
    "\n",
    "MAX_YEAR = 3.0\n",
    "DEL_UNDER_YEAR = 2 * 4  # 12 quaters\n",
    "\n",
    "ffill_lag = lambda col: col.where(col.notna(), col.shift(1))\n",
    "bfill_lag = lambda col: col.where(col.notna(), col.shift(-1))"
   ]
  },
  {
   "cell_type": "markdown",
   "metadata": {},
   "source": [
    "##### Manipulation\n",
    "- ffill bfill on [asset, sales, op_earn, depre_amort]\n",
    "- main_quater\n",
    "  - MAX_YEAR=5 -> 3 years\n",
    "  - pass when missing \"only once\"\n",
    "- bye bye continuity...\n",
    "  - supplier financing avg...\n",
    "  - delta cashflow avg..."
   ]
  },
  {
   "cell_type": "code",
   "execution_count": 2,
   "metadata": {
    "id": "EstzT5latLNK"
   },
   "outputs": [],
   "source": [
    "# dfs = {\n",
    "#     \"ind_code\": pd.read_excel(\"./dataguide/총자산.xlsx\", sheet_name=\"ind_code\"),\n",
    "#     \"op_earn\": pd.read_excel(\"./dataguide/김도연1.xlsx\", sheet_name=\"op_earn\"),\n",
    "#     \"depre_amort\": pd.read_excel(\"./dataguide/김도연1.xlsx\", sheet_name=\"depre_amort\"),\n",
    "#     \"asset\": pd.read_excel(\"./dataguide/총자산.xlsx\", sheet_name=\"asset\"),\n",
    "#     \"exchange\": pd.read_excel(\"./dataguide/총자산.xlsx\", sheet_name=\"exchange\")\n",
    "# }"
   ]
  },
  {
   "cell_type": "code",
   "execution_count": 3,
   "metadata": {},
   "outputs": [
    {
     "name": "stdout",
     "output_type": "stream",
     "text": [
      "키: depre_amort, 데이터프레임 크기: (113, 3775)\n",
      "키: depre, 데이터프레임 크기: (113, 3775)\n",
      "키: age, 데이터프레임 크기: (15, 3775)\n",
      "키: n_acq_intangi, 데이터프레임 크기: (113, 3775)\n",
      "키: tangi, 데이터프레임 크기: (113, 3775)\n",
      "키: intangi, 데이터프레임 크기: (113, 3775)\n",
      "키: cash, 데이터프레임 크기: (113, 3775)\n",
      "키: payab, 데이터프레임 크기: (113, 3775)\n",
      "키: invent, 데이터프레임 크기: (113, 3775)\n",
      "키: const_receiv2, 데이터프레임 크기: (113, 3775)\n",
      "키: receiv, 데이터프레임 크기: (113, 3775)\n",
      "키: st_debt, 데이터프레임 크기: (113, 3775)\n",
      "키: lt_debt, 데이터프레임 크기: (113, 3775)\n",
      "키: t_debt, 데이터프레임 크기: (113, 3775)\n",
      "키: const_receiv1, 데이터프레임 크기: (113, 3775)\n",
      "키: amort, 데이터프레임 크기: (113, 3781)\n",
      "키: defer_tax_debt, 데이터프레임 크기: (113, 3781)\n",
      "키: common_mktcap, 데이터프레임 크기: (113, 3781)\n",
      "키: prefer_mktcap, 데이터프레임 크기: (113, 3781)\n",
      "키: asset, 데이터프레임 크기: (113, 3781)\n",
      "키: exchange, 데이터프레임 크기: (113, 3775)\n",
      "키: ind_code, 데이터프레임 크기: (113, 3775)\n",
      "키: sales, 데이터프레임 크기: (113, 3781)\n",
      "키: op_earn, 데이터프레임 크기: (113, 3781)\n",
      "키: n_acq_tangi, 데이터프레임 크기: (113, 3781)\n"
     ]
    }
   ],
   "source": [
    "# 제공된 파일 및 시트 구조\n",
    "file_sheets = {\n",
    "    \"김도연1.xlsx\": ['depre_amort', 'depre', 'age', 'n_acq_intangi'],\n",
    "    \"김도연2.xlsx\": ['tangi', 'intangi', 'cash'],\n",
    "    \"한민지.xlsx\": ['payab', 'invent', 'const_receiv2'],\n",
    "    \"오영식.xlsx\": ['receiv', 'st_debt', 'lt_debt', 't_debt', 'const_receiv1'],\n",
    "    \"dataguide_1211.xlsx\": ['amort', 'defer_tax_debt', 'common_mktcap', 'prefer_mktcap',\n",
    "        'asset', 'exchange', 'ind_code', 'sales', 'op_earn', 'n_acq_tangi']\n",
    "}\n",
    "\n",
    "dfs = {}\n",
    "\n",
    "for file, sheets in file_sheets.items():\n",
    "    for sheet in sheets:\n",
    "        try:\n",
    "            if sheet not in dfs:\n",
    "                dfs[sheet] = pd.read_excel(f\"./dataguide/{file}\", sheet_name=sheet)\n",
    "        except Exception as e:\n",
    "            print(f\"오류 발생 - 파일: {file}, 시트: {sheet}, 원인: {e}\")\n",
    "\n",
    "for key, df in dfs.items():\n",
    "    print(f\"키: {key}, 데이터프레임 크기: {df.shape}\")"
   ]
  },
  {
   "cell_type": "code",
   "execution_count": 4,
   "metadata": {
    "colab": {
     "base_uri": "https://localhost:8080/"
    },
    "id": "8PTReUjovF2r",
    "outputId": "043a8b9c-4a51-4c5e-ed59-a106628d0f0f"
   },
   "outputs": [
    {
     "name": "stderr",
     "output_type": "stream",
     "text": [
      "C:\\Users\\DYK\\AppData\\Roaming\\Python\\Python311\\site-packages\\pandas\\core\\indexes\\base.py:7588: FutureWarning: Dtype inference on a pandas object (Series, Index, ExtensionArray) is deprecated. The Index constructor will keep the original dtype in the future. Call `infer_objects` on the result to get the old behavior.\n",
      "  return Index(sequences[0], name=names)\n"
     ]
    },
    {
     "name": "stdout",
     "output_type": "stream",
     "text": [
      "키: depre_amort, 데이터프레임 크기: (377400, 3)\n"
     ]
    },
    {
     "name": "stderr",
     "output_type": "stream",
     "text": [
      "C:\\Users\\DYK\\AppData\\Roaming\\Python\\Python311\\site-packages\\pandas\\core\\indexes\\base.py:7588: FutureWarning: Dtype inference on a pandas object (Series, Index, ExtensionArray) is deprecated. The Index constructor will keep the original dtype in the future. Call `infer_objects` on the result to get the old behavior.\n",
      "  return Index(sequences[0], name=names)\n"
     ]
    },
    {
     "name": "stdout",
     "output_type": "stream",
     "text": [
      "키: depre, 데이터프레임 크기: (377400, 3)\n"
     ]
    },
    {
     "name": "stderr",
     "output_type": "stream",
     "text": [
      "C:\\Users\\DYK\\AppData\\Roaming\\Python\\Python311\\site-packages\\pandas\\core\\indexes\\base.py:7588: FutureWarning: Dtype inference on a pandas object (Series, Index, ExtensionArray) is deprecated. The Index constructor will keep the original dtype in the future. Call `infer_objects` on the result to get the old behavior.\n",
      "  return Index(sequences[0], name=names)\n"
     ]
    },
    {
     "name": "stdout",
     "output_type": "stream",
     "text": [
      "키: age, 데이터프레임 크기: (7548, 3)\n",
      "키: n_acq_intangi, 데이터프레임 크기: (377400, 3)\n"
     ]
    },
    {
     "name": "stderr",
     "output_type": "stream",
     "text": [
      "C:\\Users\\DYK\\AppData\\Roaming\\Python\\Python311\\site-packages\\pandas\\core\\indexes\\base.py:7588: FutureWarning: Dtype inference on a pandas object (Series, Index, ExtensionArray) is deprecated. The Index constructor will keep the original dtype in the future. Call `infer_objects` on the result to get the old behavior.\n",
      "  return Index(sequences[0], name=names)\n",
      "C:\\Users\\DYK\\AppData\\Roaming\\Python\\Python311\\site-packages\\pandas\\core\\indexes\\base.py:7588: FutureWarning: Dtype inference on a pandas object (Series, Index, ExtensionArray) is deprecated. The Index constructor will keep the original dtype in the future. Call `infer_objects` on the result to get the old behavior.\n",
      "  return Index(sequences[0], name=names)\n"
     ]
    },
    {
     "name": "stdout",
     "output_type": "stream",
     "text": [
      "키: tangi, 데이터프레임 크기: (377400, 3)\n"
     ]
    },
    {
     "name": "stderr",
     "output_type": "stream",
     "text": [
      "C:\\Users\\DYK\\AppData\\Roaming\\Python\\Python311\\site-packages\\pandas\\core\\indexes\\base.py:7588: FutureWarning: Dtype inference on a pandas object (Series, Index, ExtensionArray) is deprecated. The Index constructor will keep the original dtype in the future. Call `infer_objects` on the result to get the old behavior.\n",
      "  return Index(sequences[0], name=names)\n"
     ]
    },
    {
     "name": "stdout",
     "output_type": "stream",
     "text": [
      "키: intangi, 데이터프레임 크기: (377400, 3)\n"
     ]
    },
    {
     "name": "stderr",
     "output_type": "stream",
     "text": [
      "C:\\Users\\DYK\\AppData\\Roaming\\Python\\Python311\\site-packages\\pandas\\core\\indexes\\base.py:7588: FutureWarning: Dtype inference on a pandas object (Series, Index, ExtensionArray) is deprecated. The Index constructor will keep the original dtype in the future. Call `infer_objects` on the result to get the old behavior.\n",
      "  return Index(sequences[0], name=names)\n"
     ]
    },
    {
     "name": "stdout",
     "output_type": "stream",
     "text": [
      "키: cash, 데이터프레임 크기: (377400, 3)\n"
     ]
    },
    {
     "name": "stderr",
     "output_type": "stream",
     "text": [
      "C:\\Users\\DYK\\AppData\\Roaming\\Python\\Python311\\site-packages\\pandas\\core\\indexes\\base.py:7588: FutureWarning: Dtype inference on a pandas object (Series, Index, ExtensionArray) is deprecated. The Index constructor will keep the original dtype in the future. Call `infer_objects` on the result to get the old behavior.\n",
      "  return Index(sequences[0], name=names)\n"
     ]
    },
    {
     "name": "stdout",
     "output_type": "stream",
     "text": [
      "키: payab, 데이터프레임 크기: (377400, 3)\n"
     ]
    },
    {
     "name": "stderr",
     "output_type": "stream",
     "text": [
      "C:\\Users\\DYK\\AppData\\Roaming\\Python\\Python311\\site-packages\\pandas\\core\\indexes\\base.py:7588: FutureWarning: Dtype inference on a pandas object (Series, Index, ExtensionArray) is deprecated. The Index constructor will keep the original dtype in the future. Call `infer_objects` on the result to get the old behavior.\n",
      "  return Index(sequences[0], name=names)\n"
     ]
    },
    {
     "name": "stdout",
     "output_type": "stream",
     "text": [
      "키: invent, 데이터프레임 크기: (377400, 3)\n",
      "키: const_receiv2, 데이터프레임 크기: (377400, 3)\n"
     ]
    },
    {
     "name": "stderr",
     "output_type": "stream",
     "text": [
      "C:\\Users\\DYK\\AppData\\Roaming\\Python\\Python311\\site-packages\\pandas\\core\\indexes\\base.py:7588: FutureWarning: Dtype inference on a pandas object (Series, Index, ExtensionArray) is deprecated. The Index constructor will keep the original dtype in the future. Call `infer_objects` on the result to get the old behavior.\n",
      "  return Index(sequences[0], name=names)\n",
      "C:\\Users\\DYK\\AppData\\Roaming\\Python\\Python311\\site-packages\\pandas\\core\\indexes\\base.py:7588: FutureWarning: Dtype inference on a pandas object (Series, Index, ExtensionArray) is deprecated. The Index constructor will keep the original dtype in the future. Call `infer_objects` on the result to get the old behavior.\n",
      "  return Index(sequences[0], name=names)\n"
     ]
    },
    {
     "name": "stdout",
     "output_type": "stream",
     "text": [
      "키: receiv, 데이터프레임 크기: (377400, 3)\n"
     ]
    },
    {
     "name": "stderr",
     "output_type": "stream",
     "text": [
      "C:\\Users\\DYK\\AppData\\Roaming\\Python\\Python311\\site-packages\\pandas\\core\\indexes\\base.py:7588: FutureWarning: Dtype inference on a pandas object (Series, Index, ExtensionArray) is deprecated. The Index constructor will keep the original dtype in the future. Call `infer_objects` on the result to get the old behavior.\n",
      "  return Index(sequences[0], name=names)\n"
     ]
    },
    {
     "name": "stdout",
     "output_type": "stream",
     "text": [
      "키: st_debt, 데이터프레임 크기: (377400, 3)\n"
     ]
    },
    {
     "name": "stderr",
     "output_type": "stream",
     "text": [
      "C:\\Users\\DYK\\AppData\\Roaming\\Python\\Python311\\site-packages\\pandas\\core\\indexes\\base.py:7588: FutureWarning: Dtype inference on a pandas object (Series, Index, ExtensionArray) is deprecated. The Index constructor will keep the original dtype in the future. Call `infer_objects` on the result to get the old behavior.\n",
      "  return Index(sequences[0], name=names)\n"
     ]
    },
    {
     "name": "stdout",
     "output_type": "stream",
     "text": [
      "키: lt_debt, 데이터프레임 크기: (377400, 3)\n"
     ]
    },
    {
     "name": "stderr",
     "output_type": "stream",
     "text": [
      "C:\\Users\\DYK\\AppData\\Roaming\\Python\\Python311\\site-packages\\pandas\\core\\indexes\\base.py:7588: FutureWarning: Dtype inference on a pandas object (Series, Index, ExtensionArray) is deprecated. The Index constructor will keep the original dtype in the future. Call `infer_objects` on the result to get the old behavior.\n",
      "  return Index(sequences[0], name=names)\n"
     ]
    },
    {
     "name": "stdout",
     "output_type": "stream",
     "text": [
      "키: t_debt, 데이터프레임 크기: (377400, 3)\n"
     ]
    },
    {
     "name": "stderr",
     "output_type": "stream",
     "text": [
      "C:\\Users\\DYK\\AppData\\Roaming\\Python\\Python311\\site-packages\\pandas\\core\\indexes\\base.py:7588: FutureWarning: Dtype inference on a pandas object (Series, Index, ExtensionArray) is deprecated. The Index constructor will keep the original dtype in the future. Call `infer_objects` on the result to get the old behavior.\n",
      "  return Index(sequences[0], name=names)\n"
     ]
    },
    {
     "name": "stdout",
     "output_type": "stream",
     "text": [
      "키: const_receiv1, 데이터프레임 크기: (377400, 3)\n",
      "키: amort, 데이터프레임 크기: (378000, 3)\n"
     ]
    },
    {
     "name": "stderr",
     "output_type": "stream",
     "text": [
      "C:\\Users\\DYK\\AppData\\Roaming\\Python\\Python311\\site-packages\\pandas\\core\\indexes\\base.py:7588: FutureWarning: Dtype inference on a pandas object (Series, Index, ExtensionArray) is deprecated. The Index constructor will keep the original dtype in the future. Call `infer_objects` on the result to get the old behavior.\n",
      "  return Index(sequences[0], name=names)\n",
      "C:\\Users\\DYK\\AppData\\Roaming\\Python\\Python311\\site-packages\\pandas\\core\\indexes\\base.py:7588: FutureWarning: Dtype inference on a pandas object (Series, Index, ExtensionArray) is deprecated. The Index constructor will keep the original dtype in the future. Call `infer_objects` on the result to get the old behavior.\n",
      "  return Index(sequences[0], name=names)\n"
     ]
    },
    {
     "name": "stdout",
     "output_type": "stream",
     "text": [
      "키: defer_tax_debt, 데이터프레임 크기: (378000, 3)\n"
     ]
    },
    {
     "name": "stderr",
     "output_type": "stream",
     "text": [
      "C:\\Users\\DYK\\AppData\\Roaming\\Python\\Python311\\site-packages\\pandas\\core\\indexes\\base.py:7588: FutureWarning: Dtype inference on a pandas object (Series, Index, ExtensionArray) is deprecated. The Index constructor will keep the original dtype in the future. Call `infer_objects` on the result to get the old behavior.\n",
      "  return Index(sequences[0], name=names)\n"
     ]
    },
    {
     "name": "stdout",
     "output_type": "stream",
     "text": [
      "키: common_mktcap, 데이터프레임 크기: (378000, 3)\n"
     ]
    },
    {
     "name": "stderr",
     "output_type": "stream",
     "text": [
      "C:\\Users\\DYK\\AppData\\Roaming\\Python\\Python311\\site-packages\\pandas\\core\\indexes\\base.py:7588: FutureWarning: Dtype inference on a pandas object (Series, Index, ExtensionArray) is deprecated. The Index constructor will keep the original dtype in the future. Call `infer_objects` on the result to get the old behavior.\n",
      "  return Index(sequences[0], name=names)\n"
     ]
    },
    {
     "name": "stdout",
     "output_type": "stream",
     "text": [
      "키: prefer_mktcap, 데이터프레임 크기: (378000, 3)\n"
     ]
    },
    {
     "name": "stderr",
     "output_type": "stream",
     "text": [
      "C:\\Users\\DYK\\AppData\\Roaming\\Python\\Python311\\site-packages\\pandas\\core\\indexes\\base.py:7588: FutureWarning: Dtype inference on a pandas object (Series, Index, ExtensionArray) is deprecated. The Index constructor will keep the original dtype in the future. Call `infer_objects` on the result to get the old behavior.\n",
      "  return Index(sequences[0], name=names)\n"
     ]
    },
    {
     "name": "stdout",
     "output_type": "stream",
     "text": [
      "키: asset, 데이터프레임 크기: (378000, 3)\n"
     ]
    },
    {
     "name": "stderr",
     "output_type": "stream",
     "text": [
      "C:\\Users\\DYK\\AppData\\Roaming\\Python\\Python311\\site-packages\\pandas\\core\\indexes\\base.py:7588: FutureWarning: Dtype inference on a pandas object (Series, Index, ExtensionArray) is deprecated. The Index constructor will keep the original dtype in the future. Call `infer_objects` on the result to get the old behavior.\n",
      "  return Index(sequences[0], name=names)\n"
     ]
    },
    {
     "name": "stdout",
     "output_type": "stream",
     "text": [
      "키: exchange, 데이터프레임 크기: (377400, 3)\n"
     ]
    },
    {
     "name": "stderr",
     "output_type": "stream",
     "text": [
      "C:\\Users\\DYK\\AppData\\Roaming\\Python\\Python311\\site-packages\\pandas\\core\\indexes\\base.py:7588: FutureWarning: Dtype inference on a pandas object (Series, Index, ExtensionArray) is deprecated. The Index constructor will keep the original dtype in the future. Call `infer_objects` on the result to get the old behavior.\n",
      "  return Index(sequences[0], name=names)\n"
     ]
    },
    {
     "name": "stdout",
     "output_type": "stream",
     "text": [
      "키: ind_code, 데이터프레임 크기: (377400, 3)\n"
     ]
    },
    {
     "name": "stderr",
     "output_type": "stream",
     "text": [
      "C:\\Users\\DYK\\AppData\\Roaming\\Python\\Python311\\site-packages\\pandas\\core\\indexes\\base.py:7588: FutureWarning: Dtype inference on a pandas object (Series, Index, ExtensionArray) is deprecated. The Index constructor will keep the original dtype in the future. Call `infer_objects` on the result to get the old behavior.\n",
      "  return Index(sequences[0], name=names)\n"
     ]
    },
    {
     "name": "stdout",
     "output_type": "stream",
     "text": [
      "키: sales, 데이터프레임 크기: (378000, 3)\n"
     ]
    },
    {
     "name": "stderr",
     "output_type": "stream",
     "text": [
      "C:\\Users\\DYK\\AppData\\Roaming\\Python\\Python311\\site-packages\\pandas\\core\\indexes\\base.py:7588: FutureWarning: Dtype inference on a pandas object (Series, Index, ExtensionArray) is deprecated. The Index constructor will keep the original dtype in the future. Call `infer_objects` on the result to get the old behavior.\n",
      "  return Index(sequences[0], name=names)\n"
     ]
    },
    {
     "name": "stdout",
     "output_type": "stream",
     "text": [
      "키: op_earn, 데이터프레임 크기: (378000, 3)\n"
     ]
    },
    {
     "name": "stderr",
     "output_type": "stream",
     "text": [
      "C:\\Users\\DYK\\AppData\\Roaming\\Python\\Python311\\site-packages\\pandas\\core\\indexes\\base.py:7588: FutureWarning: Dtype inference on a pandas object (Series, Index, ExtensionArray) is deprecated. The Index constructor will keep the original dtype in the future. Call `infer_objects` on the result to get the old behavior.\n",
      "  return Index(sequences[0], name=names)\n"
     ]
    },
    {
     "name": "stdout",
     "output_type": "stream",
     "text": [
      "키: n_acq_tangi, 데이터프레임 크기: (378000, 3)\n"
     ]
    }
   ],
   "source": [
    "rows_to_drop = list(range(0, 13)) # 0 ~ 12\n",
    "\n",
    "for k in dfs.keys():\n",
    "  dfs[k].columns = dfs[k].iloc[7] # firmcode line을 column명으로 지정\n",
    "  dfs[k] = dfs[k].drop(rows_to_drop, axis=0)\n",
    "  dfs[k] = dfs[k].set_index(\"Symbol\").reset_index().melt(\n",
    "        id_vars=[\"Symbol\"],\n",
    "        var_name=\"firmcode\",\n",
    "        value_name=k,\n",
    "    ).rename(columns={\"Symbol\": \"date\"})\n",
    "  print(f\"키: {k}, 데이터프레임 크기: {dfs[k].shape}\")"
   ]
  },
  {
   "cell_type": "code",
   "execution_count": 5,
   "metadata": {
    "id": "IdMTc8zuwiOv"
   },
   "outputs": [],
   "source": [
    "# import pickle\n",
    "\n",
    "# with open(\"data.pkl\", \"wb\") as f:\n",
    "#   pickle.dump(dfs, f)"
   ]
  },
  {
   "cell_type": "code",
   "execution_count": 6,
   "metadata": {
    "id": "XZ2nxuflxUDl"
   },
   "outputs": [],
   "source": [
    "# import pickle\n",
    "# with open(\"data.pkl\", \"rb\") as f:\n",
    "#   dfs = pickle.load(f)"
   ]
  },
  {
   "cell_type": "code",
   "execution_count": 113,
   "metadata": {},
   "outputs": [
    {
     "name": "stdout",
     "output_type": "stream",
     "text": [
      "(374220, 29) count\n",
      "99    3780\n",
      "Name: count, dtype: int64 count\n",
      "3780    99\n",
      "Name: count, dtype: int64 count\n",
      "1    374220\n",
      "Name: count, dtype: int64\n"
     ]
    }
   ],
   "source": [
    "df = dfs[\"asset\"][[\"date\", \"firmcode\"]]\n",
    "for c in dfs.keys():\n",
    "    df = pd.merge(df, dfs[c], on=[\"date\", \"firmcode\"], how=\"left\")\n",
    "\n",
    "\n",
    "for v in df.columns:\n",
    "    if v in [\"date\", \"firmcode\", \"age\", \"exchange\", \"ind_code\"]:\n",
    "        continue\n",
    "    df[v] = df[v].astype(float)\n",
    "\n",
    "df[\"year\"] = df[\"date\"].dt.year\n",
    "df[\"month\"] = df[\"date\"].dt.month\n",
    "\n",
    "df = df[df[\"date\"]!=\"2024-12-10\"]\n",
    "df = df[df[\"month\"].isin([3, 6, 9, 12])].sort_values([\"firmcode\", \"date\"])\n",
    "\n",
    "\n",
    "\n",
    "\n",
    "print(\n",
    "    df.shape, \n",
    "    df[\"firmcode\"].value_counts(dropna=False).value_counts(), # 3780개 회사는 모두 99개의 데이터를 가지고 있음\n",
    "    df[\"date\"].value_counts(dropna=False).value_counts(),  # 전체 99개일자마다 3780개 회사가 존재함\n",
    "    df[['date', 'firmcode']].value_counts(dropna=False).value_counts(), # date, firmcode 조합은 unique함\n",
    ")"
   ]
  },
  {
   "cell_type": "code",
   "execution_count": 114,
   "metadata": {},
   "outputs": [
    {
     "name": "stdout",
     "output_type": "stream",
     "text": [
      "sales 509\n",
      "asset 208\n"
     ]
    }
   ],
   "source": [
    "for v in [\"sales\", \"asset\"]:\n",
    "    print(v, df.groupby(\"firmcode\")[v].sum().value_counts(dropna=False)[0])"
   ]
  },
  {
   "cell_type": "code",
   "execution_count": 75,
   "metadata": {},
   "outputs": [
    {
     "name": "stderr",
     "output_type": "stream",
     "text": [
      "C:\\Users\\DYK\\AppData\\Local\\Temp\\ipykernel_30168\\3244629390.py:1: DeprecationWarning: DataFrameGroupBy.apply operated on the grouping columns. This behavior is deprecated, and in a future version of pandas the grouping columns will be excluded from the operation. Either pass `include_groups=False` to exclude the groupings or explicitly select the grouping columns after groupby to silence this warning.\n",
      "  df.groupby(\"firmcode\").apply(lambda x: bfill_lag(ffill_lag(x[\"asset\"]))).reset_index(drop=True).isna().sum(), df[\"asset\"].isna().sum()\n"
     ]
    },
    {
     "data": {
      "text/plain": [
       "(152195, 180830)"
      ]
     },
     "execution_count": 75,
     "metadata": {},
     "output_type": "execute_result"
    }
   ],
   "source": [
    "df.groupby(\"firmcode\").apply(lambda x: bfill_lag(ffill_lag(x[\"asset\"]))).reset_index(drop=True).isna().sum(), df[\"asset\"].isna().sum()"
   ]
  },
  {
   "cell_type": "code",
   "execution_count": 76,
   "metadata": {},
   "outputs": [
    {
     "name": "stderr",
     "output_type": "stream",
     "text": [
      "C:\\Users\\DYK\\AppData\\Local\\Temp\\ipykernel_30168\\643066534.py:1: DeprecationWarning: DataFrameGroupBy.apply operated on the grouping columns. This behavior is deprecated, and in a future version of pandas the grouping columns will be excluded from the operation. Either pass `include_groups=False` to exclude the groupings or explicitly select the grouping columns after groupby to silence this warning.\n",
      "  df.groupby(\"firmcode\").apply(lambda x: bfill_lag(ffill_lag(x[\"sales\"]))).reset_index(drop=True).isna().sum(), df[\"sales\"].isna().sum()\n"
     ]
    },
    {
     "data": {
      "text/plain": [
       "(149586, 173084)"
      ]
     },
     "execution_count": 76,
     "metadata": {},
     "output_type": "execute_result"
    }
   ],
   "source": [
    "df.groupby(\"firmcode\").apply(lambda x: bfill_lag(ffill_lag(x[\"sales\"]))).reset_index(drop=True).isna().sum(), df[\"sales\"].isna().sum()"
   ]
  },
  {
   "cell_type": "code",
   "execution_count": 115,
   "metadata": {},
   "outputs": [
    {
     "name": "stderr",
     "output_type": "stream",
     "text": [
      "C:\\Users\\DYK\\AppData\\Local\\Temp\\ipykernel_30168\\3490777006.py:1: FutureWarning: Downcasting object dtype arrays on .fillna, .ffill, .bfill is deprecated and will change in a future version. Call result.infer_objects(copy=False) instead. To opt-in to the future behavior, set `pd.set_option('future.no_silent_downcasting', True)`\n",
      "  df[\"age\"] = df.groupby(\"firmcode\")[\"age\"].ffill().bfill()\n",
      "C:\\Users\\DYK\\AppData\\Local\\Temp\\ipykernel_30168\\3490777006.py:6: DeprecationWarning: DataFrameGroupBy.apply operated on the grouping columns. This behavior is deprecated, and in a future version of pandas the grouping columns will be excluded from the operation. Either pass `include_groups=False` to exclude the groupings or explicitly select the grouping columns after groupby to silence this warning.\n",
      "  df[v] = df.groupby(\"firmcode\").apply(lambda x: bfill_lag(ffill_lag(x[v]))).reset_index(drop=True)\\\n",
      "C:\\Users\\DYK\\AppData\\Local\\Temp\\ipykernel_30168\\3490777006.py:6: DeprecationWarning: DataFrameGroupBy.apply operated on the grouping columns. This behavior is deprecated, and in a future version of pandas the grouping columns will be excluded from the operation. Either pass `include_groups=False` to exclude the groupings or explicitly select the grouping columns after groupby to silence this warning.\n",
      "  df[v] = df.groupby(\"firmcode\").apply(lambda x: bfill_lag(ffill_lag(x[v]))).reset_index(drop=True)\\\n",
      "C:\\Users\\DYK\\AppData\\Local\\Temp\\ipykernel_30168\\3490777006.py:6: DeprecationWarning: DataFrameGroupBy.apply operated on the grouping columns. This behavior is deprecated, and in a future version of pandas the grouping columns will be excluded from the operation. Either pass `include_groups=False` to exclude the groupings or explicitly select the grouping columns after groupby to silence this warning.\n",
      "  df[v] = df.groupby(\"firmcode\").apply(lambda x: bfill_lag(ffill_lag(x[v]))).reset_index(drop=True)\\\n"
     ]
    },
    {
     "name": "stdout",
     "output_type": "stream",
     "text": [
      "ebitda         151978\n",
      "op_earn        151846\n",
      "depre_amort    151978\n",
      "dtype: int64\n"
     ]
    },
    {
     "name": "stderr",
     "output_type": "stream",
     "text": [
      "C:\\Users\\DYK\\AppData\\Local\\Temp\\ipykernel_30168\\3490777006.py:6: DeprecationWarning: DataFrameGroupBy.apply operated on the grouping columns. This behavior is deprecated, and in a future version of pandas the grouping columns will be excluded from the operation. Either pass `include_groups=False` to exclude the groupings or explicitly select the grouping columns after groupby to silence this warning.\n",
      "  df[v] = df.groupby(\"firmcode\").apply(lambda x: bfill_lag(ffill_lag(x[v]))).reset_index(drop=True)\\\n"
     ]
    }
   ],
   "source": [
    "df[\"age\"] = df.groupby(\"firmcode\")[\"age\"].ffill().bfill()\n",
    "df[\"age\"] = pd.to_datetime(df[\"age\"], format=\"%Y%m%d\").dt.strftime(\"%Y-%m-%d\")\n",
    "\n",
    "df = df.sort_values([\"firmcode\", \"date\"])\n",
    "for v in [\"asset\", \"sales\", \"op_earn\", \"depre_amort\"]:\n",
    "    df[v] = df.groupby(\"firmcode\").apply(lambda x: bfill_lag(ffill_lag(x[v]))).reset_index(drop=True)\\\n",
    "\n",
    "# 건설업의 매출채권 성격\n",
    "if \"const_receiv1\" in df.columns:\n",
    "    df.loc[df[\"ind_code\"] == \"F\", \"receiv\"] = df.loc[df[\"ind_code\"] == \"F\", [\"receiv\", \"const_receiv1\", \"const_receiv2\"]].sum(axis=1)\n",
    "    df = df.drop(columns=[\"const_receiv1\", \"const_receiv2\"])\n",
    "\n",
    "# Operating Earnings\n",
    "if \"ebitda\" not in df.columns:\n",
    "    df[\"ebitda\"] = df[\"op_earn\"] + df[\"depre_amort\"]\n",
    "    print(df[[\"ebitda\", \"op_earn\", \"depre_amort\"]].isna().sum())\n",
    "    df = df.drop(columns=[\"op_earn\", \"depre_amort\"])\n",
    "\n",
    "df[\"n_ppe\"] = df[\"tangi\"] + df[\"intangi\"]\n",
    "for v in [\"sales\", \"asset\", \"ebitda\", \"n_ppe\"]:\n",
    "    df.loc[df[v] == 0, v] = None\n",
    "\n",
    "# 날짜 오름차순 정렬이라서 shift(1)이 전날 데이터를 가져옴\n",
    "df[\"asset_lag\"] = df.groupby(\"firmcode\")[\"asset\"].shift(1) # = atq\n",
    "df[\"cashflow\"] = df[\"ebitda\"] / df[\"asset_lag\"]"
   ]
  },
  {
   "cell_type": "code",
   "execution_count": 116,
   "metadata": {},
   "outputs": [
    {
     "data": {
      "text/plain": [
       "0"
      ]
     },
     "execution_count": 116,
     "metadata": {},
     "output_type": "execute_result"
    }
   ],
   "source": [
    "df[df[\"ebitda\"].notna() & df[\"asset_lag\"].notna()][\"cashflow\"].isna().sum()"
   ]
  },
  {
   "cell_type": "code",
   "execution_count": 117,
   "metadata": {},
   "outputs": [
    {
     "data": {
      "text/html": [
       "<div>\n",
       "<style scoped>\n",
       "    .dataframe tbody tr th:only-of-type {\n",
       "        vertical-align: middle;\n",
       "    }\n",
       "\n",
       "    .dataframe tbody tr th {\n",
       "        vertical-align: top;\n",
       "    }\n",
       "\n",
       "    .dataframe thead th {\n",
       "        text-align: right;\n",
       "    }\n",
       "</style>\n",
       "<table border=\"1\" class=\"dataframe\">\n",
       "  <thead>\n",
       "    <tr style=\"text-align: right;\">\n",
       "      <th></th>\n",
       "      <th>date</th>\n",
       "      <th>asset</th>\n",
       "      <th>asset_lag</th>\n",
       "    </tr>\n",
       "  </thead>\n",
       "  <tbody>\n",
       "    <tr>\n",
       "      <th>259000</th>\n",
       "      <td>2000-03-31</td>\n",
       "      <td>NaN</td>\n",
       "      <td>NaN</td>\n",
       "    </tr>\n",
       "    <tr>\n",
       "      <th>259001</th>\n",
       "      <td>2000-06-30</td>\n",
       "      <td>NaN</td>\n",
       "      <td>NaN</td>\n",
       "    </tr>\n",
       "    <tr>\n",
       "      <th>259002</th>\n",
       "      <td>2000-09-30</td>\n",
       "      <td>NaN</td>\n",
       "      <td>NaN</td>\n",
       "    </tr>\n",
       "    <tr>\n",
       "      <th>259003</th>\n",
       "      <td>2000-12-31</td>\n",
       "      <td>NaN</td>\n",
       "      <td>NaN</td>\n",
       "    </tr>\n",
       "    <tr>\n",
       "      <th>259004</th>\n",
       "      <td>2001-03-31</td>\n",
       "      <td>NaN</td>\n",
       "      <td>NaN</td>\n",
       "    </tr>\n",
       "    <tr>\n",
       "      <th>...</th>\n",
       "      <td>...</td>\n",
       "      <td>...</td>\n",
       "      <td>...</td>\n",
       "    </tr>\n",
       "    <tr>\n",
       "      <th>124494</th>\n",
       "      <td>2023-09-30</td>\n",
       "      <td>70533540980.000000</td>\n",
       "      <td>83072589000.000000</td>\n",
       "    </tr>\n",
       "    <tr>\n",
       "      <th>124495</th>\n",
       "      <td>2023-12-31</td>\n",
       "      <td>79423086000.000000</td>\n",
       "      <td>70533540980.000000</td>\n",
       "    </tr>\n",
       "    <tr>\n",
       "      <th>124496</th>\n",
       "      <td>2024-03-31</td>\n",
       "      <td>77359604000.000000</td>\n",
       "      <td>79423086000.000000</td>\n",
       "    </tr>\n",
       "    <tr>\n",
       "      <th>124497</th>\n",
       "      <td>2024-06-30</td>\n",
       "      <td>77565777000.000000</td>\n",
       "      <td>77359604000.000000</td>\n",
       "    </tr>\n",
       "    <tr>\n",
       "      <th>124498</th>\n",
       "      <td>2024-09-30</td>\n",
       "      <td>66087781170.000000</td>\n",
       "      <td>77565777000.000000</td>\n",
       "    </tr>\n",
       "  </tbody>\n",
       "</table>\n",
       "<p>374220 rows × 3 columns</p>\n",
       "</div>"
      ],
      "text/plain": [
       "             date              asset          asset_lag\n",
       "259000 2000-03-31                NaN                NaN\n",
       "259001 2000-06-30                NaN                NaN\n",
       "259002 2000-09-30                NaN                NaN\n",
       "259003 2000-12-31                NaN                NaN\n",
       "259004 2001-03-31                NaN                NaN\n",
       "...           ...                ...                ...\n",
       "124494 2023-09-30 70533540980.000000 83072589000.000000\n",
       "124495 2023-12-31 79423086000.000000 70533540980.000000\n",
       "124496 2024-03-31 77359604000.000000 79423086000.000000\n",
       "124497 2024-06-30 77565777000.000000 77359604000.000000\n",
       "124498 2024-09-30 66087781170.000000 77565777000.000000\n",
       "\n",
       "[374220 rows x 3 columns]"
      ]
     },
     "execution_count": 117,
     "metadata": {},
     "output_type": "execute_result"
    }
   ],
   "source": [
    "df[[\"date\", \"asset\", \"asset_lag\"]]"
   ]
  },
  {
   "cell_type": "code",
   "execution_count": 118,
   "metadata": {},
   "outputs": [
    {
     "name": "stdout",
     "output_type": "stream",
     "text": [
      "374220 3780 99.0\n",
      "332244 3356 99.0\n"
     ]
    }
   ],
   "source": [
    "firm_obs = df.shape[0] / df[\"firmcode\"].nunique()\n",
    "print(df.shape[0], df[\"firmcode\"].nunique(), firm_obs)\n",
    "\n",
    "df = df[~df[\"ind_code\"].isin([\"K\", \"E\", \"D\"])]\n",
    "# K: 금융업\n",
    "# D: 전기, 가스, 증기 및 공기 조절 공급업\n",
    "# E: 수도, 하수, 및 폐기물 처리, 원료 재생업\n",
    "\n",
    "firm_obs = df.shape[0] / df[\"firmcode\"].nunique()\n",
    "print(df.shape[0], df[\"firmcode\"].nunique(), firm_obs)\n"
   ]
  },
  {
   "cell_type": "code",
   "execution_count": 121,
   "metadata": {},
   "outputs": [
    {
     "data": {
      "text/plain": [
       "count\n",
       "99    3356\n",
       "Name: count, dtype: int64"
      ]
     },
     "execution_count": 121,
     "metadata": {},
     "output_type": "execute_result"
    }
   ],
   "source": [
    "df[\"firmcode\"].value_counts(dropna=False).value_counts()"
   ]
  },
  {
   "cell_type": "code",
   "execution_count": 119,
   "metadata": {},
   "outputs": [],
   "source": [
    "df[\"payab_to_sales\"] = df[\"payab\"] / df[\"sales\"]\n",
    "df[\"payab_to_asset\"] = df[\"payab\"] / df[\"asset\"]\n",
    "df[\"receiv_to_sales\"] = df[\"receiv\"] / df[\"sales\"]\n",
    "df[\"receiv_to_asset\"] = df[\"receiv\"] / df[\"asset\"]\n",
    "df[\"invent_to_sales\"] = df[\"invent\"] / df[\"sales\"]\n",
    "df[\"invent_to_asset\"] = df[\"invent\"] / df[\"asset\"]"
   ]
  },
  {
   "cell_type": "code",
   "execution_count": 122,
   "metadata": {},
   "outputs": [],
   "source": [
    "lag_cols = [f\"payab_to_sales_lag{i}\" for i in range(1, 5)]\n",
    "groups = df.groupby(\"firmcode\")\n",
    "for i in range(1, 5):\n",
    "    df[lag_cols[i-1]] = groups[\"payab_to_sales\"].shift(i)\n",
    "\n",
    "df[\"sup_fin\"] = df[lag_cols].mean(axis=1)\n",
    "df = df.drop(columns=lag_cols)\n",
    "df[\"sup_fin_tercile\"] = pd.qcut(df[\"sup_fin\"], 3, labels=[\"low\", \"mid\", \"top\"])"
   ]
  },
  {
   "cell_type": "code",
   "execution_count": 123,
   "metadata": {},
   "outputs": [],
   "source": [
    "lag_cols = [f\"cashflow_lag{i}\" for i in range(1, 5)]\n",
    "groups = df.groupby(\"firmcode\")\n",
    "for i in range(1, 5):\n",
    "    df[lag_cols[i-1]] = groups[\"cashflow\"].shift(i)\n",
    "\n",
    "df[\"delta_cashflow\"] = df[\"cashflow\"] - df[lag_cols].mean(axis=1) \n",
    "df = df.drop(columns=lag_cols)"
   ]
  },
  {
   "cell_type": "code",
   "execution_count": 124,
   "metadata": {},
   "outputs": [],
   "source": [
    "df[\"log_sales\"] = df[\"sales\"].astype(float).apply(np.log) # default of base is e\n",
    "df[\"size\"] = (1+df[\"asset_lag\"].astype(float)).apply(np.log)\n",
    "df[\"book_lev\"] = (df[\"st_debt\"] + df[\"lt_debt\"]) / df[\"asset\"]\n",
    "\n",
    "df[\"st_debt_to_asset\"] = df[\"st_debt\"] / df[\"asset\"]\n",
    "df[\"st_debt_to_sales\"] = df[\"lt_debt\"] / df[\"sales\"]\n",
    "df[\"st_asset\"] = df[\"receiv\"] + df[\"invent\"]\n",
    "\n",
    "df[\"capex\"] = df[\"n_acq_tangi\"] + df[\"n_acq_intangi\"]\n",
    "df[\"investment\"] = df[\"capex\"] / df.groupby(\"firmcode\")[\"n_ppe\"].shift(1)\n",
    "df[\"n_ppe_to_asset\"] = df[\"n_ppe\"] / df[\"asset\"]\n",
    "\n",
    "df[\"q\"] = (df[\"common_mktcap\"] + df[\"prefer_mktcap\"] + df[\"st_debt\"] + df[\"lt_debt\"]+ df[\"defer_tax_debt\"]) / df[\"asset_lag\"]"
   ]
  },
  {
   "cell_type": "code",
   "execution_count": null,
   "metadata": {
    "colab": {
     "base_uri": "https://localhost:8080/",
     "height": 635
    },
    "id": "wXfkcyf3rUEx",
    "outputId": "2e8cb3d9-ce46-4e9d-d6dc-adb71004ea7b"
   },
   "outputs": [],
   "source": []
  },
  {
   "cell_type": "code",
   "execution_count": 125,
   "metadata": {},
   "outputs": [],
   "source": [
    "df[\"drop_size_dummy\"] = df[\"asset_lag\"] > df[\"asset_lag\"].quantile(0.66)"
   ]
  },
  {
   "cell_type": "code",
   "execution_count": 126,
   "metadata": {
    "id": "kkt8J75x5gcl"
   },
   "outputs": [],
   "source": [
    "t = df.groupby(\"firmcode\")[\"asset\"].count()\n",
    "df = df[~df[\"firmcode\"].isin(t[t < DEL_UNDER_YEAR].index)]"
   ]
  },
  {
   "cell_type": "code",
   "execution_count": 127,
   "metadata": {},
   "outputs": [
    {
     "name": "stdout",
     "output_type": "stream",
     "text": [
      "<class 'pandas.core.frame.DataFrame'>\n",
      "Index: 317790 entries, 82600 to 124498\n",
      "Data columns (total 49 columns):\n",
      " #   Column            Non-Null Count   Dtype         \n",
      "---  ------            --------------   -----         \n",
      " 0   date              317790 non-null  datetime64[ns]\n",
      " 1   firmcode          317790 non-null  object        \n",
      " 2   depre             180257 non-null  float64       \n",
      " 3   age               317790 non-null  object        \n",
      " 4   n_acq_intangi     205129 non-null  float64       \n",
      " 5   tangi             173283 non-null  float64       \n",
      " 6   intangi           173283 non-null  float64       \n",
      " 7   cash              173283 non-null  float64       \n",
      " 8   payab             173249 non-null  float64       \n",
      " 9   invent            173249 non-null  float64       \n",
      " 10  receiv            171789 non-null  float64       \n",
      " 11  st_debt           173249 non-null  float64       \n",
      " 12  lt_debt           173249 non-null  float64       \n",
      " 13  t_debt            173283 non-null  float64       \n",
      " 14  amort             180725 non-null  float64       \n",
      " 15  defer_tax_debt    173729 non-null  float64       \n",
      " 16  common_mktcap     162827 non-null  float64       \n",
      " 17  prefer_mktcap     162827 non-null  float64       \n",
      " 18  asset             200715 non-null  float64       \n",
      " 19  exchange          184894 non-null  object        \n",
      " 20  ind_code          305415 non-null  object        \n",
      " 21  sales             170505 non-null  float64       \n",
      " 22  n_acq_tangi       180725 non-null  float64       \n",
      " 23  year              317790 non-null  int32         \n",
      " 24  month             317790 non-null  int32         \n",
      " 25  ebitda            172966 non-null  float64       \n",
      " 26  n_ppe             173070 non-null  float64       \n",
      " 27  asset_lag         198665 non-null  float64       \n",
      " 28  cashflow          168187 non-null  float64       \n",
      " 29  payab_to_sales    102295 non-null  float64       \n",
      " 30  payab_to_asset    117250 non-null  float64       \n",
      " 31  receiv_to_sales   100659 non-null  float64       \n",
      " 32  receiv_to_asset   115640 non-null  float64       \n",
      " 33  invent_to_sales   102295 non-null  float64       \n",
      " 34  invent_to_asset   117250 non-null  float64       \n",
      " 35  sup_fin           125093 non-null  float64       \n",
      " 36  sup_fin_tercile   125093 non-null  category      \n",
      " 37  delta_cashflow    163979 non-null  float64       \n",
      " 38  log_sales         169705 non-null  float64       \n",
      " 39  size              198665 non-null  float64       \n",
      " 40  book_lev          117250 non-null  float64       \n",
      " 41  st_debt_to_asset  117250 non-null  float64       \n",
      " 42  st_debt_to_sales  102295 non-null  float64       \n",
      " 43  st_asset          167846 non-null  float64       \n",
      " 44  capex             173140 non-null  float64       \n",
      " 45  investment        153152 non-null  float64       \n",
      " 46  n_ppe_to_asset    117137 non-null  float64       \n",
      " 47  q                 105813 non-null  float64       \n",
      " 48  drop_size_dummy   317790 non-null  bool          \n",
      "dtypes: bool(1), category(1), datetime64[ns](1), float64(40), int32(2), object(4)\n",
      "memory usage: 114.6+ MB\n"
     ]
    }
   ],
   "source": [
    "df.info()"
   ]
  },
  {
   "cell_type": "code",
   "execution_count": 128,
   "metadata": {},
   "outputs": [
    {
     "name": "stdout",
     "output_type": "stream",
     "text": [
      "3210\n",
      "(317790, 49)\n",
      "149603\n",
      "0.4707605651530885\n"
     ]
    }
   ],
   "source": [
    "print(\n",
    "    df[\"firmcode\"].nunique(),\n",
    "    df.shape,\n",
    "    df[\"cashflow\"].isna().sum(),\n",
    "    df[\"cashflow\"].isna().sum() / df.shape[0],\n",
    "    sep=\"\\n\"\n",
    ")"
   ]
  },
  {
   "cell_type": "code",
   "execution_count": 129,
   "metadata": {},
   "outputs": [
    {
     "data": {
      "text/plain": [
       "3210"
      ]
     },
     "execution_count": 129,
     "metadata": {},
     "output_type": "execute_result"
    }
   ],
   "source": [
    "# firm 마다 분기별 데이터가 있는지 확인\n",
    "# 모든 분기에 대해 데이터가 있는 firmcode만 남기기\n",
    "(df[\"firmcode\"].value_counts() == 99).sum()"
   ]
  },
  {
   "cell_type": "code",
   "execution_count": 130,
   "metadata": {},
   "outputs": [
    {
     "data": {
      "text/plain": [
       "Index(['date', 'firmcode', 'depre', 'age', 'n_acq_intangi', 'tangi', 'intangi',\n",
       "       'cash', 'payab', 'invent', 'receiv', 'st_debt', 'lt_debt', 't_debt',\n",
       "       'amort', 'defer_tax_debt', 'common_mktcap', 'prefer_mktcap', 'asset',\n",
       "       'exchange', 'ind_code', 'sales', 'n_acq_tangi', 'year', 'month',\n",
       "       'ebitda', 'n_ppe', 'asset_lag', 'cashflow', 'payab_to_sales',\n",
       "       'payab_to_asset', 'receiv_to_sales', 'receiv_to_asset',\n",
       "       'invent_to_sales', 'invent_to_asset', 'sup_fin', 'sup_fin_tercile',\n",
       "       'delta_cashflow', 'log_sales', 'size', 'book_lev', 'st_debt_to_asset',\n",
       "       'st_debt_to_sales', 'st_asset', 'capex', 'investment', 'n_ppe_to_asset',\n",
       "       'q', 'drop_size_dummy'],\n",
       "      dtype='object')"
      ]
     },
     "execution_count": 130,
     "metadata": {},
     "output_type": "execute_result"
    }
   ],
   "source": [
    "df.columns"
   ]
  },
  {
   "cell_type": "code",
   "execution_count": 131,
   "metadata": {},
   "outputs": [
    {
     "name": "stdout",
     "output_type": "stream",
     "text": [
      "Q1 ['cashflow_lag4', 'cashflow_lag8', 'cashflow_lag12']\n",
      "Q2 ['cashflow_lag5', 'cashflow_lag9', 'cashflow_lag13']\n",
      "Q3 ['cashflow_lag6', 'cashflow_lag10', 'cashflow_lag14']\n",
      "Q4 ['cashflow_lag7', 'cashflow_lag11', 'cashflow_lag15']\n"
     ]
    },
    {
     "name": "stderr",
     "output_type": "stream",
     "text": [
      "C:\\Users\\DYK\\AppData\\Local\\Temp\\ipykernel_30168\\802554432.py:18: FutureWarning: The behavior of DataFrame.idxmax with all-NA values, or any-NA and skipna=False, is deprecated. In a future version this will raise ValueError\n",
      "  df[\"main_quater\"] = df[[f\"cashflow_q{i}_mean\" for i in range(1, 5)]].idxmax(axis=1).str[-6].astype(float)\n"
     ]
    }
   ],
   "source": [
    "df[\"cashflow\"] = df[\"cashflow\"].astype(float)\n",
    "groups = df.reset_index(drop=True).groupby([\"firmcode\", \"month\"])\n",
    "\n",
    "\n",
    "lag_cols = [f\"cashflow_lag{i}\" for i in range(1, 4*int(MAX_YEAR+1))]\n",
    "for i in range(1, 4*int(MAX_YEAR+1)):\n",
    "    df[lag_cols[i-1]] = groups[\"cashflow\"].shift(i)\n",
    "\n",
    "\n",
    "skip_quater = 4 # previous 1 year = 4 quaters\n",
    "quater_lag = [None] + [lag_cols[i::4][:int(MAX_YEAR)] for i in range(skip_quater-1, skip_quater-1+4)]\n",
    "for i, v in enumerate(quater_lag):\n",
    "    if not i: continue\n",
    "    print(f\"Q{i}\", quater_lag[i])\n",
    "    df[f\"cashflow_q{i}_mean\"] = df[quater_lag[i]].mean(axis=1)\n",
    "    df[f\"cashflow_q{i}_cnt\"] = df[quater_lag[i]].notna().sum(axis=1)\n",
    "\n",
    "df[\"main_quater\"] = df[[f\"cashflow_q{i}_mean\" for i in range(1, 5)]].idxmax(axis=1).str[-6].astype(float)\n",
    "df[\"main_quater_cnt\"] = df[[f\"cashflow_q{i}_cnt\" for i in range(1, 5)]].sum(axis=1) >= ((MAX_YEAR) * 4 - 1)\n",
    "\n",
    "df = df.drop(columns=lag_cols)"
   ]
  },
  {
   "cell_type": "code",
   "execution_count": 132,
   "metadata": {},
   "outputs": [
    {
     "data": {
      "text/plain": [
       "main_quater_cnt\n",
       "False    280591\n",
       "True      37199\n",
       "Name: count, dtype: int64"
      ]
     },
     "execution_count": 132,
     "metadata": {},
     "output_type": "execute_result"
    }
   ],
   "source": [
    "df[\"main_quater_cnt\"].value_counts()"
   ]
  },
  {
   "cell_type": "code",
   "execution_count": 144,
   "metadata": {},
   "outputs": [
    {
     "name": "stdout",
     "output_type": "stream",
     "text": [
      "firm observations 1494\n"
     ]
    },
    {
     "data": {
      "text/plain": [
       "ind_code\n",
       "C    23037\n",
       "J     3844\n",
       "G     2921\n",
       "M     2616\n",
       "F     1397\n",
       "H      409\n",
       "N      177\n",
       "I      160\n",
       "L      122\n",
       "A      120\n",
       "P       96\n",
       "R       90\n",
       "S        1\n",
       "Name: count, dtype: int64"
      ]
     },
     "execution_count": 144,
     "metadata": {},
     "output_type": "execute_result"
    }
   ],
   "source": [
    "print(\"firm observations\", df[(df[\"main_quater_cnt\"]==True)][\"firmcode\"].nunique())\n",
    "df[(df[\"main_quater_cnt\"]==True)][\"ind_code\"].value_counts()"
   ]
  },
  {
   "cell_type": "code",
   "execution_count": 145,
   "metadata": {},
   "outputs": [
    {
     "data": {
      "text/html": [
       "<div>\n",
       "<style scoped>\n",
       "    .dataframe tbody tr th:only-of-type {\n",
       "        vertical-align: middle;\n",
       "    }\n",
       "\n",
       "    .dataframe tbody tr th {\n",
       "        vertical-align: top;\n",
       "    }\n",
       "\n",
       "    .dataframe thead th {\n",
       "        text-align: right;\n",
       "    }\n",
       "</style>\n",
       "<table border=\"1\" class=\"dataframe\">\n",
       "  <thead>\n",
       "    <tr style=\"text-align: right;\">\n",
       "      <th></th>\n",
       "      <th>count</th>\n",
       "      <th>mean</th>\n",
       "      <th>50%</th>\n",
       "      <th>std</th>\n",
       "      <th>min</th>\n",
       "      <th>25%</th>\n",
       "      <th>75%</th>\n",
       "      <th>max</th>\n",
       "    </tr>\n",
       "  </thead>\n",
       "  <tbody>\n",
       "    <tr>\n",
       "      <th>log_sales</th>\n",
       "      <td>25412</td>\n",
       "      <td>23.903550</td>\n",
       "      <td>23.858097</td>\n",
       "      <td>1.840397</td>\n",
       "      <td>10.596635</td>\n",
       "      <td>22.814518</td>\n",
       "      <td>24.889445</td>\n",
       "      <td>30.876334</td>\n",
       "    </tr>\n",
       "    <tr>\n",
       "      <th>size</th>\n",
       "      <td>27450</td>\n",
       "      <td>25.918971</td>\n",
       "      <td>25.707908</td>\n",
       "      <td>1.661303</td>\n",
       "      <td>16.692317</td>\n",
       "      <td>24.887475</td>\n",
       "      <td>26.623343</td>\n",
       "      <td>33.910172</td>\n",
       "    </tr>\n",
       "    <tr>\n",
       "      <th>q</th>\n",
       "      <td>13447</td>\n",
       "      <td>4.154108</td>\n",
       "      <td>0.757492</td>\n",
       "      <td>34.763171</td>\n",
       "      <td>0.000039</td>\n",
       "      <td>0.227914</td>\n",
       "      <td>2.086722</td>\n",
       "      <td>3368.986976</td>\n",
       "    </tr>\n",
       "    <tr>\n",
       "      <th>cashflow</th>\n",
       "      <td>25406</td>\n",
       "      <td>0.011636</td>\n",
       "      <td>0.010886</td>\n",
       "      <td>0.098968</td>\n",
       "      <td>-14.484434</td>\n",
       "      <td>0.000569</td>\n",
       "      <td>0.024928</td>\n",
       "      <td>1.030641</td>\n",
       "    </tr>\n",
       "    <tr>\n",
       "      <th>cash</th>\n",
       "      <td>20476</td>\n",
       "      <td>41918119471.613106</td>\n",
       "      <td>5347307500.000000</td>\n",
       "      <td>184412281064.332489</td>\n",
       "      <td>-9137649000.000000</td>\n",
       "      <td>1642886000.000000</td>\n",
       "      <td>16607666500.000000</td>\n",
       "      <td>7049394000000.000000</td>\n",
       "    </tr>\n",
       "    <tr>\n",
       "      <th>book_lev</th>\n",
       "      <td>15165</td>\n",
       "      <td>1.160372</td>\n",
       "      <td>0.100429</td>\n",
       "      <td>9.731473</td>\n",
       "      <td>0.000000</td>\n",
       "      <td>0.010731</td>\n",
       "      <td>0.529486</td>\n",
       "      <td>343.517369</td>\n",
       "    </tr>\n",
       "    <tr>\n",
       "      <th>st_debt_to_asset</th>\n",
       "      <td>15165</td>\n",
       "      <td>0.642614</td>\n",
       "      <td>0.058040</td>\n",
       "      <td>4.449194</td>\n",
       "      <td>0.000000</td>\n",
       "      <td>0.004522</td>\n",
       "      <td>0.324940</td>\n",
       "      <td>199.856054</td>\n",
       "    </tr>\n",
       "    <tr>\n",
       "      <th>st_debt_to_sales</th>\n",
       "      <td>14085</td>\n",
       "      <td>-12124.687788</td>\n",
       "      <td>0.068179</td>\n",
       "      <td>1445354.398664</td>\n",
       "      <td>-171534800.000000</td>\n",
       "      <td>0.000409</td>\n",
       "      <td>0.958775</td>\n",
       "      <td>175928.956966</td>\n",
       "    </tr>\n",
       "    <tr>\n",
       "      <th>payab_to_sales</th>\n",
       "      <td>14085</td>\n",
       "      <td>-22297.782286</td>\n",
       "      <td>0.178642</td>\n",
       "      <td>2653667.892102</td>\n",
       "      <td>-314937800.000000</td>\n",
       "      <td>0.018602</td>\n",
       "      <td>0.996092</td>\n",
       "      <td>176179.925000</td>\n",
       "    </tr>\n",
       "    <tr>\n",
       "      <th>payab_to_asset</th>\n",
       "      <td>15165</td>\n",
       "      <td>0.482658</td>\n",
       "      <td>0.026117</td>\n",
       "      <td>7.772372</td>\n",
       "      <td>0.000000</td>\n",
       "      <td>0.003147</td>\n",
       "      <td>0.133470</td>\n",
       "      <td>333.018647</td>\n",
       "    </tr>\n",
       "    <tr>\n",
       "      <th>receiv_to_sales</th>\n",
       "      <td>14054</td>\n",
       "      <td>-66144.261765</td>\n",
       "      <td>0.555435</td>\n",
       "      <td>7854384.177729</td>\n",
       "      <td>-931133500.000000</td>\n",
       "      <td>0.106043</td>\n",
       "      <td>2.302462</td>\n",
       "      <td>625010.625000</td>\n",
       "    </tr>\n",
       "    <tr>\n",
       "      <th>receiv_to_asset</th>\n",
       "      <td>15122</td>\n",
       "      <td>0.615840</td>\n",
       "      <td>0.078967</td>\n",
       "      <td>4.433452</td>\n",
       "      <td>0.000000</td>\n",
       "      <td>0.017400</td>\n",
       "      <td>0.300652</td>\n",
       "      <td>145.685380</td>\n",
       "    </tr>\n",
       "    <tr>\n",
       "      <th>invent_to_sales</th>\n",
       "      <td>14085</td>\n",
       "      <td>-28622.606275</td>\n",
       "      <td>0.267902</td>\n",
       "      <td>3405918.608853</td>\n",
       "      <td>-404215000.000000</td>\n",
       "      <td>0.029292</td>\n",
       "      <td>1.288605</td>\n",
       "      <td>299253.848750</td>\n",
       "    </tr>\n",
       "    <tr>\n",
       "      <th>invent_to_asset</th>\n",
       "      <td>15165</td>\n",
       "      <td>0.334842</td>\n",
       "      <td>0.038742</td>\n",
       "      <td>2.324894</td>\n",
       "      <td>0.000000</td>\n",
       "      <td>0.004911</td>\n",
       "      <td>0.181465</td>\n",
       "      <td>92.380435</td>\n",
       "    </tr>\n",
       "    <tr>\n",
       "      <th>investment</th>\n",
       "      <td>18144</td>\n",
       "      <td>47.093734</td>\n",
       "      <td>0.002132</td>\n",
       "      <td>6299.132450</td>\n",
       "      <td>-288.372430</td>\n",
       "      <td>0.000000</td>\n",
       "      <td>0.023427</td>\n",
       "      <td>848484.846667</td>\n",
       "    </tr>\n",
       "    <tr>\n",
       "      <th>n_ppe_to_asset</th>\n",
       "      <td>15133</td>\n",
       "      <td>1.572541</td>\n",
       "      <td>0.145082</td>\n",
       "      <td>14.743361</td>\n",
       "      <td>-43.682090</td>\n",
       "      <td>0.032462</td>\n",
       "      <td>0.653563</td>\n",
       "      <td>479.687805</td>\n",
       "    </tr>\n",
       "  </tbody>\n",
       "</table>\n",
       "</div>"
      ],
      "text/plain": [
       "                  count               mean               50%  \\\n",
       "log_sales         25412          23.903550         23.858097   \n",
       "size              27450          25.918971         25.707908   \n",
       "q                 13447           4.154108          0.757492   \n",
       "cashflow          25406           0.011636          0.010886   \n",
       "cash              20476 41918119471.613106 5347307500.000000   \n",
       "book_lev          15165           1.160372          0.100429   \n",
       "st_debt_to_asset  15165           0.642614          0.058040   \n",
       "st_debt_to_sales  14085      -12124.687788          0.068179   \n",
       "payab_to_sales    14085      -22297.782286          0.178642   \n",
       "payab_to_asset    15165           0.482658          0.026117   \n",
       "receiv_to_sales   14054      -66144.261765          0.555435   \n",
       "receiv_to_asset   15122           0.615840          0.078967   \n",
       "invent_to_sales   14085      -28622.606275          0.267902   \n",
       "invent_to_asset   15165           0.334842          0.038742   \n",
       "investment        18144          47.093734          0.002132   \n",
       "n_ppe_to_asset    15133           1.572541          0.145082   \n",
       "\n",
       "                                 std                min               25%  \\\n",
       "log_sales                   1.840397          10.596635         22.814518   \n",
       "size                        1.661303          16.692317         24.887475   \n",
       "q                          34.763171           0.000039          0.227914   \n",
       "cashflow                    0.098968         -14.484434          0.000569   \n",
       "cash             184412281064.332489 -9137649000.000000 1642886000.000000   \n",
       "book_lev                    9.731473           0.000000          0.010731   \n",
       "st_debt_to_asset            4.449194           0.000000          0.004522   \n",
       "st_debt_to_sales      1445354.398664  -171534800.000000          0.000409   \n",
       "payab_to_sales        2653667.892102  -314937800.000000          0.018602   \n",
       "payab_to_asset              7.772372           0.000000          0.003147   \n",
       "receiv_to_sales       7854384.177729  -931133500.000000          0.106043   \n",
       "receiv_to_asset             4.433452           0.000000          0.017400   \n",
       "invent_to_sales       3405918.608853  -404215000.000000          0.029292   \n",
       "invent_to_asset             2.324894           0.000000          0.004911   \n",
       "investment               6299.132450        -288.372430          0.000000   \n",
       "n_ppe_to_asset             14.743361         -43.682090          0.032462   \n",
       "\n",
       "                                75%                  max  \n",
       "log_sales                 24.889445            30.876334  \n",
       "size                      26.623343            33.910172  \n",
       "q                          2.086722          3368.986976  \n",
       "cashflow                   0.024928             1.030641  \n",
       "cash             16607666500.000000 7049394000000.000000  \n",
       "book_lev                   0.529486           343.517369  \n",
       "st_debt_to_asset           0.324940           199.856054  \n",
       "st_debt_to_sales           0.958775        175928.956966  \n",
       "payab_to_sales             0.996092        176179.925000  \n",
       "payab_to_asset             0.133470           333.018647  \n",
       "receiv_to_sales            2.302462        625010.625000  \n",
       "receiv_to_asset            0.300652           145.685380  \n",
       "invent_to_sales            1.288605        299253.848750  \n",
       "invent_to_asset            0.181465            92.380435  \n",
       "investment                 0.023427        848484.846667  \n",
       "n_ppe_to_asset             0.653563           479.687805  "
      ]
     },
     "execution_count": 145,
     "metadata": {},
     "output_type": "execute_result"
    }
   ],
   "source": [
    "summary = df.loc[(df[\"main_quater_cnt\"]==True), [\n",
    "     \"log_sales\", \"size\", \"q\", \"cashflow\", \"cash\", \"book_lev\", \n",
    "    \"st_debt_to_asset\", \"st_debt_to_sales\", \n",
    "    \"payab_to_sales\", \"payab_to_asset\", \"receiv_to_sales\", \"receiv_to_asset\", \"invent_to_sales\", \"invent_to_asset\", \n",
    "    \"investment\", \"n_ppe_to_asset\"\n",
    "]].describe(\n",
    "    include=\"all\"\n",
    ").T\n",
    "\n",
    "summary[\"count\"] = summary[\"count\"].astype(int)\n",
    "summary[[\"count\", \"mean\", \"50%\", \"std\", \"min\", \"25%\", \"75%\", \"max\"]]"
   ]
  },
  {
   "cell_type": "code",
   "execution_count": 134,
   "metadata": {},
   "outputs": [
    {
     "data": {
      "text/plain": [
       "drop_size_dummy\n",
       "False    13592\n",
       "True     11814\n",
       "Name: count, dtype: int64"
      ]
     },
     "execution_count": 134,
     "metadata": {},
     "output_type": "execute_result"
    }
   ],
   "source": [
    "df[(df[\"main_quater_cnt\"]==True) & (df[\"cashflow\"].notna())][\"drop_size_dummy\"].value_counts()"
   ]
  },
  {
   "cell_type": "code",
   "execution_count": 135,
   "metadata": {},
   "outputs": [
    {
     "data": {
      "text/plain": [
       "0.5349917342360072"
      ]
     },
     "execution_count": 135,
     "metadata": {},
     "output_type": "execute_result"
    }
   ],
   "source": [
    "13592/(13592+11814)"
   ]
  },
  {
   "cell_type": "code",
   "execution_count": 136,
   "metadata": {},
   "outputs": [
    {
     "name": "stdout",
     "output_type": "stream",
     "text": [
      "firm observations 1151\n"
     ]
    },
    {
     "data": {
      "text/plain": [
       "ind_code\n",
       "C    15605\n",
       "J     2550\n",
       "G     2111\n",
       "M     1743\n",
       "F     1096\n",
       "H      291\n",
       "N      154\n",
       "I      112\n",
       "L       81\n",
       "A       70\n",
       "R       60\n",
       "P       47\n",
       "Name: count, dtype: int64"
      ]
     },
     "execution_count": 136,
     "metadata": {},
     "output_type": "execute_result"
    }
   ],
   "source": [
    "print(\"firm observations\", df[(df[\"main_quater_cnt\"]==True) & (df[\"cashflow\"].notna())][\"firmcode\"].nunique())\n",
    "df[(df[\"main_quater_cnt\"]==True) & (df[\"cashflow\"].notna())][\"ind_code\"].value_counts()"
   ]
  },
  {
   "cell_type": "code",
   "execution_count": 138,
   "metadata": {},
   "outputs": [
    {
     "data": {
      "text/html": [
       "<div>\n",
       "<style scoped>\n",
       "    .dataframe tbody tr th:only-of-type {\n",
       "        vertical-align: middle;\n",
       "    }\n",
       "\n",
       "    .dataframe tbody tr th {\n",
       "        vertical-align: top;\n",
       "    }\n",
       "\n",
       "    .dataframe thead th {\n",
       "        text-align: right;\n",
       "    }\n",
       "</style>\n",
       "<table border=\"1\" class=\"dataframe\">\n",
       "  <thead>\n",
       "    <tr style=\"text-align: right;\">\n",
       "      <th></th>\n",
       "      <th>count</th>\n",
       "      <th>mean</th>\n",
       "      <th>50%</th>\n",
       "      <th>std</th>\n",
       "      <th>min</th>\n",
       "      <th>25%</th>\n",
       "      <th>75%</th>\n",
       "      <th>max</th>\n",
       "    </tr>\n",
       "  </thead>\n",
       "  <tbody>\n",
       "    <tr>\n",
       "      <th>log_sales</th>\n",
       "      <td>25020</td>\n",
       "      <td>23.907220</td>\n",
       "      <td>23.864866</td>\n",
       "      <td>1.837271</td>\n",
       "      <td>10.596635</td>\n",
       "      <td>22.818234</td>\n",
       "      <td>24.893361</td>\n",
       "      <td>30.876334</td>\n",
       "    </tr>\n",
       "    <tr>\n",
       "      <th>size</th>\n",
       "      <td>25406</td>\n",
       "      <td>26.037143</td>\n",
       "      <td>25.794795</td>\n",
       "      <td>1.625010</td>\n",
       "      <td>16.692317</td>\n",
       "      <td>24.992774</td>\n",
       "      <td>26.697158</td>\n",
       "      <td>33.910172</td>\n",
       "    </tr>\n",
       "    <tr>\n",
       "      <th>q</th>\n",
       "      <td>12541</td>\n",
       "      <td>3.606289</td>\n",
       "      <td>0.721974</td>\n",
       "      <td>19.425051</td>\n",
       "      <td>0.000039</td>\n",
       "      <td>0.212788</td>\n",
       "      <td>1.899640</td>\n",
       "      <td>525.574284</td>\n",
       "    </tr>\n",
       "    <tr>\n",
       "      <th>cashflow</th>\n",
       "      <td>25406</td>\n",
       "      <td>0.011636</td>\n",
       "      <td>0.010886</td>\n",
       "      <td>0.098968</td>\n",
       "      <td>-14.484434</td>\n",
       "      <td>0.000569</td>\n",
       "      <td>0.024928</td>\n",
       "      <td>1.030641</td>\n",
       "    </tr>\n",
       "    <tr>\n",
       "      <th>cash</th>\n",
       "      <td>14082</td>\n",
       "      <td>43352057598.366707</td>\n",
       "      <td>5327333500.000000</td>\n",
       "      <td>192773221105.731140</td>\n",
       "      <td>-9137649000.000000</td>\n",
       "      <td>1652749750.000000</td>\n",
       "      <td>16888656500.000000</td>\n",
       "      <td>7049394000000.000000</td>\n",
       "    </tr>\n",
       "    <tr>\n",
       "      <th>book_lev</th>\n",
       "      <td>14036</td>\n",
       "      <td>1.084191</td>\n",
       "      <td>0.091297</td>\n",
       "      <td>9.962716</td>\n",
       "      <td>0.000000</td>\n",
       "      <td>0.009520</td>\n",
       "      <td>0.469391</td>\n",
       "      <td>343.517369</td>\n",
       "    </tr>\n",
       "    <tr>\n",
       "      <th>st_debt_to_asset</th>\n",
       "      <td>14036</td>\n",
       "      <td>0.587133</td>\n",
       "      <td>0.052207</td>\n",
       "      <td>4.435291</td>\n",
       "      <td>0.000000</td>\n",
       "      <td>0.004046</td>\n",
       "      <td>0.288548</td>\n",
       "      <td>199.856054</td>\n",
       "    </tr>\n",
       "    <tr>\n",
       "      <th>st_debt_to_sales</th>\n",
       "      <td>13966</td>\n",
       "      <td>-12228.065606</td>\n",
       "      <td>0.066966</td>\n",
       "      <td>1451499.051199</td>\n",
       "      <td>-171534800.000000</td>\n",
       "      <td>0.000396</td>\n",
       "      <td>0.955962</td>\n",
       "      <td>175928.956966</td>\n",
       "    </tr>\n",
       "    <tr>\n",
       "      <th>payab_to_sales</th>\n",
       "      <td>13966</td>\n",
       "      <td>-22487.865649</td>\n",
       "      <td>0.176986</td>\n",
       "      <td>2664949.459952</td>\n",
       "      <td>-314937800.000000</td>\n",
       "      <td>0.018376</td>\n",
       "      <td>0.991379</td>\n",
       "      <td>176179.925000</td>\n",
       "    </tr>\n",
       "    <tr>\n",
       "      <th>payab_to_asset</th>\n",
       "      <td>14036</td>\n",
       "      <td>0.473429</td>\n",
       "      <td>0.023405</td>\n",
       "      <td>8.067403</td>\n",
       "      <td>0.000000</td>\n",
       "      <td>0.002767</td>\n",
       "      <td>0.119951</td>\n",
       "      <td>333.018647</td>\n",
       "    </tr>\n",
       "    <tr>\n",
       "      <th>receiv_to_sales</th>\n",
       "      <td>13934</td>\n",
       "      <td>-66714.130835</td>\n",
       "      <td>0.554685</td>\n",
       "      <td>7888132.767335</td>\n",
       "      <td>-931133500.000000</td>\n",
       "      <td>0.106245</td>\n",
       "      <td>2.301496</td>\n",
       "      <td>625010.625000</td>\n",
       "    </tr>\n",
       "    <tr>\n",
       "      <th>receiv_to_asset</th>\n",
       "      <td>14002</td>\n",
       "      <td>0.570500</td>\n",
       "      <td>0.072728</td>\n",
       "      <td>4.476675</td>\n",
       "      <td>0.000000</td>\n",
       "      <td>0.016184</td>\n",
       "      <td>0.275307</td>\n",
       "      <td>145.685380</td>\n",
       "    </tr>\n",
       "    <tr>\n",
       "      <th>invent_to_sales</th>\n",
       "      <td>13966</td>\n",
       "      <td>-28866.719702</td>\n",
       "      <td>0.266773</td>\n",
       "      <td>3420398.227280</td>\n",
       "      <td>-404215000.000000</td>\n",
       "      <td>0.029235</td>\n",
       "      <td>1.281277</td>\n",
       "      <td>299253.848750</td>\n",
       "    </tr>\n",
       "    <tr>\n",
       "      <th>invent_to_asset</th>\n",
       "      <td>14036</td>\n",
       "      <td>0.304968</td>\n",
       "      <td>0.034571</td>\n",
       "      <td>2.344186</td>\n",
       "      <td>0.000000</td>\n",
       "      <td>0.004453</td>\n",
       "      <td>0.165236</td>\n",
       "      <td>92.380435</td>\n",
       "    </tr>\n",
       "    <tr>\n",
       "      <th>investment</th>\n",
       "      <td>12506</td>\n",
       "      <td>68.323229</td>\n",
       "      <td>0.001825</td>\n",
       "      <td>7587.312035</td>\n",
       "      <td>-41.406074</td>\n",
       "      <td>0.000000</td>\n",
       "      <td>0.025062</td>\n",
       "      <td>848484.846667</td>\n",
       "    </tr>\n",
       "    <tr>\n",
       "      <th>n_ppe_to_asset</th>\n",
       "      <td>14004</td>\n",
       "      <td>1.507761</td>\n",
       "      <td>0.131400</td>\n",
       "      <td>15.221766</td>\n",
       "      <td>-43.682090</td>\n",
       "      <td>0.029391</td>\n",
       "      <td>0.591621</td>\n",
       "      <td>479.687805</td>\n",
       "    </tr>\n",
       "  </tbody>\n",
       "</table>\n",
       "</div>"
      ],
      "text/plain": [
       "                  count               mean               50%  \\\n",
       "log_sales         25020          23.907220         23.864866   \n",
       "size              25406          26.037143         25.794795   \n",
       "q                 12541           3.606289          0.721974   \n",
       "cashflow          25406           0.011636          0.010886   \n",
       "cash              14082 43352057598.366707 5327333500.000000   \n",
       "book_lev          14036           1.084191          0.091297   \n",
       "st_debt_to_asset  14036           0.587133          0.052207   \n",
       "st_debt_to_sales  13966      -12228.065606          0.066966   \n",
       "payab_to_sales    13966      -22487.865649          0.176986   \n",
       "payab_to_asset    14036           0.473429          0.023405   \n",
       "receiv_to_sales   13934      -66714.130835          0.554685   \n",
       "receiv_to_asset   14002           0.570500          0.072728   \n",
       "invent_to_sales   13966      -28866.719702          0.266773   \n",
       "invent_to_asset   14036           0.304968          0.034571   \n",
       "investment        12506          68.323229          0.001825   \n",
       "n_ppe_to_asset    14004           1.507761          0.131400   \n",
       "\n",
       "                                 std                min               25%  \\\n",
       "log_sales                   1.837271          10.596635         22.818234   \n",
       "size                        1.625010          16.692317         24.992774   \n",
       "q                          19.425051           0.000039          0.212788   \n",
       "cashflow                    0.098968         -14.484434          0.000569   \n",
       "cash             192773221105.731140 -9137649000.000000 1652749750.000000   \n",
       "book_lev                    9.962716           0.000000          0.009520   \n",
       "st_debt_to_asset            4.435291           0.000000          0.004046   \n",
       "st_debt_to_sales      1451499.051199  -171534800.000000          0.000396   \n",
       "payab_to_sales        2664949.459952  -314937800.000000          0.018376   \n",
       "payab_to_asset              8.067403           0.000000          0.002767   \n",
       "receiv_to_sales       7888132.767335  -931133500.000000          0.106245   \n",
       "receiv_to_asset             4.476675           0.000000          0.016184   \n",
       "invent_to_sales       3420398.227280  -404215000.000000          0.029235   \n",
       "invent_to_asset             2.344186           0.000000          0.004453   \n",
       "investment               7587.312035         -41.406074          0.000000   \n",
       "n_ppe_to_asset             15.221766         -43.682090          0.029391   \n",
       "\n",
       "                                75%                  max  \n",
       "log_sales                 24.893361            30.876334  \n",
       "size                      26.697158            33.910172  \n",
       "q                          1.899640           525.574284  \n",
       "cashflow                   0.024928             1.030641  \n",
       "cash             16888656500.000000 7049394000000.000000  \n",
       "book_lev                   0.469391           343.517369  \n",
       "st_debt_to_asset           0.288548           199.856054  \n",
       "st_debt_to_sales           0.955962        175928.956966  \n",
       "payab_to_sales             0.991379        176179.925000  \n",
       "payab_to_asset             0.119951           333.018647  \n",
       "receiv_to_sales            2.301496        625010.625000  \n",
       "receiv_to_asset            0.275307           145.685380  \n",
       "invent_to_sales            1.281277        299253.848750  \n",
       "invent_to_asset            0.165236            92.380435  \n",
       "investment                 0.025062        848484.846667  \n",
       "n_ppe_to_asset             0.591621           479.687805  "
      ]
     },
     "execution_count": 138,
     "metadata": {},
     "output_type": "execute_result"
    }
   ],
   "source": [
    "summary = df.loc[(df[\"main_quater_cnt\"]==True) & (df[\"cashflow\"].notna()), [\n",
    "     \"log_sales\", \"size\", \"q\", \"cashflow\", \"cash\", \"book_lev\", \n",
    "    \"st_debt_to_asset\", \"st_debt_to_sales\", \n",
    "    \"payab_to_sales\", \"payab_to_asset\", \"receiv_to_sales\", \"receiv_to_asset\", \"invent_to_sales\", \"invent_to_asset\", \n",
    "    \"investment\", \"n_ppe_to_asset\"\n",
    "]].describe(\n",
    "    include=\"all\"\n",
    ").T\n",
    "\n",
    "summary[\"count\"] = summary[\"count\"].astype(int)\n",
    "summary[[\"count\", \"mean\", \"50%\", \"std\", \"min\", \"25%\", \"75%\", \"max\"]]"
   ]
  },
  {
   "cell_type": "code",
   "execution_count": 141,
   "metadata": {},
   "outputs": [
    {
     "name": "stdout",
     "output_type": "stream",
     "text": [
      "firm observations 349\n"
     ]
    },
    {
     "data": {
      "text/plain": [
       "ind_code\n",
       "C    3173\n",
       "F     448\n",
       "G     424\n",
       "J     232\n",
       "M     225\n",
       "H      79\n",
       "N      19\n",
       "P      16\n",
       "A      10\n",
       "I       7\n",
       "L       4\n",
       "Name: count, dtype: int64"
      ]
     },
     "execution_count": 141,
     "metadata": {},
     "output_type": "execute_result"
    }
   ],
   "source": [
    "print(\"firm observations\", df[(df[\"main_quater_cnt\"]==True) & (df[\"cashflow\"].notna()) & (df[\"sup_fin_tercile\"]==\"top\")][\"firmcode\"].nunique())\n",
    "df[(df[\"main_quater_cnt\"]==True) & (df[\"cashflow\"].notna()) & (df[\"sup_fin_tercile\"]==\"top\")][\"ind_code\"].value_counts()"
   ]
  },
  {
   "cell_type": "code",
   "execution_count": 140,
   "metadata": {},
   "outputs": [
    {
     "data": {
      "text/html": [
       "<div>\n",
       "<style scoped>\n",
       "    .dataframe tbody tr th:only-of-type {\n",
       "        vertical-align: middle;\n",
       "    }\n",
       "\n",
       "    .dataframe tbody tr th {\n",
       "        vertical-align: top;\n",
       "    }\n",
       "\n",
       "    .dataframe thead th {\n",
       "        text-align: right;\n",
       "    }\n",
       "</style>\n",
       "<table border=\"1\" class=\"dataframe\">\n",
       "  <thead>\n",
       "    <tr style=\"text-align: right;\">\n",
       "      <th></th>\n",
       "      <th>count</th>\n",
       "      <th>mean</th>\n",
       "      <th>50%</th>\n",
       "      <th>std</th>\n",
       "      <th>min</th>\n",
       "      <th>25%</th>\n",
       "      <th>75%</th>\n",
       "      <th>max</th>\n",
       "    </tr>\n",
       "  </thead>\n",
       "  <tbody>\n",
       "    <tr>\n",
       "      <th>log_sales</th>\n",
       "      <td>4807</td>\n",
       "      <td>22.947375</td>\n",
       "      <td>23.021254</td>\n",
       "      <td>1.833790</td>\n",
       "      <td>10.596635</td>\n",
       "      <td>21.930290</td>\n",
       "      <td>24.140758</td>\n",
       "      <td>28.394941</td>\n",
       "    </tr>\n",
       "    <tr>\n",
       "      <th>size</th>\n",
       "      <td>4880</td>\n",
       "      <td>25.498780</td>\n",
       "      <td>25.323651</td>\n",
       "      <td>1.263957</td>\n",
       "      <td>20.822787</td>\n",
       "      <td>24.659456</td>\n",
       "      <td>26.261181</td>\n",
       "      <td>31.575067</td>\n",
       "    </tr>\n",
       "    <tr>\n",
       "      <th>q</th>\n",
       "      <td>3940</td>\n",
       "      <td>8.789558</td>\n",
       "      <td>1.921461</td>\n",
       "      <td>33.301493</td>\n",
       "      <td>0.003079</td>\n",
       "      <td>0.878354</td>\n",
       "      <td>4.984139</td>\n",
       "      <td>525.574284</td>\n",
       "    </tr>\n",
       "    <tr>\n",
       "      <th>cashflow</th>\n",
       "      <td>4880</td>\n",
       "      <td>0.005098</td>\n",
       "      <td>0.006176</td>\n",
       "      <td>0.044399</td>\n",
       "      <td>-0.586435</td>\n",
       "      <td>-0.004802</td>\n",
       "      <td>0.018236</td>\n",
       "      <td>0.933472</td>\n",
       "    </tr>\n",
       "    <tr>\n",
       "      <th>cash</th>\n",
       "      <td>4279</td>\n",
       "      <td>103210838021.666275</td>\n",
       "      <td>10706286000.000000</td>\n",
       "      <td>327506428073.231201</td>\n",
       "      <td>-2099780000.000000</td>\n",
       "      <td>2775848000.000000</td>\n",
       "      <td>49308066000.000000</td>\n",
       "      <td>7049394000000.000000</td>\n",
       "    </tr>\n",
       "    <tr>\n",
       "      <th>book_lev</th>\n",
       "      <td>4269</td>\n",
       "      <td>2.878481</td>\n",
       "      <td>0.513850</td>\n",
       "      <td>17.741251</td>\n",
       "      <td>0.000000</td>\n",
       "      <td>0.100052</td>\n",
       "      <td>1.660806</td>\n",
       "      <td>343.517369</td>\n",
       "    </tr>\n",
       "    <tr>\n",
       "      <th>st_debt_to_asset</th>\n",
       "      <td>4269</td>\n",
       "      <td>1.524434</td>\n",
       "      <td>0.320241</td>\n",
       "      <td>7.868739</td>\n",
       "      <td>0.000000</td>\n",
       "      <td>0.064799</td>\n",
       "      <td>1.047478</td>\n",
       "      <td>199.856054</td>\n",
       "    </tr>\n",
       "    <tr>\n",
       "      <th>st_debt_to_sales</th>\n",
       "      <td>4243</td>\n",
       "      <td>-40252.574482</td>\n",
       "      <td>1.046735</td>\n",
       "      <td>2633398.384287</td>\n",
       "      <td>-171534800.000000</td>\n",
       "      <td>0.034835</td>\n",
       "      <td>6.300953</td>\n",
       "      <td>175928.956966</td>\n",
       "    </tr>\n",
       "    <tr>\n",
       "      <th>payab_to_sales</th>\n",
       "      <td>4243</td>\n",
       "      <td>-74020.722343</td>\n",
       "      <td>2.157769</td>\n",
       "      <td>4834913.135067</td>\n",
       "      <td>-314937800.000000</td>\n",
       "      <td>1.036434</td>\n",
       "      <td>5.942739</td>\n",
       "      <td>176179.925000</td>\n",
       "    </tr>\n",
       "    <tr>\n",
       "      <th>payab_to_asset</th>\n",
       "      <td>4269</td>\n",
       "      <td>1.469632</td>\n",
       "      <td>0.233660</td>\n",
       "      <td>14.571247</td>\n",
       "      <td>0.000000</td>\n",
       "      <td>0.096941</td>\n",
       "      <td>0.530473</td>\n",
       "      <td>333.018647</td>\n",
       "    </tr>\n",
       "    <tr>\n",
       "      <th>receiv_to_sales</th>\n",
       "      <td>4195</td>\n",
       "      <td>-221598.910477</td>\n",
       "      <td>3.968415</td>\n",
       "      <td>14376270.983953</td>\n",
       "      <td>-931133500.000000</td>\n",
       "      <td>1.924461</td>\n",
       "      <td>11.743125</td>\n",
       "      <td>625010.625000</td>\n",
       "    </tr>\n",
       "    <tr>\n",
       "      <th>receiv_to_asset</th>\n",
       "      <td>4222</td>\n",
       "      <td>1.626375</td>\n",
       "      <td>0.419121</td>\n",
       "      <td>8.010382</td>\n",
       "      <td>0.000000</td>\n",
       "      <td>0.165954</td>\n",
       "      <td>1.031640</td>\n",
       "      <td>145.685380</td>\n",
       "    </tr>\n",
       "    <tr>\n",
       "      <th>invent_to_sales</th>\n",
       "      <td>4243</td>\n",
       "      <td>-95018.072878</td>\n",
       "      <td>2.072444</td>\n",
       "      <td>6205494.006283</td>\n",
       "      <td>-404215000.000000</td>\n",
       "      <td>0.734722</td>\n",
       "      <td>6.361718</td>\n",
       "      <td>299253.848750</td>\n",
       "    </tr>\n",
       "    <tr>\n",
       "      <th>invent_to_asset</th>\n",
       "      <td>4269</td>\n",
       "      <td>0.817636</td>\n",
       "      <td>0.219163</td>\n",
       "      <td>4.132014</td>\n",
       "      <td>0.000000</td>\n",
       "      <td>0.064230</td>\n",
       "      <td>0.563729</td>\n",
       "      <td>92.380435</td>\n",
       "    </tr>\n",
       "    <tr>\n",
       "      <th>investment</th>\n",
       "      <td>4001</td>\n",
       "      <td>0.028447</td>\n",
       "      <td>0.001537</td>\n",
       "      <td>0.236485</td>\n",
       "      <td>-0.246990</td>\n",
       "      <td>0.000000</td>\n",
       "      <td>0.014568</td>\n",
       "      <td>8.943148</td>\n",
       "    </tr>\n",
       "    <tr>\n",
       "      <th>n_ppe_to_asset</th>\n",
       "      <td>4269</td>\n",
       "      <td>4.121566</td>\n",
       "      <td>0.695820</td>\n",
       "      <td>27.193827</td>\n",
       "      <td>0.000027</td>\n",
       "      <td>0.206462</td>\n",
       "      <td>1.891779</td>\n",
       "      <td>479.687805</td>\n",
       "    </tr>\n",
       "  </tbody>\n",
       "</table>\n",
       "</div>"
      ],
      "text/plain": [
       "                  count                mean                50%  \\\n",
       "log_sales          4807           22.947375          23.021254   \n",
       "size               4880           25.498780          25.323651   \n",
       "q                  3940            8.789558           1.921461   \n",
       "cashflow           4880            0.005098           0.006176   \n",
       "cash               4279 103210838021.666275 10706286000.000000   \n",
       "book_lev           4269            2.878481           0.513850   \n",
       "st_debt_to_asset   4269            1.524434           0.320241   \n",
       "st_debt_to_sales   4243       -40252.574482           1.046735   \n",
       "payab_to_sales     4243       -74020.722343           2.157769   \n",
       "payab_to_asset     4269            1.469632           0.233660   \n",
       "receiv_to_sales    4195      -221598.910477           3.968415   \n",
       "receiv_to_asset    4222            1.626375           0.419121   \n",
       "invent_to_sales    4243       -95018.072878           2.072444   \n",
       "invent_to_asset    4269            0.817636           0.219163   \n",
       "investment         4001            0.028447           0.001537   \n",
       "n_ppe_to_asset     4269            4.121566           0.695820   \n",
       "\n",
       "                                 std                min               25%  \\\n",
       "log_sales                   1.833790          10.596635         21.930290   \n",
       "size                        1.263957          20.822787         24.659456   \n",
       "q                          33.301493           0.003079          0.878354   \n",
       "cashflow                    0.044399          -0.586435         -0.004802   \n",
       "cash             327506428073.231201 -2099780000.000000 2775848000.000000   \n",
       "book_lev                   17.741251           0.000000          0.100052   \n",
       "st_debt_to_asset            7.868739           0.000000          0.064799   \n",
       "st_debt_to_sales      2633398.384287  -171534800.000000          0.034835   \n",
       "payab_to_sales        4834913.135067  -314937800.000000          1.036434   \n",
       "payab_to_asset             14.571247           0.000000          0.096941   \n",
       "receiv_to_sales      14376270.983953  -931133500.000000          1.924461   \n",
       "receiv_to_asset             8.010382           0.000000          0.165954   \n",
       "invent_to_sales       6205494.006283  -404215000.000000          0.734722   \n",
       "invent_to_asset             4.132014           0.000000          0.064230   \n",
       "investment                  0.236485          -0.246990          0.000000   \n",
       "n_ppe_to_asset             27.193827           0.000027          0.206462   \n",
       "\n",
       "                                75%                  max  \n",
       "log_sales                 24.140758            28.394941  \n",
       "size                      26.261181            31.575067  \n",
       "q                          4.984139           525.574284  \n",
       "cashflow                   0.018236             0.933472  \n",
       "cash             49308066000.000000 7049394000000.000000  \n",
       "book_lev                   1.660806           343.517369  \n",
       "st_debt_to_asset           1.047478           199.856054  \n",
       "st_debt_to_sales           6.300953        175928.956966  \n",
       "payab_to_sales             5.942739        176179.925000  \n",
       "payab_to_asset             0.530473           333.018647  \n",
       "receiv_to_sales           11.743125        625010.625000  \n",
       "receiv_to_asset            1.031640           145.685380  \n",
       "invent_to_sales            6.361718        299253.848750  \n",
       "invent_to_asset            0.563729            92.380435  \n",
       "investment                 0.014568             8.943148  \n",
       "n_ppe_to_asset             1.891779           479.687805  "
      ]
     },
     "execution_count": 140,
     "metadata": {},
     "output_type": "execute_result"
    }
   ],
   "source": [
    "summary = df.loc[(df[\"main_quater_cnt\"]==True) & (df[\"cashflow\"].notna()) & (df[\"sup_fin_tercile\"]==\"top\"), [\n",
    "     \"log_sales\", \"size\", \"q\", \"cashflow\", \"cash\", \"book_lev\", \n",
    "    \"st_debt_to_asset\", \"st_debt_to_sales\", \n",
    "    \"payab_to_sales\", \"payab_to_asset\", \"receiv_to_sales\", \"receiv_to_asset\", \"invent_to_sales\", \"invent_to_asset\", \n",
    "    \"investment\", \"n_ppe_to_asset\"\n",
    "]].describe(\n",
    "    include=\"all\"\n",
    ").T\n",
    "\n",
    "summary[\"count\"] = summary[\"count\"].astype(int)\n",
    "summary[[\"count\", \"mean\", \"50%\", \"std\", \"min\", \"25%\", \"75%\", \"max\"]]"
   ]
  },
  {
   "cell_type": "code",
   "execution_count": 142,
   "metadata": {},
   "outputs": [],
   "source": [
    "df.to_csv(\"summary_stat_delta_cashflow.csv\", index=False, encoding=\"utf8\")"
   ]
  },
  {
   "cell_type": "code",
   "execution_count": 143,
   "metadata": {},
   "outputs": [
    {
     "data": {
      "text/plain": [
       "Index(['date', 'firmcode', 'depre', 'age', 'n_acq_intangi', 'tangi', 'intangi',\n",
       "       'cash', 'payab', 'invent', 'receiv', 'st_debt', 'lt_debt', 't_debt',\n",
       "       'amort', 'defer_tax_debt', 'common_mktcap', 'prefer_mktcap', 'asset',\n",
       "       'exchange', 'ind_code', 'sales', 'n_acq_tangi', 'year', 'month',\n",
       "       'ebitda', 'n_ppe', 'asset_lag', 'cashflow', 'payab_to_sales',\n",
       "       'payab_to_asset', 'receiv_to_sales', 'receiv_to_asset',\n",
       "       'invent_to_sales', 'invent_to_asset', 'sup_fin', 'sup_fin_tercile',\n",
       "       'delta_cashflow', 'log_sales', 'size', 'book_lev', 'st_debt_to_asset',\n",
       "       'st_debt_to_sales', 'st_asset', 'capex', 'investment', 'n_ppe_to_asset',\n",
       "       'q', 'drop_size_dummy', 'cashflow_q1_mean', 'cashflow_q1_cnt',\n",
       "       'cashflow_q2_mean', 'cashflow_q2_cnt', 'cashflow_q3_mean',\n",
       "       'cashflow_q3_cnt', 'cashflow_q4_mean', 'cashflow_q4_cnt', 'main_quater',\n",
       "       'main_quater_cnt'],\n",
       "      dtype='object')"
      ]
     },
     "execution_count": 143,
     "metadata": {},
     "output_type": "execute_result"
    }
   ],
   "source": [
    "df.columns"
   ]
  },
  {
   "cell_type": "code",
   "execution_count": null,
   "metadata": {},
   "outputs": [],
   "source": []
  }
 ],
 "metadata": {
  "colab": {
   "provenance": []
  },
  "kernelspec": {
   "display_name": "Python 3",
   "language": "python",
   "name": "python3"
  },
  "language_info": {
   "codemirror_mode": {
    "name": "ipython",
    "version": 3
   },
   "file_extension": ".py",
   "mimetype": "text/x-python",
   "name": "python",
   "nbconvert_exporter": "python",
   "pygments_lexer": "ipython3",
   "version": "3.11.4"
  }
 },
 "nbformat": 4,
 "nbformat_minor": 0
}
